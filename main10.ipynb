{
  "nbformat": 4,
  "nbformat_minor": 0,
  "metadata": {
    "colab": {
      "name": "Untitled5.ipynb",
      "provenance": [],
      "include_colab_link": true
    },
    "kernelspec": {
      "name": "python3",
      "display_name": "Python 3"
    },
    "language_info": {
      "name": "python"
    },
    "accelerator": "GPU",
    "widgets": {
      "application/vnd.jupyter.widget-state+json": {
        "77dffbbd332a443baea4e26849b6e1f1": {
          "model_module": "@jupyter-widgets/controls",
          "model_name": "HBoxModel",
          "model_module_version": "1.5.0",
          "state": {
            "_view_name": "HBoxView",
            "_dom_classes": [],
            "_model_name": "HBoxModel",
            "_view_module": "@jupyter-widgets/controls",
            "_model_module_version": "1.5.0",
            "_view_count": null,
            "_view_module_version": "1.5.0",
            "box_style": "",
            "layout": "IPY_MODEL_fdec4da9932c48ebaa7f30b259b11203",
            "_model_module": "@jupyter-widgets/controls",
            "children": [
              "IPY_MODEL_0dca5c1df4d14deab4f80513cef061aa",
              "IPY_MODEL_cbe584a6e9e24811980af90afd02dfc8",
              "IPY_MODEL_9d83db15607d491a9d6f75ec9b4dfffc"
            ]
          }
        },
        "fdec4da9932c48ebaa7f30b259b11203": {
          "model_module": "@jupyter-widgets/base",
          "model_name": "LayoutModel",
          "model_module_version": "1.2.0",
          "state": {
            "_view_name": "LayoutView",
            "grid_template_rows": null,
            "right": null,
            "justify_content": null,
            "_view_module": "@jupyter-widgets/base",
            "overflow": null,
            "_model_module_version": "1.2.0",
            "_view_count": null,
            "flex_flow": null,
            "width": null,
            "min_width": null,
            "border": null,
            "align_items": null,
            "bottom": null,
            "_model_module": "@jupyter-widgets/base",
            "top": null,
            "grid_column": null,
            "overflow_y": null,
            "overflow_x": null,
            "grid_auto_flow": null,
            "grid_area": null,
            "grid_template_columns": null,
            "flex": null,
            "_model_name": "LayoutModel",
            "justify_items": null,
            "grid_row": null,
            "max_height": null,
            "align_content": null,
            "visibility": null,
            "align_self": null,
            "height": null,
            "min_height": null,
            "padding": null,
            "grid_auto_rows": null,
            "grid_gap": null,
            "max_width": null,
            "order": null,
            "_view_module_version": "1.2.0",
            "grid_template_areas": null,
            "object_position": null,
            "object_fit": null,
            "grid_auto_columns": null,
            "margin": null,
            "display": null,
            "left": null
          }
        },
        "0dca5c1df4d14deab4f80513cef061aa": {
          "model_module": "@jupyter-widgets/controls",
          "model_name": "HTMLModel",
          "model_module_version": "1.5.0",
          "state": {
            "_view_name": "HTMLView",
            "style": "IPY_MODEL_5698c2accd284fe7a848722dba425bb8",
            "_dom_classes": [],
            "description": "",
            "_model_name": "HTMLModel",
            "placeholder": "​",
            "_view_module": "@jupyter-widgets/controls",
            "_model_module_version": "1.5.0",
            "value": "",
            "_view_count": null,
            "_view_module_version": "1.5.0",
            "description_tooltip": null,
            "_model_module": "@jupyter-widgets/controls",
            "layout": "IPY_MODEL_591ec56007a046b9a5c384a53a1dcdf8"
          }
        },
        "cbe584a6e9e24811980af90afd02dfc8": {
          "model_module": "@jupyter-widgets/controls",
          "model_name": "FloatProgressModel",
          "model_module_version": "1.5.0",
          "state": {
            "_view_name": "ProgressView",
            "style": "IPY_MODEL_53804b7dcedc4db6ba8152fb7474fe59",
            "_dom_classes": [],
            "description": "",
            "_model_name": "FloatProgressModel",
            "bar_style": "success",
            "max": 9912422,
            "_view_module": "@jupyter-widgets/controls",
            "_model_module_version": "1.5.0",
            "value": 9912422,
            "_view_count": null,
            "_view_module_version": "1.5.0",
            "orientation": "horizontal",
            "min": 0,
            "description_tooltip": null,
            "_model_module": "@jupyter-widgets/controls",
            "layout": "IPY_MODEL_c29ab13cc1fd4e03baf37313d04148b3"
          }
        },
        "9d83db15607d491a9d6f75ec9b4dfffc": {
          "model_module": "@jupyter-widgets/controls",
          "model_name": "HTMLModel",
          "model_module_version": "1.5.0",
          "state": {
            "_view_name": "HTMLView",
            "style": "IPY_MODEL_9848a93b21fe406b8c8bf3bf0c0cb023",
            "_dom_classes": [],
            "description": "",
            "_model_name": "HTMLModel",
            "placeholder": "​",
            "_view_module": "@jupyter-widgets/controls",
            "_model_module_version": "1.5.0",
            "value": " 9913344/? [00:00&lt;00:00, 30718699.25it/s]",
            "_view_count": null,
            "_view_module_version": "1.5.0",
            "description_tooltip": null,
            "_model_module": "@jupyter-widgets/controls",
            "layout": "IPY_MODEL_0d608c86e5ee4e6f95f021b3debb733e"
          }
        },
        "5698c2accd284fe7a848722dba425bb8": {
          "model_module": "@jupyter-widgets/controls",
          "model_name": "DescriptionStyleModel",
          "model_module_version": "1.5.0",
          "state": {
            "_view_name": "StyleView",
            "_model_name": "DescriptionStyleModel",
            "description_width": "",
            "_view_module": "@jupyter-widgets/base",
            "_model_module_version": "1.5.0",
            "_view_count": null,
            "_view_module_version": "1.2.0",
            "_model_module": "@jupyter-widgets/controls"
          }
        },
        "591ec56007a046b9a5c384a53a1dcdf8": {
          "model_module": "@jupyter-widgets/base",
          "model_name": "LayoutModel",
          "model_module_version": "1.2.0",
          "state": {
            "_view_name": "LayoutView",
            "grid_template_rows": null,
            "right": null,
            "justify_content": null,
            "_view_module": "@jupyter-widgets/base",
            "overflow": null,
            "_model_module_version": "1.2.0",
            "_view_count": null,
            "flex_flow": null,
            "width": null,
            "min_width": null,
            "border": null,
            "align_items": null,
            "bottom": null,
            "_model_module": "@jupyter-widgets/base",
            "top": null,
            "grid_column": null,
            "overflow_y": null,
            "overflow_x": null,
            "grid_auto_flow": null,
            "grid_area": null,
            "grid_template_columns": null,
            "flex": null,
            "_model_name": "LayoutModel",
            "justify_items": null,
            "grid_row": null,
            "max_height": null,
            "align_content": null,
            "visibility": null,
            "align_self": null,
            "height": null,
            "min_height": null,
            "padding": null,
            "grid_auto_rows": null,
            "grid_gap": null,
            "max_width": null,
            "order": null,
            "_view_module_version": "1.2.0",
            "grid_template_areas": null,
            "object_position": null,
            "object_fit": null,
            "grid_auto_columns": null,
            "margin": null,
            "display": null,
            "left": null
          }
        },
        "53804b7dcedc4db6ba8152fb7474fe59": {
          "model_module": "@jupyter-widgets/controls",
          "model_name": "ProgressStyleModel",
          "model_module_version": "1.5.0",
          "state": {
            "_view_name": "StyleView",
            "_model_name": "ProgressStyleModel",
            "description_width": "",
            "_view_module": "@jupyter-widgets/base",
            "_model_module_version": "1.5.0",
            "_view_count": null,
            "_view_module_version": "1.2.0",
            "bar_color": null,
            "_model_module": "@jupyter-widgets/controls"
          }
        },
        "c29ab13cc1fd4e03baf37313d04148b3": {
          "model_module": "@jupyter-widgets/base",
          "model_name": "LayoutModel",
          "model_module_version": "1.2.0",
          "state": {
            "_view_name": "LayoutView",
            "grid_template_rows": null,
            "right": null,
            "justify_content": null,
            "_view_module": "@jupyter-widgets/base",
            "overflow": null,
            "_model_module_version": "1.2.0",
            "_view_count": null,
            "flex_flow": null,
            "width": null,
            "min_width": null,
            "border": null,
            "align_items": null,
            "bottom": null,
            "_model_module": "@jupyter-widgets/base",
            "top": null,
            "grid_column": null,
            "overflow_y": null,
            "overflow_x": null,
            "grid_auto_flow": null,
            "grid_area": null,
            "grid_template_columns": null,
            "flex": null,
            "_model_name": "LayoutModel",
            "justify_items": null,
            "grid_row": null,
            "max_height": null,
            "align_content": null,
            "visibility": null,
            "align_self": null,
            "height": null,
            "min_height": null,
            "padding": null,
            "grid_auto_rows": null,
            "grid_gap": null,
            "max_width": null,
            "order": null,
            "_view_module_version": "1.2.0",
            "grid_template_areas": null,
            "object_position": null,
            "object_fit": null,
            "grid_auto_columns": null,
            "margin": null,
            "display": null,
            "left": null
          }
        },
        "9848a93b21fe406b8c8bf3bf0c0cb023": {
          "model_module": "@jupyter-widgets/controls",
          "model_name": "DescriptionStyleModel",
          "model_module_version": "1.5.0",
          "state": {
            "_view_name": "StyleView",
            "_model_name": "DescriptionStyleModel",
            "description_width": "",
            "_view_module": "@jupyter-widgets/base",
            "_model_module_version": "1.5.0",
            "_view_count": null,
            "_view_module_version": "1.2.0",
            "_model_module": "@jupyter-widgets/controls"
          }
        },
        "0d608c86e5ee4e6f95f021b3debb733e": {
          "model_module": "@jupyter-widgets/base",
          "model_name": "LayoutModel",
          "model_module_version": "1.2.0",
          "state": {
            "_view_name": "LayoutView",
            "grid_template_rows": null,
            "right": null,
            "justify_content": null,
            "_view_module": "@jupyter-widgets/base",
            "overflow": null,
            "_model_module_version": "1.2.0",
            "_view_count": null,
            "flex_flow": null,
            "width": null,
            "min_width": null,
            "border": null,
            "align_items": null,
            "bottom": null,
            "_model_module": "@jupyter-widgets/base",
            "top": null,
            "grid_column": null,
            "overflow_y": null,
            "overflow_x": null,
            "grid_auto_flow": null,
            "grid_area": null,
            "grid_template_columns": null,
            "flex": null,
            "_model_name": "LayoutModel",
            "justify_items": null,
            "grid_row": null,
            "max_height": null,
            "align_content": null,
            "visibility": null,
            "align_self": null,
            "height": null,
            "min_height": null,
            "padding": null,
            "grid_auto_rows": null,
            "grid_gap": null,
            "max_width": null,
            "order": null,
            "_view_module_version": "1.2.0",
            "grid_template_areas": null,
            "object_position": null,
            "object_fit": null,
            "grid_auto_columns": null,
            "margin": null,
            "display": null,
            "left": null
          }
        },
        "f943029328ec45f6a4350b69b53a4c75": {
          "model_module": "@jupyter-widgets/controls",
          "model_name": "HBoxModel",
          "model_module_version": "1.5.0",
          "state": {
            "_view_name": "HBoxView",
            "_dom_classes": [],
            "_model_name": "HBoxModel",
            "_view_module": "@jupyter-widgets/controls",
            "_model_module_version": "1.5.0",
            "_view_count": null,
            "_view_module_version": "1.5.0",
            "box_style": "",
            "layout": "IPY_MODEL_eab29b64bba04ecb8a268d5cc33cf649",
            "_model_module": "@jupyter-widgets/controls",
            "children": [
              "IPY_MODEL_b05e96d91b3c4cb8a0bb4f5b9627ee6e",
              "IPY_MODEL_7e5c5c1797d94b479592b5a6ebd9d923",
              "IPY_MODEL_e233745833c64acd81731ad647856d21"
            ]
          }
        },
        "eab29b64bba04ecb8a268d5cc33cf649": {
          "model_module": "@jupyter-widgets/base",
          "model_name": "LayoutModel",
          "model_module_version": "1.2.0",
          "state": {
            "_view_name": "LayoutView",
            "grid_template_rows": null,
            "right": null,
            "justify_content": null,
            "_view_module": "@jupyter-widgets/base",
            "overflow": null,
            "_model_module_version": "1.2.0",
            "_view_count": null,
            "flex_flow": null,
            "width": null,
            "min_width": null,
            "border": null,
            "align_items": null,
            "bottom": null,
            "_model_module": "@jupyter-widgets/base",
            "top": null,
            "grid_column": null,
            "overflow_y": null,
            "overflow_x": null,
            "grid_auto_flow": null,
            "grid_area": null,
            "grid_template_columns": null,
            "flex": null,
            "_model_name": "LayoutModel",
            "justify_items": null,
            "grid_row": null,
            "max_height": null,
            "align_content": null,
            "visibility": null,
            "align_self": null,
            "height": null,
            "min_height": null,
            "padding": null,
            "grid_auto_rows": null,
            "grid_gap": null,
            "max_width": null,
            "order": null,
            "_view_module_version": "1.2.0",
            "grid_template_areas": null,
            "object_position": null,
            "object_fit": null,
            "grid_auto_columns": null,
            "margin": null,
            "display": null,
            "left": null
          }
        },
        "b05e96d91b3c4cb8a0bb4f5b9627ee6e": {
          "model_module": "@jupyter-widgets/controls",
          "model_name": "HTMLModel",
          "model_module_version": "1.5.0",
          "state": {
            "_view_name": "HTMLView",
            "style": "IPY_MODEL_a093c3c644a44f23a03e6b000aaf6d16",
            "_dom_classes": [],
            "description": "",
            "_model_name": "HTMLModel",
            "placeholder": "​",
            "_view_module": "@jupyter-widgets/controls",
            "_model_module_version": "1.5.0",
            "value": "",
            "_view_count": null,
            "_view_module_version": "1.5.0",
            "description_tooltip": null,
            "_model_module": "@jupyter-widgets/controls",
            "layout": "IPY_MODEL_12a18b2639aa4ee282ac2e70f00cdb2e"
          }
        },
        "7e5c5c1797d94b479592b5a6ebd9d923": {
          "model_module": "@jupyter-widgets/controls",
          "model_name": "FloatProgressModel",
          "model_module_version": "1.5.0",
          "state": {
            "_view_name": "ProgressView",
            "style": "IPY_MODEL_c07578ef0c6d45dd8c5c320cfd599c11",
            "_dom_classes": [],
            "description": "",
            "_model_name": "FloatProgressModel",
            "bar_style": "success",
            "max": 28881,
            "_view_module": "@jupyter-widgets/controls",
            "_model_module_version": "1.5.0",
            "value": 28881,
            "_view_count": null,
            "_view_module_version": "1.5.0",
            "orientation": "horizontal",
            "min": 0,
            "description_tooltip": null,
            "_model_module": "@jupyter-widgets/controls",
            "layout": "IPY_MODEL_04bc2bafceee43bd87662d564957bd8f"
          }
        },
        "e233745833c64acd81731ad647856d21": {
          "model_module": "@jupyter-widgets/controls",
          "model_name": "HTMLModel",
          "model_module_version": "1.5.0",
          "state": {
            "_view_name": "HTMLView",
            "style": "IPY_MODEL_2ec16d1e55aa40a89d548a920889e416",
            "_dom_classes": [],
            "description": "",
            "_model_name": "HTMLModel",
            "placeholder": "​",
            "_view_module": "@jupyter-widgets/controls",
            "_model_module_version": "1.5.0",
            "value": " 29696/? [00:00&lt;00:00, 613723.97it/s]",
            "_view_count": null,
            "_view_module_version": "1.5.0",
            "description_tooltip": null,
            "_model_module": "@jupyter-widgets/controls",
            "layout": "IPY_MODEL_d4a5ecdf53df46838fdc997d40727479"
          }
        },
        "a093c3c644a44f23a03e6b000aaf6d16": {
          "model_module": "@jupyter-widgets/controls",
          "model_name": "DescriptionStyleModel",
          "model_module_version": "1.5.0",
          "state": {
            "_view_name": "StyleView",
            "_model_name": "DescriptionStyleModel",
            "description_width": "",
            "_view_module": "@jupyter-widgets/base",
            "_model_module_version": "1.5.0",
            "_view_count": null,
            "_view_module_version": "1.2.0",
            "_model_module": "@jupyter-widgets/controls"
          }
        },
        "12a18b2639aa4ee282ac2e70f00cdb2e": {
          "model_module": "@jupyter-widgets/base",
          "model_name": "LayoutModel",
          "model_module_version": "1.2.0",
          "state": {
            "_view_name": "LayoutView",
            "grid_template_rows": null,
            "right": null,
            "justify_content": null,
            "_view_module": "@jupyter-widgets/base",
            "overflow": null,
            "_model_module_version": "1.2.0",
            "_view_count": null,
            "flex_flow": null,
            "width": null,
            "min_width": null,
            "border": null,
            "align_items": null,
            "bottom": null,
            "_model_module": "@jupyter-widgets/base",
            "top": null,
            "grid_column": null,
            "overflow_y": null,
            "overflow_x": null,
            "grid_auto_flow": null,
            "grid_area": null,
            "grid_template_columns": null,
            "flex": null,
            "_model_name": "LayoutModel",
            "justify_items": null,
            "grid_row": null,
            "max_height": null,
            "align_content": null,
            "visibility": null,
            "align_self": null,
            "height": null,
            "min_height": null,
            "padding": null,
            "grid_auto_rows": null,
            "grid_gap": null,
            "max_width": null,
            "order": null,
            "_view_module_version": "1.2.0",
            "grid_template_areas": null,
            "object_position": null,
            "object_fit": null,
            "grid_auto_columns": null,
            "margin": null,
            "display": null,
            "left": null
          }
        },
        "c07578ef0c6d45dd8c5c320cfd599c11": {
          "model_module": "@jupyter-widgets/controls",
          "model_name": "ProgressStyleModel",
          "model_module_version": "1.5.0",
          "state": {
            "_view_name": "StyleView",
            "_model_name": "ProgressStyleModel",
            "description_width": "",
            "_view_module": "@jupyter-widgets/base",
            "_model_module_version": "1.5.0",
            "_view_count": null,
            "_view_module_version": "1.2.0",
            "bar_color": null,
            "_model_module": "@jupyter-widgets/controls"
          }
        },
        "04bc2bafceee43bd87662d564957bd8f": {
          "model_module": "@jupyter-widgets/base",
          "model_name": "LayoutModel",
          "model_module_version": "1.2.0",
          "state": {
            "_view_name": "LayoutView",
            "grid_template_rows": null,
            "right": null,
            "justify_content": null,
            "_view_module": "@jupyter-widgets/base",
            "overflow": null,
            "_model_module_version": "1.2.0",
            "_view_count": null,
            "flex_flow": null,
            "width": null,
            "min_width": null,
            "border": null,
            "align_items": null,
            "bottom": null,
            "_model_module": "@jupyter-widgets/base",
            "top": null,
            "grid_column": null,
            "overflow_y": null,
            "overflow_x": null,
            "grid_auto_flow": null,
            "grid_area": null,
            "grid_template_columns": null,
            "flex": null,
            "_model_name": "LayoutModel",
            "justify_items": null,
            "grid_row": null,
            "max_height": null,
            "align_content": null,
            "visibility": null,
            "align_self": null,
            "height": null,
            "min_height": null,
            "padding": null,
            "grid_auto_rows": null,
            "grid_gap": null,
            "max_width": null,
            "order": null,
            "_view_module_version": "1.2.0",
            "grid_template_areas": null,
            "object_position": null,
            "object_fit": null,
            "grid_auto_columns": null,
            "margin": null,
            "display": null,
            "left": null
          }
        },
        "2ec16d1e55aa40a89d548a920889e416": {
          "model_module": "@jupyter-widgets/controls",
          "model_name": "DescriptionStyleModel",
          "model_module_version": "1.5.0",
          "state": {
            "_view_name": "StyleView",
            "_model_name": "DescriptionStyleModel",
            "description_width": "",
            "_view_module": "@jupyter-widgets/base",
            "_model_module_version": "1.5.0",
            "_view_count": null,
            "_view_module_version": "1.2.0",
            "_model_module": "@jupyter-widgets/controls"
          }
        },
        "d4a5ecdf53df46838fdc997d40727479": {
          "model_module": "@jupyter-widgets/base",
          "model_name": "LayoutModel",
          "model_module_version": "1.2.0",
          "state": {
            "_view_name": "LayoutView",
            "grid_template_rows": null,
            "right": null,
            "justify_content": null,
            "_view_module": "@jupyter-widgets/base",
            "overflow": null,
            "_model_module_version": "1.2.0",
            "_view_count": null,
            "flex_flow": null,
            "width": null,
            "min_width": null,
            "border": null,
            "align_items": null,
            "bottom": null,
            "_model_module": "@jupyter-widgets/base",
            "top": null,
            "grid_column": null,
            "overflow_y": null,
            "overflow_x": null,
            "grid_auto_flow": null,
            "grid_area": null,
            "grid_template_columns": null,
            "flex": null,
            "_model_name": "LayoutModel",
            "justify_items": null,
            "grid_row": null,
            "max_height": null,
            "align_content": null,
            "visibility": null,
            "align_self": null,
            "height": null,
            "min_height": null,
            "padding": null,
            "grid_auto_rows": null,
            "grid_gap": null,
            "max_width": null,
            "order": null,
            "_view_module_version": "1.2.0",
            "grid_template_areas": null,
            "object_position": null,
            "object_fit": null,
            "grid_auto_columns": null,
            "margin": null,
            "display": null,
            "left": null
          }
        },
        "f8e1e943cedc4e2db3cb795aee374679": {
          "model_module": "@jupyter-widgets/controls",
          "model_name": "HBoxModel",
          "model_module_version": "1.5.0",
          "state": {
            "_view_name": "HBoxView",
            "_dom_classes": [],
            "_model_name": "HBoxModel",
            "_view_module": "@jupyter-widgets/controls",
            "_model_module_version": "1.5.0",
            "_view_count": null,
            "_view_module_version": "1.5.0",
            "box_style": "",
            "layout": "IPY_MODEL_bd9881fcf6af4c5084c02b6f8809861f",
            "_model_module": "@jupyter-widgets/controls",
            "children": [
              "IPY_MODEL_4920e7f957ed486fb0b9ab4edc1776f6",
              "IPY_MODEL_16022d7950cd4c289f2130064084c9b5",
              "IPY_MODEL_6d42aa61fcf348388d330cae4e3af5e7"
            ]
          }
        },
        "bd9881fcf6af4c5084c02b6f8809861f": {
          "model_module": "@jupyter-widgets/base",
          "model_name": "LayoutModel",
          "model_module_version": "1.2.0",
          "state": {
            "_view_name": "LayoutView",
            "grid_template_rows": null,
            "right": null,
            "justify_content": null,
            "_view_module": "@jupyter-widgets/base",
            "overflow": null,
            "_model_module_version": "1.2.0",
            "_view_count": null,
            "flex_flow": null,
            "width": null,
            "min_width": null,
            "border": null,
            "align_items": null,
            "bottom": null,
            "_model_module": "@jupyter-widgets/base",
            "top": null,
            "grid_column": null,
            "overflow_y": null,
            "overflow_x": null,
            "grid_auto_flow": null,
            "grid_area": null,
            "grid_template_columns": null,
            "flex": null,
            "_model_name": "LayoutModel",
            "justify_items": null,
            "grid_row": null,
            "max_height": null,
            "align_content": null,
            "visibility": null,
            "align_self": null,
            "height": null,
            "min_height": null,
            "padding": null,
            "grid_auto_rows": null,
            "grid_gap": null,
            "max_width": null,
            "order": null,
            "_view_module_version": "1.2.0",
            "grid_template_areas": null,
            "object_position": null,
            "object_fit": null,
            "grid_auto_columns": null,
            "margin": null,
            "display": null,
            "left": null
          }
        },
        "4920e7f957ed486fb0b9ab4edc1776f6": {
          "model_module": "@jupyter-widgets/controls",
          "model_name": "HTMLModel",
          "model_module_version": "1.5.0",
          "state": {
            "_view_name": "HTMLView",
            "style": "IPY_MODEL_c66aae821632420ea247c6a0282ab9a5",
            "_dom_classes": [],
            "description": "",
            "_model_name": "HTMLModel",
            "placeholder": "​",
            "_view_module": "@jupyter-widgets/controls",
            "_model_module_version": "1.5.0",
            "value": "",
            "_view_count": null,
            "_view_module_version": "1.5.0",
            "description_tooltip": null,
            "_model_module": "@jupyter-widgets/controls",
            "layout": "IPY_MODEL_dddccf5295524e4d900b1003cb842fbd"
          }
        },
        "16022d7950cd4c289f2130064084c9b5": {
          "model_module": "@jupyter-widgets/controls",
          "model_name": "FloatProgressModel",
          "model_module_version": "1.5.0",
          "state": {
            "_view_name": "ProgressView",
            "style": "IPY_MODEL_4581c903c56f4964bee33ecedb37a491",
            "_dom_classes": [],
            "description": "",
            "_model_name": "FloatProgressModel",
            "bar_style": "success",
            "max": 1648877,
            "_view_module": "@jupyter-widgets/controls",
            "_model_module_version": "1.5.0",
            "value": 1648877,
            "_view_count": null,
            "_view_module_version": "1.5.0",
            "orientation": "horizontal",
            "min": 0,
            "description_tooltip": null,
            "_model_module": "@jupyter-widgets/controls",
            "layout": "IPY_MODEL_e3e2de33fb8c4beaa98c114831eda4db"
          }
        },
        "6d42aa61fcf348388d330cae4e3af5e7": {
          "model_module": "@jupyter-widgets/controls",
          "model_name": "HTMLModel",
          "model_module_version": "1.5.0",
          "state": {
            "_view_name": "HTMLView",
            "style": "IPY_MODEL_6ff667a4942247d6b49ff10ddf9aedee",
            "_dom_classes": [],
            "description": "",
            "_model_name": "HTMLModel",
            "placeholder": "​",
            "_view_module": "@jupyter-widgets/controls",
            "_model_module_version": "1.5.0",
            "value": " 1649664/? [00:00&lt;00:00, 6407573.83it/s]",
            "_view_count": null,
            "_view_module_version": "1.5.0",
            "description_tooltip": null,
            "_model_module": "@jupyter-widgets/controls",
            "layout": "IPY_MODEL_e393f290bc9245b0b3f6c6c81e7c4c85"
          }
        },
        "c66aae821632420ea247c6a0282ab9a5": {
          "model_module": "@jupyter-widgets/controls",
          "model_name": "DescriptionStyleModel",
          "model_module_version": "1.5.0",
          "state": {
            "_view_name": "StyleView",
            "_model_name": "DescriptionStyleModel",
            "description_width": "",
            "_view_module": "@jupyter-widgets/base",
            "_model_module_version": "1.5.0",
            "_view_count": null,
            "_view_module_version": "1.2.0",
            "_model_module": "@jupyter-widgets/controls"
          }
        },
        "dddccf5295524e4d900b1003cb842fbd": {
          "model_module": "@jupyter-widgets/base",
          "model_name": "LayoutModel",
          "model_module_version": "1.2.0",
          "state": {
            "_view_name": "LayoutView",
            "grid_template_rows": null,
            "right": null,
            "justify_content": null,
            "_view_module": "@jupyter-widgets/base",
            "overflow": null,
            "_model_module_version": "1.2.0",
            "_view_count": null,
            "flex_flow": null,
            "width": null,
            "min_width": null,
            "border": null,
            "align_items": null,
            "bottom": null,
            "_model_module": "@jupyter-widgets/base",
            "top": null,
            "grid_column": null,
            "overflow_y": null,
            "overflow_x": null,
            "grid_auto_flow": null,
            "grid_area": null,
            "grid_template_columns": null,
            "flex": null,
            "_model_name": "LayoutModel",
            "justify_items": null,
            "grid_row": null,
            "max_height": null,
            "align_content": null,
            "visibility": null,
            "align_self": null,
            "height": null,
            "min_height": null,
            "padding": null,
            "grid_auto_rows": null,
            "grid_gap": null,
            "max_width": null,
            "order": null,
            "_view_module_version": "1.2.0",
            "grid_template_areas": null,
            "object_position": null,
            "object_fit": null,
            "grid_auto_columns": null,
            "margin": null,
            "display": null,
            "left": null
          }
        },
        "4581c903c56f4964bee33ecedb37a491": {
          "model_module": "@jupyter-widgets/controls",
          "model_name": "ProgressStyleModel",
          "model_module_version": "1.5.0",
          "state": {
            "_view_name": "StyleView",
            "_model_name": "ProgressStyleModel",
            "description_width": "",
            "_view_module": "@jupyter-widgets/base",
            "_model_module_version": "1.5.0",
            "_view_count": null,
            "_view_module_version": "1.2.0",
            "bar_color": null,
            "_model_module": "@jupyter-widgets/controls"
          }
        },
        "e3e2de33fb8c4beaa98c114831eda4db": {
          "model_module": "@jupyter-widgets/base",
          "model_name": "LayoutModel",
          "model_module_version": "1.2.0",
          "state": {
            "_view_name": "LayoutView",
            "grid_template_rows": null,
            "right": null,
            "justify_content": null,
            "_view_module": "@jupyter-widgets/base",
            "overflow": null,
            "_model_module_version": "1.2.0",
            "_view_count": null,
            "flex_flow": null,
            "width": null,
            "min_width": null,
            "border": null,
            "align_items": null,
            "bottom": null,
            "_model_module": "@jupyter-widgets/base",
            "top": null,
            "grid_column": null,
            "overflow_y": null,
            "overflow_x": null,
            "grid_auto_flow": null,
            "grid_area": null,
            "grid_template_columns": null,
            "flex": null,
            "_model_name": "LayoutModel",
            "justify_items": null,
            "grid_row": null,
            "max_height": null,
            "align_content": null,
            "visibility": null,
            "align_self": null,
            "height": null,
            "min_height": null,
            "padding": null,
            "grid_auto_rows": null,
            "grid_gap": null,
            "max_width": null,
            "order": null,
            "_view_module_version": "1.2.0",
            "grid_template_areas": null,
            "object_position": null,
            "object_fit": null,
            "grid_auto_columns": null,
            "margin": null,
            "display": null,
            "left": null
          }
        },
        "6ff667a4942247d6b49ff10ddf9aedee": {
          "model_module": "@jupyter-widgets/controls",
          "model_name": "DescriptionStyleModel",
          "model_module_version": "1.5.0",
          "state": {
            "_view_name": "StyleView",
            "_model_name": "DescriptionStyleModel",
            "description_width": "",
            "_view_module": "@jupyter-widgets/base",
            "_model_module_version": "1.5.0",
            "_view_count": null,
            "_view_module_version": "1.2.0",
            "_model_module": "@jupyter-widgets/controls"
          }
        },
        "e393f290bc9245b0b3f6c6c81e7c4c85": {
          "model_module": "@jupyter-widgets/base",
          "model_name": "LayoutModel",
          "model_module_version": "1.2.0",
          "state": {
            "_view_name": "LayoutView",
            "grid_template_rows": null,
            "right": null,
            "justify_content": null,
            "_view_module": "@jupyter-widgets/base",
            "overflow": null,
            "_model_module_version": "1.2.0",
            "_view_count": null,
            "flex_flow": null,
            "width": null,
            "min_width": null,
            "border": null,
            "align_items": null,
            "bottom": null,
            "_model_module": "@jupyter-widgets/base",
            "top": null,
            "grid_column": null,
            "overflow_y": null,
            "overflow_x": null,
            "grid_auto_flow": null,
            "grid_area": null,
            "grid_template_columns": null,
            "flex": null,
            "_model_name": "LayoutModel",
            "justify_items": null,
            "grid_row": null,
            "max_height": null,
            "align_content": null,
            "visibility": null,
            "align_self": null,
            "height": null,
            "min_height": null,
            "padding": null,
            "grid_auto_rows": null,
            "grid_gap": null,
            "max_width": null,
            "order": null,
            "_view_module_version": "1.2.0",
            "grid_template_areas": null,
            "object_position": null,
            "object_fit": null,
            "grid_auto_columns": null,
            "margin": null,
            "display": null,
            "left": null
          }
        },
        "8e94f8ca1afa4b35a254d8e411d84e5c": {
          "model_module": "@jupyter-widgets/controls",
          "model_name": "HBoxModel",
          "model_module_version": "1.5.0",
          "state": {
            "_view_name": "HBoxView",
            "_dom_classes": [],
            "_model_name": "HBoxModel",
            "_view_module": "@jupyter-widgets/controls",
            "_model_module_version": "1.5.0",
            "_view_count": null,
            "_view_module_version": "1.5.0",
            "box_style": "",
            "layout": "IPY_MODEL_86460baa349c451babd6676b02431c28",
            "_model_module": "@jupyter-widgets/controls",
            "children": [
              "IPY_MODEL_a8f7bdb49ed643bc90ee7e845996d75d",
              "IPY_MODEL_00ade91b93484c1e96ee422778b9a977",
              "IPY_MODEL_81f606e16e394b1da4a9285f6eef2e69"
            ]
          }
        },
        "86460baa349c451babd6676b02431c28": {
          "model_module": "@jupyter-widgets/base",
          "model_name": "LayoutModel",
          "model_module_version": "1.2.0",
          "state": {
            "_view_name": "LayoutView",
            "grid_template_rows": null,
            "right": null,
            "justify_content": null,
            "_view_module": "@jupyter-widgets/base",
            "overflow": null,
            "_model_module_version": "1.2.0",
            "_view_count": null,
            "flex_flow": null,
            "width": null,
            "min_width": null,
            "border": null,
            "align_items": null,
            "bottom": null,
            "_model_module": "@jupyter-widgets/base",
            "top": null,
            "grid_column": null,
            "overflow_y": null,
            "overflow_x": null,
            "grid_auto_flow": null,
            "grid_area": null,
            "grid_template_columns": null,
            "flex": null,
            "_model_name": "LayoutModel",
            "justify_items": null,
            "grid_row": null,
            "max_height": null,
            "align_content": null,
            "visibility": null,
            "align_self": null,
            "height": null,
            "min_height": null,
            "padding": null,
            "grid_auto_rows": null,
            "grid_gap": null,
            "max_width": null,
            "order": null,
            "_view_module_version": "1.2.0",
            "grid_template_areas": null,
            "object_position": null,
            "object_fit": null,
            "grid_auto_columns": null,
            "margin": null,
            "display": null,
            "left": null
          }
        },
        "a8f7bdb49ed643bc90ee7e845996d75d": {
          "model_module": "@jupyter-widgets/controls",
          "model_name": "HTMLModel",
          "model_module_version": "1.5.0",
          "state": {
            "_view_name": "HTMLView",
            "style": "IPY_MODEL_e46176303e0d4053a06ba179e28c2518",
            "_dom_classes": [],
            "description": "",
            "_model_name": "HTMLModel",
            "placeholder": "​",
            "_view_module": "@jupyter-widgets/controls",
            "_model_module_version": "1.5.0",
            "value": "",
            "_view_count": null,
            "_view_module_version": "1.5.0",
            "description_tooltip": null,
            "_model_module": "@jupyter-widgets/controls",
            "layout": "IPY_MODEL_56bdce11e6cd4b2e8c2ac174b36c628c"
          }
        },
        "00ade91b93484c1e96ee422778b9a977": {
          "model_module": "@jupyter-widgets/controls",
          "model_name": "FloatProgressModel",
          "model_module_version": "1.5.0",
          "state": {
            "_view_name": "ProgressView",
            "style": "IPY_MODEL_1f91e22e0b03490a9bafb54017dafc43",
            "_dom_classes": [],
            "description": "",
            "_model_name": "FloatProgressModel",
            "bar_style": "success",
            "max": 4542,
            "_view_module": "@jupyter-widgets/controls",
            "_model_module_version": "1.5.0",
            "value": 4542,
            "_view_count": null,
            "_view_module_version": "1.5.0",
            "orientation": "horizontal",
            "min": 0,
            "description_tooltip": null,
            "_model_module": "@jupyter-widgets/controls",
            "layout": "IPY_MODEL_b945dffda1c748eb8351e6db2db81cd5"
          }
        },
        "81f606e16e394b1da4a9285f6eef2e69": {
          "model_module": "@jupyter-widgets/controls",
          "model_name": "HTMLModel",
          "model_module_version": "1.5.0",
          "state": {
            "_view_name": "HTMLView",
            "style": "IPY_MODEL_fe9cd8babbc544b98ec3e06e80758327",
            "_dom_classes": [],
            "description": "",
            "_model_name": "HTMLModel",
            "placeholder": "​",
            "_view_module": "@jupyter-widgets/controls",
            "_model_module_version": "1.5.0",
            "value": " 5120/? [00:00&lt;00:00, 131702.22it/s]",
            "_view_count": null,
            "_view_module_version": "1.5.0",
            "description_tooltip": null,
            "_model_module": "@jupyter-widgets/controls",
            "layout": "IPY_MODEL_7e6bc4d29d224c229a677dddd4e70316"
          }
        },
        "e46176303e0d4053a06ba179e28c2518": {
          "model_module": "@jupyter-widgets/controls",
          "model_name": "DescriptionStyleModel",
          "model_module_version": "1.5.0",
          "state": {
            "_view_name": "StyleView",
            "_model_name": "DescriptionStyleModel",
            "description_width": "",
            "_view_module": "@jupyter-widgets/base",
            "_model_module_version": "1.5.0",
            "_view_count": null,
            "_view_module_version": "1.2.0",
            "_model_module": "@jupyter-widgets/controls"
          }
        },
        "56bdce11e6cd4b2e8c2ac174b36c628c": {
          "model_module": "@jupyter-widgets/base",
          "model_name": "LayoutModel",
          "model_module_version": "1.2.0",
          "state": {
            "_view_name": "LayoutView",
            "grid_template_rows": null,
            "right": null,
            "justify_content": null,
            "_view_module": "@jupyter-widgets/base",
            "overflow": null,
            "_model_module_version": "1.2.0",
            "_view_count": null,
            "flex_flow": null,
            "width": null,
            "min_width": null,
            "border": null,
            "align_items": null,
            "bottom": null,
            "_model_module": "@jupyter-widgets/base",
            "top": null,
            "grid_column": null,
            "overflow_y": null,
            "overflow_x": null,
            "grid_auto_flow": null,
            "grid_area": null,
            "grid_template_columns": null,
            "flex": null,
            "_model_name": "LayoutModel",
            "justify_items": null,
            "grid_row": null,
            "max_height": null,
            "align_content": null,
            "visibility": null,
            "align_self": null,
            "height": null,
            "min_height": null,
            "padding": null,
            "grid_auto_rows": null,
            "grid_gap": null,
            "max_width": null,
            "order": null,
            "_view_module_version": "1.2.0",
            "grid_template_areas": null,
            "object_position": null,
            "object_fit": null,
            "grid_auto_columns": null,
            "margin": null,
            "display": null,
            "left": null
          }
        },
        "1f91e22e0b03490a9bafb54017dafc43": {
          "model_module": "@jupyter-widgets/controls",
          "model_name": "ProgressStyleModel",
          "model_module_version": "1.5.0",
          "state": {
            "_view_name": "StyleView",
            "_model_name": "ProgressStyleModel",
            "description_width": "",
            "_view_module": "@jupyter-widgets/base",
            "_model_module_version": "1.5.0",
            "_view_count": null,
            "_view_module_version": "1.2.0",
            "bar_color": null,
            "_model_module": "@jupyter-widgets/controls"
          }
        },
        "b945dffda1c748eb8351e6db2db81cd5": {
          "model_module": "@jupyter-widgets/base",
          "model_name": "LayoutModel",
          "model_module_version": "1.2.0",
          "state": {
            "_view_name": "LayoutView",
            "grid_template_rows": null,
            "right": null,
            "justify_content": null,
            "_view_module": "@jupyter-widgets/base",
            "overflow": null,
            "_model_module_version": "1.2.0",
            "_view_count": null,
            "flex_flow": null,
            "width": null,
            "min_width": null,
            "border": null,
            "align_items": null,
            "bottom": null,
            "_model_module": "@jupyter-widgets/base",
            "top": null,
            "grid_column": null,
            "overflow_y": null,
            "overflow_x": null,
            "grid_auto_flow": null,
            "grid_area": null,
            "grid_template_columns": null,
            "flex": null,
            "_model_name": "LayoutModel",
            "justify_items": null,
            "grid_row": null,
            "max_height": null,
            "align_content": null,
            "visibility": null,
            "align_self": null,
            "height": null,
            "min_height": null,
            "padding": null,
            "grid_auto_rows": null,
            "grid_gap": null,
            "max_width": null,
            "order": null,
            "_view_module_version": "1.2.0",
            "grid_template_areas": null,
            "object_position": null,
            "object_fit": null,
            "grid_auto_columns": null,
            "margin": null,
            "display": null,
            "left": null
          }
        },
        "fe9cd8babbc544b98ec3e06e80758327": {
          "model_module": "@jupyter-widgets/controls",
          "model_name": "DescriptionStyleModel",
          "model_module_version": "1.5.0",
          "state": {
            "_view_name": "StyleView",
            "_model_name": "DescriptionStyleModel",
            "description_width": "",
            "_view_module": "@jupyter-widgets/base",
            "_model_module_version": "1.5.0",
            "_view_count": null,
            "_view_module_version": "1.2.0",
            "_model_module": "@jupyter-widgets/controls"
          }
        },
        "7e6bc4d29d224c229a677dddd4e70316": {
          "model_module": "@jupyter-widgets/base",
          "model_name": "LayoutModel",
          "model_module_version": "1.2.0",
          "state": {
            "_view_name": "LayoutView",
            "grid_template_rows": null,
            "right": null,
            "justify_content": null,
            "_view_module": "@jupyter-widgets/base",
            "overflow": null,
            "_model_module_version": "1.2.0",
            "_view_count": null,
            "flex_flow": null,
            "width": null,
            "min_width": null,
            "border": null,
            "align_items": null,
            "bottom": null,
            "_model_module": "@jupyter-widgets/base",
            "top": null,
            "grid_column": null,
            "overflow_y": null,
            "overflow_x": null,
            "grid_auto_flow": null,
            "grid_area": null,
            "grid_template_columns": null,
            "flex": null,
            "_model_name": "LayoutModel",
            "justify_items": null,
            "grid_row": null,
            "max_height": null,
            "align_content": null,
            "visibility": null,
            "align_self": null,
            "height": null,
            "min_height": null,
            "padding": null,
            "grid_auto_rows": null,
            "grid_gap": null,
            "max_width": null,
            "order": null,
            "_view_module_version": "1.2.0",
            "grid_template_areas": null,
            "object_position": null,
            "object_fit": null,
            "grid_auto_columns": null,
            "margin": null,
            "display": null,
            "left": null
          }
        }
      }
    }
  },
  "cells": [
    {
      "cell_type": "markdown",
      "metadata": {
        "id": "view-in-github",
        "colab_type": "text"
      },
      "source": [
        "<a href=\"https://colab.research.google.com/github/guyyariv/DL_ex3/blob/master/main10.ipynb\" target=\"_parent\"><img src=\"https://colab.research.google.com/assets/colab-badge.svg\" alt=\"Open In Colab\"/></a>"
      ]
    },
    {
      "cell_type": "code",
      "execution_count": 2,
      "metadata": {
        "id": "Ws54rEXFwINa"
      },
      "outputs": [],
      "source": [
        "import copy\n",
        "import os\n",
        "import torch\n",
        "import torch.nn as nn\n",
        "import numpy as np\n",
        "import torchvision\n",
        "from torch.autograd import Variable\n",
        "from torch.utils.data import DataLoader\n",
        "from torchvision.utils import save_image\n",
        "from tqdm import tqdm\n",
        "import imageio\n",
        "import torchvision.transforms as transforms\n",
        "import matplotlib.pyplot as plt\n",
        "from torchvision.utils import make_grid\n",
        "import torchvision.datasets as dset\n",
        "import torchvision.transforms as transforms\n",
        "import torch.nn.functional as F\n",
        "import torch.optim as optim\n",
        "## load mnist dataset\n",
        "use_cuda = torch.cuda.is_available()\n",
        "device = torch.device(\"cuda:0\" if torch.cuda.is_available() else \"cpu\")"
      ]
    },
    {
      "cell_type": "markdown",
      "source": [
        "# Creating data sets"
      ],
      "metadata": {
        "id": "fdOzvKUAlgDf"
      }
    },
    {
      "cell_type": "code",
      "source": [
        "batch_size = 64\n",
        "latent_dim = 20\n",
        "train_size_for_mlp = 0.0033\n",
        "\n",
        "root = './data'\n",
        "if not os.path.exists(root):\n",
        "    os.mkdir(root)\n",
        "\n",
        "transform = transforms.Compose([\n",
        "    transforms.Resize((32, 32)),\n",
        "    transforms.ToTensor(),\n",
        "])\n",
        "# training set and train data loader\n",
        "trainset = torchvision.datasets.MNIST(\n",
        "    root='../input', train=True, download=True, transform=transform\n",
        ")\n",
        "\n",
        "trainset_mlp, trainset_autoencoder = torch.utils.data.random_split(trainset, [2, 60000-2])\n",
        "\n",
        "train_loader_mlp = DataLoader(\n",
        "    trainset_mlp, batch_size=batch_size, shuffle=True\n",
        ")\n",
        "\n",
        "train_loader_autoencoder = DataLoader(\n",
        "    trainset_autoencoder, batch_size=batch_size, shuffle=True\n",
        ")\n",
        "\n",
        "trainloader = DataLoader(\n",
        "    trainset, batch_size=batch_size, shuffle=True\n",
        ")\n",
        "# validation set and validation data loader\n",
        "testset = torchvision.datasets.MNIST(\n",
        "    root='../input', train=False, download=True, transform=transform\n",
        ")\n",
        "testloader = DataLoader(\n",
        "    testset, batch_size=batch_size, shuffle=False\n",
        ")\n",
        "\n",
        "\n",
        "def calculate_accuracy(y_true, y_pred, is_training=False):\n",
        "    if y_pred.ndim == 2:\n",
        "        y_pred = y_pred.argmax(dim=1)\n",
        "\n",
        "    return torch.sum(y_true == y_pred) / len(y_true)"
      ],
      "metadata": {
        "id": "WNnvz6ydle57",
        "colab": {
          "base_uri": "https://localhost:8080/",
          "height": 423,
          "referenced_widgets": [
            "77dffbbd332a443baea4e26849b6e1f1",
            "fdec4da9932c48ebaa7f30b259b11203",
            "0dca5c1df4d14deab4f80513cef061aa",
            "cbe584a6e9e24811980af90afd02dfc8",
            "9d83db15607d491a9d6f75ec9b4dfffc",
            "5698c2accd284fe7a848722dba425bb8",
            "591ec56007a046b9a5c384a53a1dcdf8",
            "53804b7dcedc4db6ba8152fb7474fe59",
            "c29ab13cc1fd4e03baf37313d04148b3",
            "9848a93b21fe406b8c8bf3bf0c0cb023",
            "0d608c86e5ee4e6f95f021b3debb733e",
            "f943029328ec45f6a4350b69b53a4c75",
            "eab29b64bba04ecb8a268d5cc33cf649",
            "b05e96d91b3c4cb8a0bb4f5b9627ee6e",
            "7e5c5c1797d94b479592b5a6ebd9d923",
            "e233745833c64acd81731ad647856d21",
            "a093c3c644a44f23a03e6b000aaf6d16",
            "12a18b2639aa4ee282ac2e70f00cdb2e",
            "c07578ef0c6d45dd8c5c320cfd599c11",
            "04bc2bafceee43bd87662d564957bd8f",
            "2ec16d1e55aa40a89d548a920889e416",
            "d4a5ecdf53df46838fdc997d40727479",
            "f8e1e943cedc4e2db3cb795aee374679",
            "bd9881fcf6af4c5084c02b6f8809861f",
            "4920e7f957ed486fb0b9ab4edc1776f6",
            "16022d7950cd4c289f2130064084c9b5",
            "6d42aa61fcf348388d330cae4e3af5e7",
            "c66aae821632420ea247c6a0282ab9a5",
            "dddccf5295524e4d900b1003cb842fbd",
            "4581c903c56f4964bee33ecedb37a491",
            "e3e2de33fb8c4beaa98c114831eda4db",
            "6ff667a4942247d6b49ff10ddf9aedee",
            "e393f290bc9245b0b3f6c6c81e7c4c85",
            "8e94f8ca1afa4b35a254d8e411d84e5c",
            "86460baa349c451babd6676b02431c28",
            "a8f7bdb49ed643bc90ee7e845996d75d",
            "00ade91b93484c1e96ee422778b9a977",
            "81f606e16e394b1da4a9285f6eef2e69",
            "e46176303e0d4053a06ba179e28c2518",
            "56bdce11e6cd4b2e8c2ac174b36c628c",
            "1f91e22e0b03490a9bafb54017dafc43",
            "b945dffda1c748eb8351e6db2db81cd5",
            "fe9cd8babbc544b98ec3e06e80758327",
            "7e6bc4d29d224c229a677dddd4e70316"
          ]
        },
        "outputId": "0abdc5a4-4cf4-4a0c-d4af-bcdaf1b26e6f"
      },
      "execution_count": 3,
      "outputs": [
        {
          "output_type": "stream",
          "name": "stdout",
          "text": [
            "Downloading http://yann.lecun.com/exdb/mnist/train-images-idx3-ubyte.gz\n",
            "Downloading http://yann.lecun.com/exdb/mnist/train-images-idx3-ubyte.gz to ../input/MNIST/raw/train-images-idx3-ubyte.gz\n"
          ]
        },
        {
          "output_type": "display_data",
          "data": {
            "application/vnd.jupyter.widget-view+json": {
              "model_id": "77dffbbd332a443baea4e26849b6e1f1",
              "version_minor": 0,
              "version_major": 2
            },
            "text/plain": [
              "  0%|          | 0/9912422 [00:00<?, ?it/s]"
            ]
          },
          "metadata": {}
        },
        {
          "output_type": "stream",
          "name": "stdout",
          "text": [
            "Extracting ../input/MNIST/raw/train-images-idx3-ubyte.gz to ../input/MNIST/raw\n",
            "\n",
            "Downloading http://yann.lecun.com/exdb/mnist/train-labels-idx1-ubyte.gz\n",
            "Downloading http://yann.lecun.com/exdb/mnist/train-labels-idx1-ubyte.gz to ../input/MNIST/raw/train-labels-idx1-ubyte.gz\n"
          ]
        },
        {
          "output_type": "display_data",
          "data": {
            "application/vnd.jupyter.widget-view+json": {
              "model_id": "f943029328ec45f6a4350b69b53a4c75",
              "version_minor": 0,
              "version_major": 2
            },
            "text/plain": [
              "  0%|          | 0/28881 [00:00<?, ?it/s]"
            ]
          },
          "metadata": {}
        },
        {
          "output_type": "stream",
          "name": "stdout",
          "text": [
            "Extracting ../input/MNIST/raw/train-labels-idx1-ubyte.gz to ../input/MNIST/raw\n",
            "\n",
            "Downloading http://yann.lecun.com/exdb/mnist/t10k-images-idx3-ubyte.gz\n",
            "Downloading http://yann.lecun.com/exdb/mnist/t10k-images-idx3-ubyte.gz to ../input/MNIST/raw/t10k-images-idx3-ubyte.gz\n"
          ]
        },
        {
          "output_type": "display_data",
          "data": {
            "application/vnd.jupyter.widget-view+json": {
              "model_id": "f8e1e943cedc4e2db3cb795aee374679",
              "version_minor": 0,
              "version_major": 2
            },
            "text/plain": [
              "  0%|          | 0/1648877 [00:00<?, ?it/s]"
            ]
          },
          "metadata": {}
        },
        {
          "output_type": "stream",
          "name": "stdout",
          "text": [
            "Extracting ../input/MNIST/raw/t10k-images-idx3-ubyte.gz to ../input/MNIST/raw\n",
            "\n",
            "Downloading http://yann.lecun.com/exdb/mnist/t10k-labels-idx1-ubyte.gz\n",
            "Downloading http://yann.lecun.com/exdb/mnist/t10k-labels-idx1-ubyte.gz to ../input/MNIST/raw/t10k-labels-idx1-ubyte.gz\n"
          ]
        },
        {
          "output_type": "display_data",
          "data": {
            "application/vnd.jupyter.widget-view+json": {
              "model_id": "8e94f8ca1afa4b35a254d8e411d84e5c",
              "version_minor": 0,
              "version_major": 2
            },
            "text/plain": [
              "  0%|          | 0/4542 [00:00<?, ?it/s]"
            ]
          },
          "metadata": {}
        },
        {
          "output_type": "stream",
          "name": "stdout",
          "text": [
            "Extracting ../input/MNIST/raw/t10k-labels-idx1-ubyte.gz to ../input/MNIST/raw\n",
            "\n"
          ]
        }
      ]
    },
    {
      "cell_type": "markdown",
      "source": [
        "# Autoencoder architecture"
      ],
      "metadata": {
        "id": "lj3ywVOyl3vf"
      }
    },
    {
      "cell_type": "code",
      "source": [
        "class Encoder(nn.Module):\n",
        "    def __init__(self):\n",
        "        super(Encoder, self).__init__()\n",
        "        ## encoder layers ##\n",
        "        # conv layer (depth from 3 --> 32), 3x3 kernels\n",
        "        self.conv1 = nn.Conv2d(1, 32, 3, padding=1)\n",
        "        # conv layer (depth from 32 --> 16), 3x3 kernels\n",
        "        self.conv2 = nn.Conv2d(32, 16, 3, padding=1)\n",
        "        # pooling layer to reduce x-y dims by two; kernel and stride of 2\n",
        "        self.pool = nn.MaxPool2d(2, 2)\n",
        "        self.fc1 = nn.Linear(1024, 256)\n",
        "        self.fc = nn.Linear(256, latent_dim)\n",
        "\n",
        "    def forward(self, x):\n",
        "        ## encode ##\n",
        "        # add hidden layers with relu activation function\n",
        "        # and maxpooling after\n",
        "        x = F.relu(self.conv1(x))\n",
        "        x = self.pool(x)\n",
        "        # add second hidden layer\n",
        "        x = F.relu(self.conv2(x))\n",
        "        x = self.pool(x).reshape((x.shape[0], 1024))  # compressed representation\n",
        "        x = F.relu(self.fc1(x))\n",
        "        x = self.fc(x)\n",
        "        return x\n",
        "\n",
        "\n",
        "class Decoder(nn.Module):\n",
        "    def __init__(self):\n",
        "        super(Decoder, self).__init__()\n",
        "        ## decoder layers ##\n",
        "        ## a kernel of 2 and a stride of 2 will increase the spatial dims by 2\n",
        "        self.fc = nn.Linear(latent_dim, 256)\n",
        "        self.fc1 = nn.Linear(256, 1024)\n",
        "        self.t_conv1 = nn.ConvTranspose2d(16, 32, 2, stride=2)\n",
        "        self.t_conv2 = nn.ConvTranspose2d(32, 1, 2, stride=2)\n",
        "\n",
        "    def forward(self, x):\n",
        "        ## decode ##\n",
        "        x = F.relu(self.fc(x))\n",
        "        x = F.relu(self.fc1(x)).reshape((x.shape[0], 16, 8, 8))\n",
        "        # add transpose conv layers, with relu activation function\n",
        "        x = F.relu(self.t_conv1(x))\n",
        "        # output layer (with sigmoid for scaling from 0 to 1)\n",
        "        x = torch.sigmoid(self.t_conv2(x))\n",
        "        return x\n",
        "\n",
        "\n",
        "class ConvAutoencoder(nn.Module):\n",
        "    def __init__(self):\n",
        "        super(ConvAutoencoder, self).__init__()\n",
        "        self.encoder = Encoder()\n",
        "        self.decoder = Decoder()\n",
        "\n",
        "    def forward(self, x):\n",
        "        x = self.encoder(x)\n",
        "        x = self.decoder(x)\n",
        "        return x"
      ],
      "metadata": {
        "id": "IRaWNc6rl0gg"
      },
      "execution_count": 4,
      "outputs": []
    },
    {
      "cell_type": "markdown",
      "source": [
        "# Train Autoencoder"
      ],
      "metadata": {
        "id": "rWSV9gGcl5GG"
      }
    },
    {
      "cell_type": "code",
      "source": [
        "def train_autoencoder(model, num_epochs=10, learning_rate=1e-3, trainset=trainset_autoencoder, train_loader=train_loader_autoencoder):\n",
        "    model.train()\n",
        "    loss_list = []\n",
        "    torch.manual_seed(42)\n",
        "    criterion = nn.BCELoss()  # binary cross entropy loss\n",
        "    optimizer = torch.optim.Adam(model.parameters(), lr=learning_rate)\n",
        "    outputs = []\n",
        "    for epoch in range(num_epochs):\n",
        "        loss_counter = 0.0\n",
        "        counter = 0\n",
        "        for i, data in tqdm(enumerate(train_loader), total=int(len(trainset)/train_loader.batch_size)):\n",
        "            img, _ = data\n",
        "            recon = model(img)\n",
        "            loss = criterion(recon, img)\n",
        "            loss.backward()\n",
        "            optimizer.step()\n",
        "            optimizer.zero_grad()\n",
        "            loss_counter += loss.item()\n",
        "            counter += 1\n",
        "        print('Epoch:{}, Loss:{:.4f}'.format(epoch+1, loss_counter / counter))\n",
        "        loss_list.append(loss_counter / counter)\n",
        "        outputs.append((i, img, recon),)\n",
        "    plt.plot(loss_list)\n",
        "    plt.legend('loss', 'epochs')\n",
        "    plt.show()\n",
        "    torch.save(model.encoder.state_dict(), f'encoder_model_{latent_dim}.pth')\n",
        "    torch.save(model.decoder.state_dict(), f'decoder_model_{latent_dim}.pth')\n",
        "\n",
        "    return outputs\n",
        "\n",
        "model = ConvAutoencoder()\n",
        "max_epochs = 50\n",
        "outputs = train_autoencoder(model, num_epochs=max_epochs)\n",
        "\n",
        "for k in range(0, max_epochs):\n",
        "    plt.figure(figsize=(9, 2))\n",
        "    imgs = outputs[k][1].detach().numpy()\n",
        "    recon = outputs[k][2].detach().numpy()\n",
        "    for i, item in enumerate(imgs):\n",
        "        if i >= 9: break\n",
        "        plt.subplot(2, 9, i+1)\n",
        "        plt.imshow(item[0], cmap='gray')\n",
        "\n",
        "    for i, item in enumerate(recon):\n",
        "        if i >= 9: break\n",
        "        plt.subplot(2, 9, 9+i+1)\n",
        "        plt.imshow(item[0], cmap='gray')\n",
        "\n",
        "plt.show()\n"
      ],
      "metadata": {
        "id": "r966v9E9l-Zg"
      },
      "execution_count": null,
      "outputs": []
    },
    {
      "cell_type": "markdown",
      "source": [
        "# Decorrelation"
      ],
      "metadata": {
        "id": "OWH5sEfHC0ZI"
      }
    },
    {
      "cell_type": "code",
      "source": [
        "latents = [5, 8, 10, 14, 20]\n",
        "result = dict()\n",
        "for latent_ in latents:\n",
        "    latent_dim=latent_\n",
        "    encoder = Encoder()\n",
        "    \n",
        "    encoder.load_state_dict(copy.deepcopy(torch.load(f\"encoder_model_{latent_}.pth\", device)))\n",
        "    trainloader = DataLoader(trainset, batch_size=1000, shuffle=True)\n",
        "    for i, data in enumerate(trainloader):\n",
        "        images, _ = data\n",
        "        latent = encoder(images)\n",
        "        if i == 0:\n",
        "          break\n",
        "    corr = torch.corrcoef(latent.T).detach().numpy()\n",
        "    result[latent_] = np.linalg.norm(corr)\n",
        "    print(result.keys())\n",
        "    print(result.values())"
      ],
      "metadata": {
        "id": "YvNPZ1NiC5EM",
        "outputId": "7aacfe64-d63d-4b03-c62b-2ef3843984fc",
        "colab": {
          "base_uri": "https://localhost:8080/"
        }
      },
      "execution_count": null,
      "outputs": [
        {
          "output_type": "stream",
          "name": "stdout",
          "text": [
            "dict_keys([5])\n",
            "dict_values([2.4326987])\n",
            "dict_keys([5, 8])\n",
            "dict_values([2.4326987, 3.3967464])\n",
            "dict_keys([5, 8, 10])\n",
            "dict_values([2.4326987, 3.3967464, 3.9710805])\n",
            "dict_keys([5, 8, 10, 14])\n",
            "dict_values([2.4326987, 3.3967464, 3.9710805, 4.9198337])\n"
          ]
        }
      ]
    },
    {
      "cell_type": "markdown",
      "source": [
        "# MLP Architecture"
      ],
      "metadata": {
        "id": "l6wj-T-6mGVE"
      }
    },
    {
      "cell_type": "code",
      "source": [
        "class Mlp(nn.Module):\n",
        "    def __init__(self, input_dim=latent_dim):\n",
        "        super(Mlp, self).__init__()\n",
        "        self.linear1 = nn.Linear(input_dim, input_dim * 2)\n",
        "        self.linear2 = nn.Linear(input_dim * 2, input_dim)\n",
        "        self.linear3 = nn.Linear(input_dim, input_dim)\n",
        "        self.linear4 = nn.Linear(input_dim, 10)\n",
        "        self.relu = nn.ReLU()\n",
        "\n",
        "    def forward(self, x):\n",
        "        x = self.relu(self.linear1(x))\n",
        "        x = self.relu(self.linear2(x))\n",
        "        x = self.relu(self.linear3(x))\n",
        "        x = self.linear4(x)\n",
        "        return x        \n"
      ],
      "metadata": {
        "id": "iVNiG51OSwVI"
      },
      "execution_count": null,
      "outputs": []
    },
    {
      "cell_type": "markdown",
      "source": [
        "# MLP + Encoder Architecture"
      ],
      "metadata": {
        "id": "wcivd0gkw8SN"
      }
    },
    {
      "cell_type": "code",
      "source": [
        "class MLPEncoder(nn.Module):\n",
        "\n",
        "    def __init__(self):\n",
        "        super(MLPEncoder, self).__init__()\n",
        "        self.encoder = Encoder()\n",
        "        self.mlp = Mlp()\n",
        "\n",
        "    def forward(self, x):\n",
        "        x = self.encoder(x)\n",
        "        x = self.mlp(x)\n",
        "        return x"
      ],
      "metadata": {
        "id": "xb1ucB0Kw_6Q"
      },
      "execution_count": null,
      "outputs": []
    },
    {
      "cell_type": "markdown",
      "source": [
        "# Train MLP + Encoder"
      ],
      "metadata": {
        "id": "GN23vlTimxGp"
      }
    },
    {
      "cell_type": "code",
      "source": [
        "def train_classifier(model, train_loader, trainset, encoder, criterion, optimizer):\n",
        "    model.train()\n",
        "    loss_counter = 0.0\n",
        "    acc_counter = 0.0\n",
        "    counter = 0\n",
        "    for i, data in tqdm(enumerate(train_loader), total=int(len(trainset)/train_loader.batch_size)):\n",
        "        img, labels = data\n",
        "        if encoder:\n",
        "            img = encoder(img)\n",
        "        predict = model(img)\n",
        "        loss = criterion(predict, labels)\n",
        "        loss.backward()\n",
        "        optimizer.step()\n",
        "        optimizer.zero_grad()\n",
        "        loss_counter += loss.item()\n",
        "        acc_counter += calculate_accuracy(labels, predict).item()\n",
        "        counter += 1\n",
        "    return loss_counter, acc_counter, counter\n",
        "\n",
        "\n",
        "def eval_classifier(model, test_loader, testset, encoder, criterion):\n",
        "    model.eval()\n",
        "    loss_counter = 0.0\n",
        "    acc_counter = 0.0\n",
        "    counter = 0\n",
        "    for i, data in tqdm(enumerate(test_loader), total=int(len(testset) / test_loader.batch_size)):\n",
        "        img, labels = data\n",
        "        if encoder:\n",
        "            img = encoder(img)\n",
        "        predict = model(img)\n",
        "        loss = criterion(predict, labels)\n",
        "        loss_counter += loss.item()\n",
        "        acc_counter += calculate_accuracy(labels, predict).item()\n",
        "        counter += 1\n",
        "    return loss_counter, acc_counter, counter\n",
        "\n",
        "\n",
        "def classifier(model, num_epochs=10, learning_rate=1e-3, trainset=trainset_mlp, train_loader=train_loader_mlp, model_name='Mlp'):\n",
        "    loss_list = []\n",
        "    acc_list = []\n",
        "    loss_list_test = []\n",
        "    acc_list_test = []\n",
        "    torch.manual_seed(42)\n",
        "    criterion = nn.CrossEntropyLoss()  # cross entropy loss\n",
        "    optimizer = torch.optim.Adam(model.parameters(), lr=learning_rate)\n",
        "    encoder = None\n",
        "    if model_name == 'Mlp':\n",
        "        encoder = Encoder()\n",
        "        encoder.load_state_dict(copy.deepcopy(torch.load(\"encoder_model.pth\", device)))\n",
        "    for epoch in range(num_epochs):\n",
        "        loss_counter, acc_counter, counter = train_classifier(model, train_loader, trainset, encoder, criterion, optimizer)\n",
        "        loss_counter_test, acc_counter_test, counter_test = eval_classifier(model, testloader, testset, encoder, criterion)\n",
        "        print('Epoch:{}, Loss:{:.4f}'.format(epoch+1, loss_counter / counter))\n",
        "        print('Epoch:{}, acc:{:.4f}'.format(epoch+1, acc_counter / counter))\n",
        "        print('Epoch:{}, Loss test:{:.4f}'.format(epoch+1, loss_counter_test / counter_test))\n",
        "        print('Epoch:{}, acc test:{:.4f}'.format(epoch+1, acc_counter_test / counter_test))\n",
        "        loss_list.append(loss_counter / counter)\n",
        "        acc_list.append(100 * acc_counter / counter)\n",
        "        loss_list_test.append(loss_counter_test / counter_test)\n",
        "        acc_list_test.append(100 * acc_counter_test / counter_test)\n",
        "    plt.plot(loss_list)\n",
        "    plt.plot(loss_list_test)\n",
        "    plt.title('loss')\n",
        "    plt.legend(['train', 'test'])\n",
        "    plt.show()\n",
        "    plt.plot(acc_list)\n",
        "    plt.plot(acc_list_test)\n",
        "    plt.title('accuracy')\n",
        "    plt.legend(['train', 'test'])\n",
        "    plt.show()\n",
        "\n",
        "\n",
        "model = Mlp()\n",
        "max_epochs = 20\n",
        "outputs = classifier(model, num_epochs=max_epochs, learning_rate=0.02, model_name='Mlp')\n",
        "\n",
        "model = MLPEncoder()\n",
        "max_epochs = 20\n",
        "outputs = classifier(model, num_epochs=max_epochs, learning_rate=0.01, model_name='MLPEncoder')\n"
      ],
      "metadata": {
        "id": "6yyjNkQSm1om"
      },
      "execution_count": null,
      "outputs": []
    },
    {
      "cell_type": "markdown",
      "source": [
        "# GAN Architecture"
      ],
      "metadata": {
        "id": "aCNhPGtAyv5y"
      }
    },
    {
      "cell_type": "code",
      "source": [
        "class Generator(nn.Module):\n",
        "    def __init__(self, input_dim=latent_dim):\n",
        "        super(Generator, self).__init__()\n",
        "        self.linear1 = nn.Linear(input_dim, 1024)\n",
        "        self.linear2 = nn.Linear(1024, 512)\n",
        "        self.linear3 = nn.Linear(512, 256)\n",
        "        self.linear4 = nn.Linear(512, input_dim)\n",
        "        self.linear5 = nn.Linear(input_dim, input_dim * 2)\n",
        "        self.linear6 = nn.Linear(256, latent_dim)\n",
        "        self.batch_norm_1 = nn.BatchNorm1d(512)\n",
        "        self.batch_norm_2 = nn.BatchNorm1d(256)\n",
        "        self.relu = nn.ReLU()\n",
        "\n",
        "    def forward(self, x):\n",
        "        x = self.relu(self.linear1(x))\n",
        "        x = self.relu(self.batch_norm_1(self.linear2(x)))\n",
        "        x = self.relu(self.batch_norm_2(self.linear3(x)))\n",
        "        x = self.linear6(x)\n",
        "        return x\n",
        "\n",
        "\n",
        "class Discriminator(nn.Module):\n",
        "    def __init__(self):\n",
        "        super(Discriminator, self).__init__()\n",
        "        self.linear1 = nn.Linear(latent_dim, 1024)\n",
        "        self.linear2 = nn.Linear(1024, 512)\n",
        "        self.linear3 = nn.Linear(512, 256)\n",
        "        self.linear6 = nn.Linear(256, 1)\n",
        "        self.relu = nn.ReLU()\n",
        "        self.sigmoid = nn.Sigmoid()\n",
        "\n",
        "    def forward(self, x):\n",
        "        x = self.relu(self.linear1(x))\n",
        "        x = self.relu(self.linear2(x))\n",
        "        x = self.relu(self.linear3(x))\n",
        "        x = self.sigmoid(self.linear6(x))\n",
        "        return x"
      ],
      "metadata": {
        "id": "5FvZIMqoyy-T"
      },
      "execution_count": 9,
      "outputs": []
    },
    {
      "cell_type": "markdown",
      "source": [
        "# Train GAN"
      ],
      "metadata": {
        "id": "ORisDuMu975K"
      }
    },
    {
      "cell_type": "code",
      "source": [
        "def generate_latent(number_of_images=batch_size, latent_dimension=latent_dim):\n",
        "    \"\"\" Generate noise for number_of_images images, with a specific noise_dimension \"\"\"\n",
        "    return torch.randn(number_of_images, latent_dimension)\n",
        "\n",
        "\n",
        "def generate_specific_digit(number_of_images=batch_size, digit_to_generate=0):\n",
        "    zeros = torch.zeros(number_of_images)\n",
        "    zeros[:] = digit_to_generate\n",
        "    return zeros.to(torch.int64)\n",
        "\n",
        "\n",
        "def initialize_optimizers(generator, discriminator, lr_genrator, lr_discriminator):\n",
        "    \"\"\" Initialize optimizers for Generator and Discriminator. \"\"\"\n",
        "    generator_optimizer = torch.optim.Adam(generator.parameters(), lr=lr_genrator, betas=(0.5, 0.999))\n",
        "    discriminator_optimizer = torch.optim.Adam(discriminator.parameters(), lr=lr_discriminator, betas=(0.5, 0.999))\n",
        "    return generator_optimizer, discriminator_optimizer"
      ],
      "metadata": {
        "id": "WyNYkyUY6j2v"
      },
      "execution_count": 11,
      "outputs": []
    },
    {
      "cell_type": "code",
      "source": [
        "batch_size=128\n",
        "\n",
        "\n",
        "def train_epoch(generator, discriminator, encoder, loss_function, generator_optimizer, discriminator_optimizer):\n",
        "    real_label, fake_label = 1.0, 0.0\n",
        "    loss_dis = 0.0\n",
        "    loss_gen = 0.0\n",
        "    counter = 0\n",
        "    for i, data in tqdm(enumerate(trainloader), total=int(len(trainset)/trainloader.batch_size)):\n",
        "        # train discriminator\n",
        "        discriminator.zero_grad()\n",
        "        img, _ = data\n",
        "        real_images = encoder(img)\n",
        "        label = torch.full((img.shape[0],1), real_label)\n",
        "        output = discriminator(real_images)\n",
        "        error_real_images = loss_function(output, label)\n",
        "        error_real_images.backward()\n",
        "        D_x = output.mean().item()\n",
        "\n",
        "        latent = generate_latent(img.shape[0])\n",
        "        fake = generator(latent)\n",
        "        label.fill_(fake_label)\n",
        "        output = discriminator(fake.detach())\n",
        "        error_fake_images = loss_function(output, label)\n",
        "        error_fake_images.backward()\n",
        "        D_G_z1 = output.mean().item()\n",
        "        errD = error_real_images + error_fake_images\n",
        "        discriminator_optimizer.step()\n",
        "\n",
        "        # train generator\n",
        "        generator.zero_grad()\n",
        "        label.fill_(real_label)\n",
        "        output = discriminator(fake)\n",
        "        errG = loss_function(output, label)\n",
        "        errG.backward()\n",
        "        D_G_z2 = output.mean().item()\n",
        "        generator_optimizer.step()\n",
        "\n",
        "        loss_dis += errD\n",
        "        loss_gen += errG\n",
        "        counter += 1\n",
        "    return loss_dis / counter, loss_gen / counter\n",
        "\n",
        "\n",
        "def train(generator, discriminator, num_epochs=30, lr_discriminator=1e-3, lr_generator=1e-3, trainset=trainset, train_loader=trainloader):\n",
        "    loss_discriminator = []\n",
        "    loss_generator = []\n",
        "    torch.manual_seed(42)\n",
        "    encoder = Encoder()\n",
        "    encoder.load_state_dict(copy.deepcopy(torch.load(\"encoder_model_20.pth\", device)))\n",
        "    criterion = nn.BCELoss()\n",
        "    generator_optimizer, discriminator_optimizer = initialize_optimizers(generator, discriminator, lr_generator, lr_discriminator)\n",
        "    for epoch in range(num_epochs):\n",
        "        loss_dis, loss_gen = train_epoch(generator, discriminator, encoder, criterion, generator_optimizer, discriminator_optimizer)\n",
        "        print('Epoch:{}, Loss discriminator:{:.4f}'.format(epoch+1, loss_dis))\n",
        "        print('Epoch:{}, Loss generator:{:.4f}'.format(epoch+1, loss_gen))\n",
        "        loss_discriminator.append(loss_dis)\n",
        "        loss_generator.append(loss_gen)\n",
        "        generate_images(generator)\n",
        "        plt.plot(loss_discriminator)\n",
        "        plt.plot(loss_generator)\n",
        "        plt.title('GAN loss')\n",
        "        plt.legend(['discriminator', 'generator'])\n",
        "        plt.show()\n",
        "        torch.save(generator.state_dict(), f'generator_{latent_dim}_5.pth')\n",
        "    print(loss_discriminator, loss_generator)\n",
        "    plt.plot(loss_discriminator)\n",
        "    plt.plot(loss_generator)\n",
        "    plt.title('GAN loss')\n",
        "    plt.legend(['discriminator', 'generator'])\n",
        "    plt.show()\n",
        "    torch.save(generator.state_dict(), 'generator_1.pth')\n",
        "    \n",
        "\n",
        "\n",
        "generator = Generator()\n",
        "discriminator = Discriminator()\n",
        "num_epochs = 120\n",
        "train(generator, discriminator, num_epochs, lr_discriminator=0.0002, lr_generator=0.0002)"
      ],
      "metadata": {
        "id": "6kOIGxqo9-BJ"
      },
      "execution_count": null,
      "outputs": []
    },
    {
      "cell_type": "code",
      "source": [
        "def generate_images(generator):\n",
        "    decoder = Decoder()\n",
        "    decoder.load_state_dict(copy.deepcopy(torch.load(\"decoder_model_20.pth\", device)))\n",
        "\n",
        "    latents = generate_latent()\n",
        "    generate_images = generator(latents)\n",
        "    # print(\"Generate images: \", generate_images)\n",
        "    print(generate_images[0].shape)\n",
        "    outputs = decoder(generate_images[:2])\n",
        "\n",
        "    plt.figure(figsize=(4, 4))\n",
        "    fig = plt.gcf()\n",
        "    fig.set_size_inches(6, 6)\n",
        "    recon = outputs.detach().numpy()\n",
        "    for i, item in enumerate(recon):\n",
        "        if i >= 16: break\n",
        "        plt.subplot(4, 4, 0+i+1)\n",
        "        plt.imshow(item[0], cmap='gray')\n",
        "\n",
        "    plt.show()\n",
        "    return latents[0], latents[1]"
      ],
      "metadata": {
        "id": "pEmULqIgHsP4"
      },
      "execution_count": 107,
      "outputs": []
    },
    {
      "cell_type": "code",
      "source": [
        "generator = Generator()\n",
        "generator.load_state_dict(copy.deepcopy(torch.load(\"generator_20_5.pth\", device)))\n",
        "latents = generate_latent()\n",
        "l1 = latents[0]\n",
        "l2 = latents[1]\n",
        "decoder = Decoder()\n",
        "decoder.load_state_dict(copy.deepcopy(torch.load(\"decoder_model_20.pth\", device)))\n",
        "\n",
        "for a in range(10):\n",
        "    a = a / 10\n",
        "    # interpolation = (a*l1 + (1-a)*l2).reshape((1, 20))\n",
        "    generator.eval()\n",
        "    genetared = generator(latents[:2])\n",
        "    interpolation = a*genetared[0] + (1-a)*genetared[1]\n",
        "    outputs = decoder(interpolation.reshape((1, 20)))\n",
        "    plt.figure(figsize=(4, 4))\n",
        "    fig = plt.gcf()\n",
        "    fig.set_size_inches(6, 6)\n",
        "    recon = outputs.detach().numpy()\n",
        "    for i, item in enumerate(recon):\n",
        "        if i >= 16: break\n",
        "        plt.subplot(4, 4, 0+i+1)\n",
        "        plt.imshow(item[0], cmap='gray')\n",
        "\n",
        "    plt.show()"
      ],
      "metadata": {
        "colab": {
          "base_uri": "https://localhost:8080/",
          "height": 1000
        },
        "id": "K6bQk_5tHWKr",
        "outputId": "042717a2-f1b6-4749-cb7d-6635f8444751"
      },
      "execution_count": 30,
      "outputs": [
        {
          "output_type": "display_data",
          "data": {
            "image/png": "[encoded data removed]",
            "text/plain": [
              "<Figure size 432x432 with 1 Axes>"
            ]
          },
          "metadata": {
            "needs_background": "light"
          }
        },
        {
          "output_type": "display_data",
          "data": {
            "image/png": "[encoded data removed]",
            "text/plain": [
              "<Figure size 432x432 with 1 Axes>"
            ]
          },
          "metadata": {
            "needs_background": "light"
          }
        },
        {
          "output_type": "display_data",
          "data": {
            "image/png": "[encoded data removed]",
            "text/plain": [
              "<Figure size 432x432 with 1 Axes>"
            ]
          },
          "metadata": {
            "needs_background": "light"
          }
        },
        {
          "output_type": "display_data",
          "data": {
            "image/png": "[encoded data removed]",
            "text/plain": [
              "<Figure size 432x432 with 1 Axes>"
            ]
          },
          "metadata": {
            "needs_background": "light"
          }
        },
        {
          "output_type": "display_data",
          "data": {
            "image/png": "[encoded data removed]",
            "text/plain": [
              "<Figure size 432x432 with 1 Axes>"
            ]
          },
          "metadata": {
            "needs_background": "light"
          }
        },
        {
          "output_type": "display_data",
          "data": {
            "image/png": "[encoded data removed]",
            "text/plain": [
              "<Figure size 432x432 with 1 Axes>"
            ]
          },
          "metadata": {
            "needs_background": "light"
          }
        },
        {
          "output_type": "display_data",
          "data": {
            "image/png": "[encoded data removed]",
            "text/plain": [
              "<Figure size 432x432 with 1 Axes>"
            ]
          },
          "metadata": {
            "needs_background": "light"
          }
        },
        {
          "output_type": "display_data",
          "data": {
            "image/png": "[encoded data removed]",
            "text/plain": [
              "<Figure size 432x432 with 1 Axes>"
            ]
          },
          "metadata": {
            "needs_background": "light"
          }
        },
        {
          "output_type": "display_data",
          "data": {
            "image/png": "[encoded data removed]",
            "text/plain": [
              "<Figure size 432x432 with 1 Axes>"
            ]
          },
          "metadata": {
            "needs_background": "light"
          }
        },
        {
          "output_type": "display_data",
          "data": {
            "image/png": "[encoded data removed]",
            "text/plain": [
              "<Figure size 432x432 with 1 Axes>"
            ]
          },
          "metadata": {
            "needs_background": "light"
          }
        }
      ]
    },
    {
      "cell_type": "code",
      "source": [
        "encoder = Encoder()\n",
        "encoder.load_state_dict(copy.deepcopy(torch.load(\"encoder_model_20.pth\", device)))\n",
        "encoder.eval()\n",
        "decoder = Decoder()\n",
        "decoder.load_state_dict(copy.deepcopy(torch.load(\"decoder_model_20.pth\", device)))\n",
        "decoder.eval()\n",
        "\n",
        "for i, data in enumerate(train_loader_mlp):\n",
        "    img, labels = data\n",
        "    l1 = img[0]\n",
        "    plt.imshow(l1.reshape((32, 32)), cmap='gray')\n",
        "    plt.show()\n",
        "    l2 = img[1]\n",
        "    plt.imshow(l2.reshape((32, 32)), cmap='gray')\n",
        "    plt.show()\n",
        "    for a in range(10):\n",
        "        a = a / 10\n",
        "        # interpolation = (l1 + (1-a)*l2).reshape((1, 1, 32, 32))\n",
        "        interpolation = a*encoder(l1.reshape(1, 1, 32, 32)) + (1-a)*encoder(l2.reshape(1, 1, 32, 32))\n",
        "        interpolation = decoder(interpolation)\n",
        "        plt.imshow(interpolation.detach().numpy().reshape((32, 32)), cmap='gray')\n",
        "        plt.show()"
      ],
      "metadata": {
        "colab": {
          "base_uri": "https://localhost:8080/",
          "height": 1000
        },
        "id": "OIGZXuGqP_vC",
        "outputId": "18bf4d73-a17f-46f9-ba7c-6e76b522d20b"
      },
      "execution_count": 7,
      "outputs": [
        {
          "output_type": "display_data",
          "data": {
            "image/png": "[encoded data removed]",
            "text/plain": [
              "<Figure size 432x288 with 1 Axes>"
            ]
          },
          "metadata": {
            "needs_background": "light"
          }
        },
        {
          "output_type": "display_data",
          "data": {
            "image/png": "[encoded data removed]",
            "text/plain": [
              "<Figure size 432x288 with 1 Axes>"
            ]
          },
          "metadata": {
            "needs_background": "light"
          }
        },
        {
          "output_type": "display_data",
          "data": {
            "image/png": "[encoded data removed]",
            "text/plain": [
              "<Figure size 432x288 with 1 Axes>"
            ]
          },
          "metadata": {
            "needs_background": "light"
          }
        },
        {
          "output_type": "display_data",
          "data": {
            "image/png": "[encoded data removed]",
            "text/plain": [
              "<Figure size 432x288 with 1 Axes>"
            ]
          },
          "metadata": {
            "needs_background": "light"
          }
        },
        {
          "output_type": "display_data",
          "data": {
            "image/png": "[encoded data removed]",
            "text/plain": [
              "<Figure size 432x288 with 1 Axes>"
            ]
          },
          "metadata": {
            "needs_background": "light"
          }
        },
        {
          "output_type": "display_data",
          "data": {
            "image/png": "[encoded data removed]",
            "text/plain": [
              "<Figure size 432x288 with 1 Axes>"
            ]
          },
          "metadata": {
            "needs_background": "light"
          }
        },
        {
          "output_type": "display_data",
          "data": {
            "image/png": "[encoded data removed]",
            "text/plain": [
              "<Figure size 432x288 with 1 Axes>"
            ]
          },
          "metadata": {
            "needs_background": "light"
          }
        },
        {
          "output_type": "display_data",
          "data": {
            "image/png": "[encoded data removed]",
            "text/plain": [
              "<Figure size 432x288 with 1 Axes>"
            ]
          },
          "metadata": {
            "needs_background": "light"
          }
        },
        {
          "output_type": "display_data",
          "data": {
            "image/png": "[encoded data removed]",
            "text/plain": [
              "<Figure size 432x288 with 1 Axes>"
            ]
          },
          "metadata": {
            "needs_background": "light"
          }
        },
        {
          "output_type": "display_data",
          "data": {
            "image/png": "[encoded data removed]",
            "text/plain": [
              "<Figure size 432x288 with 1 Axes>"
            ]
          },
          "metadata": {
            "needs_background": "light"
          }
        },
        {
          "output_type": "display_data",
          "data": {
            "image/png": "[encoded data removed]",
            "text/plain": [
              "<Figure size 432x288 with 1 Axes>"
            ]
          },
          "metadata": {
            "needs_background": "light"
          }
        },
        {
          "output_type": "display_data",
          "data": {
            "image/png": "[encoded data removed]",
            "text/plain": [
              "<Figure size 432x288 with 1 Axes>"
            ]
          },
          "metadata": {
            "needs_background": "light"
          }
        }
      ]
    },
    {
      "cell_type": "markdown",
      "source": [
        "# Conditional GAN"
      ],
      "metadata": {
        "id": "ZfkDfBTeWklh"
      }
    },
    {
      "cell_type": "code",
      "source": [
        "class ConditionalGenerator(nn.Module):\n",
        "    def __init__(self, input_dim=latent_dim):\n",
        "        super(ConditionalGenerator, self).__init__()\n",
        "        self.linear1 = nn.Linear(input_dim+10, 1024)\n",
        "        self.linear2 = nn.Linear(1024, 512)\n",
        "        self.linear3 = nn.Linear(512, 256)\n",
        "        self.linear6 = nn.Linear(256, latent_dim)\n",
        "        self.embedding = nn.Embedding(10, 10)\n",
        "        self.relu = nn.ReLU()\n",
        "\n",
        "    def forward(self, x, labels):\n",
        "        c = self.embedding(labels)\n",
        "        x = torch.cat([x, c], 1)\n",
        "        x = self.relu(self.linear1(x))\n",
        "        x = self.relu(self.linear2(x))\n",
        "        x = self.relu(self.linear3(x))\n",
        "        x = self.linear6(x)\n",
        "        return x\n",
        "\n",
        "\n",
        "class ConditionalDiscriminator(nn.Module):\n",
        "    def __init__(self):\n",
        "        super(ConditionalDiscriminator, self).__init__()\n",
        "        self.linear1 = nn.Linear(latent_dim+10, 1024)\n",
        "        self.linear2 = nn.Linear(1024, 512)\n",
        "        self.linear3 = nn.Linear(512, 256)\n",
        "        self.linear6 = nn.Linear(256, 1)\n",
        "        self.embedding = nn.Embedding(10, 10)\n",
        "        self.relu = nn.ReLU()\n",
        "        self.sigmoid = nn.Sigmoid()\n",
        "\n",
        "    def forward(self, x, labels):\n",
        "        c = self.embedding(labels)\n",
        "        x = torch.cat([x, c], 1)\n",
        "        x = self.relu(self.linear1(x))\n",
        "        x = self.relu(self.linear2(x))\n",
        "        x = self.relu(self.linear3(x))\n",
        "        x = self.sigmoid(self.linear6(x))\n",
        "        return x"
      ],
      "metadata": {
        "id": "tgZJ8zK3QZ8w"
      },
      "execution_count": null,
      "outputs": []
    },
    {
      "cell_type": "markdown",
      "source": [
        "# Train"
      ],
      "metadata": {
        "id": "xq-iejROyO9o"
      }
    },
    {
      "cell_type": "code",
      "source": [
        "batch_size=100\n",
        "\n",
        "\n",
        "def generate_fake_labels(number_of_images=batch_size):\n",
        "    return torch.randint(0, 10, (number_of_images,))\n",
        "\n",
        "\n",
        "def train_epoch(generator, discriminator, encoder, loss_function, generator_optimizer, discriminator_optimizer):\n",
        "    real_label, fake_label = 1.0, 0.0\n",
        "    loss_dis = 0.0\n",
        "    loss_gen = 0.0\n",
        "    counter = 0\n",
        "    for i, data in tqdm(enumerate(trainloader), total=int(len(trainset)/trainloader.batch_size)):\n",
        "        # train discriminator\n",
        "        discriminator.zero_grad()\n",
        "        img, digit_labels = data\n",
        "        real_images = encoder(img)\n",
        "        label = torch.full((img.shape[0],1), real_label)\n",
        "        output = discriminator(real_images, digit_labels)\n",
        "        error_real_images = loss_function(output, label)\n",
        "        error_real_images.backward()\n",
        "        D_x = output.mean().item()\n",
        "\n",
        "        latent = generate_latent(img.shape[0])\n",
        "        fake_digit_label = generate_fake_labels(img.shape[0])\n",
        "        fake = generator(latent, fake_digit_label)\n",
        "        output = discriminator(fake.detach(), fake_digit_label)\n",
        "        label.fill_(fake_label)\n",
        "        error_fake_images = loss_function(output, label)\n",
        "        error_fake_images.backward()\n",
        "        D_G_z1 = output.mean().item()\n",
        "        errD = error_real_images + error_fake_images\n",
        "        discriminator_optimizer.step()\n",
        "\n",
        "        # train generator\n",
        "        generator.zero_grad()\n",
        "        generated_data = generator(latent, fake_digit_label)\n",
        "        output = discriminator(generated_data, fake_digit_label)\n",
        "        label.fill_(real_label)\n",
        "        errG = loss_function(output, label)\n",
        "        errG.backward()\n",
        "        D_G_z2 = output.mean().item()\n",
        "        generator_optimizer.step()\n",
        "\n",
        "        loss_dis += errD\n",
        "        loss_gen += errG\n",
        "        counter += 1\n",
        "    return loss_dis / counter, loss_gen / counter\n",
        "\n",
        "\n",
        "def train(generator, discriminator, num_epochs=30, lr_discriminator=1e-3, lr_generator=1e-3, trainset=trainset, train_loader=trainloader):\n",
        "    loss_discriminator = []\n",
        "    loss_generator = []\n",
        "    torch.manual_seed(42)\n",
        "    encoder = Encoder()\n",
        "    encoder.load_state_dict(copy.deepcopy(torch.load(\"encoder_model_20.pth\", device)))\n",
        "    criterion = nn.BCELoss()\n",
        "    generator_optimizer, discriminator_optimizer = initialize_optimizers(generator, discriminator, lr_generator, lr_discriminator)\n",
        "    for epoch in range(num_epochs):\n",
        "        loss_dis, loss_gen = train_epoch(generator, discriminator, encoder, criterion, generator_optimizer, discriminator_optimizer)\n",
        "        print('Epoch:{}, Loss discriminator:{:.4f}'.format(epoch+1, loss_dis))\n",
        "        print('Epoch:{}, Loss generator:{:.4f}'.format(epoch+1, loss_gen))\n",
        "        loss_discriminator.append(loss_dis)\n",
        "        loss_generator.append(loss_gen)\n",
        "        generate_images(generator)\n",
        "\n",
        "        plt.plot(loss_discriminator)\n",
        "        plt.plot(loss_generator)\n",
        "        plt.title('Conditional GAN loss')\n",
        "        plt.legend(['discriminator', 'generator'])\n",
        "        plt.show()\n",
        "        torch.save(generator.state_dict(), 'cond_generator.pth')\n",
        "    print(loss_discriminator, loss_generator)\n",
        "    plt.plot(loss_discriminator)\n",
        "    plt.plot(loss_generator)\n",
        "    plt.title('Conditional GAN loss')\n",
        "    plt.legend(['discriminator', 'generator'])\n",
        "    plt.show()\n",
        "    \n",
        "    \n",
        "\n",
        "\n",
        "generator = ConditionalGenerator()\n",
        "discriminator = ConditionalDiscriminator()\n",
        "\n",
        "def generate_images(generator):\n",
        "    decoder = Decoder()\n",
        "    decoder.load_state_dict(copy.deepcopy(torch.load(\"decoder_model_20.pth\", device)))\n",
        "\n",
        "    labels = generate_specific_digit(digit_to_generate=2)\n",
        "    latents = generate_latent()\n",
        "    generate_images = generator(latents, labels)\n",
        "    # print(\"Generate images: \", generate_images)\n",
        "    outputs = decoder(generate_images[:16])\n",
        "\n",
        "    plt.figure(figsize=(4, 4))\n",
        "    fig = plt.gcf()\n",
        "    fig.set_size_inches(6, 6)\n",
        "    recon = outputs.detach().numpy()\n",
        "    for i, item in enumerate(recon):\n",
        "        if i >= 16: break\n",
        "        plt.subplot(4, 4, 0+i+1)\n",
        "        plt.imshow(item[0], cmap='gray')\n",
        "\n",
        "    plt.show()\n",
        "\n",
        "\n",
        "num_epochs = 120\n",
        "train(generator, discriminator, num_epochs, lr_discriminator=0.0002, lr_generator=0.00015)"
      ],
      "metadata": {
        "id": "Va-nZ9n7yKQ8"
      },
      "execution_count": null,
      "outputs": []
    },
    {
      "cell_type": "code",
      "source": [
        "def generate_images(generator):\n",
        "    decoder = Decoder()\n",
        "    decoder.load_state_dict(copy.deepcopy(torch.load(\"decoder_model_14.pth\", device)))\n",
        "\n",
        "    labels = generate_specific_digit(digit_to_generate=9)\n",
        "    latents = generate_latent()\n",
        "    generate_images = generator(latents, labels)\n",
        "    # print(\"Generate images: \", generate_images)\n",
        "    outputs = decoder(generate_images[:16])\n",
        "\n",
        "    plt.figure(figsize=(4, 4))\n",
        "    fig = plt.gcf()\n",
        "    fig.set_size_inches(6, 6)\n",
        "    recon = outputs.detach().numpy()\n",
        "    for i, item in enumerate(recon):\n",
        "        if i >= 16: break\n",
        "        plt.subplot(4, 4, 0+i+1)\n",
        "        plt.imshow(item[0], cmap='gray')\n",
        "\n",
        "    plt.show()\n",
        "\n",
        "generator = ConditionalGenerator()\n",
        "generator.load_state_dict(copy.deepcopy(torch.load(\"cond_generator.pth\", device)))\n",
        "generate_images(generator)"
      ],
      "metadata": {
        "id": "M9mABs1UBCiP",
        "colab": {
          "base_uri": "https://localhost:8080/",
          "height": 467
        },
        "outputId": "f3dd742a-0ce5-49dc-e896-2e1660a3987a"
      },
      "execution_count": 14,
      "outputs": [
        {
          "output_type": "error",
          "ename": "TypeError",
          "evalue": "ignored",
          "traceback": [
            "\u001b[0;31m---------------------------------------------------------------------------\u001b[0m",
            "\u001b[0;31mTypeError\u001b[0m                                 Traceback (most recent call last)",
            "\u001b[0;32m<ipython-input-14-aa7bc590017b>\u001b[0m in \u001b[0;36m<module>\u001b[0;34m()\u001b[0m\n\u001b[1;32m     22\u001b[0m \u001b[0mgenerator\u001b[0m \u001b[0;34m=\u001b[0m \u001b[0mGenerator\u001b[0m\u001b[0;34m(\u001b[0m\u001b[0;34m)\u001b[0m\u001b[0;34m\u001b[0m\u001b[0;34m\u001b[0m\u001b[0m\n\u001b[1;32m     23\u001b[0m \u001b[0mgenerator\u001b[0m\u001b[0;34m.\u001b[0m\u001b[0mload_state_dict\u001b[0m\u001b[0;34m(\u001b[0m\u001b[0mcopy\u001b[0m\u001b[0;34m.\u001b[0m\u001b[0mdeepcopy\u001b[0m\u001b[0;34m(\u001b[0m\u001b[0mtorch\u001b[0m\u001b[0;34m.\u001b[0m\u001b[0mload\u001b[0m\u001b[0;34m(\u001b[0m\u001b[0;34m\"generator_20_5.pth\"\u001b[0m\u001b[0;34m,\u001b[0m \u001b[0mdevice\u001b[0m\u001b[0;34m)\u001b[0m\u001b[0;34m)\u001b[0m\u001b[0;34m)\u001b[0m\u001b[0;34m\u001b[0m\u001b[0;34m\u001b[0m\u001b[0m\n\u001b[0;32m---> 24\u001b[0;31m \u001b[0mgenerate_images\u001b[0m\u001b[0;34m(\u001b[0m\u001b[0mgenerator\u001b[0m\u001b[0;34m)\u001b[0m\u001b[0;34m\u001b[0m\u001b[0;34m\u001b[0m\u001b[0m\n\u001b[0m",
            "\u001b[0;32m<ipython-input-14-aa7bc590017b>\u001b[0m in \u001b[0;36mgenerate_images\u001b[0;34m(generator)\u001b[0m\n\u001b[1;32m      5\u001b[0m     \u001b[0mlabels\u001b[0m \u001b[0;34m=\u001b[0m \u001b[0mgenerate_specific_digit\u001b[0m\u001b[0;34m(\u001b[0m\u001b[0mdigit_to_generate\u001b[0m\u001b[0;34m=\u001b[0m\u001b[0;36m9\u001b[0m\u001b[0;34m)\u001b[0m\u001b[0;34m\u001b[0m\u001b[0;34m\u001b[0m\u001b[0m\n\u001b[1;32m      6\u001b[0m     \u001b[0mlatents\u001b[0m \u001b[0;34m=\u001b[0m \u001b[0mgenerate_latent\u001b[0m\u001b[0;34m(\u001b[0m\u001b[0;34m)\u001b[0m\u001b[0;34m\u001b[0m\u001b[0;34m\u001b[0m\u001b[0m\n\u001b[0;32m----> 7\u001b[0;31m     \u001b[0mgenerate_images\u001b[0m \u001b[0;34m=\u001b[0m \u001b[0mgenerator\u001b[0m\u001b[0;34m(\u001b[0m\u001b[0mlatents\u001b[0m\u001b[0;34m,\u001b[0m \u001b[0mlabels\u001b[0m\u001b[0;34m)\u001b[0m\u001b[0;34m\u001b[0m\u001b[0;34m\u001b[0m\u001b[0m\n\u001b[0m\u001b[1;32m      8\u001b[0m     \u001b[0;31m# print(\"Generate images: \", generate_images)\u001b[0m\u001b[0;34m\u001b[0m\u001b[0;34m\u001b[0m\u001b[0;34m\u001b[0m\u001b[0m\n\u001b[1;32m      9\u001b[0m     \u001b[0moutputs\u001b[0m \u001b[0;34m=\u001b[0m \u001b[0mdecoder\u001b[0m\u001b[0;34m(\u001b[0m\u001b[0mgenerate_images\u001b[0m\u001b[0;34m[\u001b[0m\u001b[0;34m:\u001b[0m\u001b[0;36m16\u001b[0m\u001b[0;34m]\u001b[0m\u001b[0;34m)\u001b[0m\u001b[0;34m\u001b[0m\u001b[0;34m\u001b[0m\u001b[0m\n",
            "\u001b[0;32m/usr/local/lib/python3.7/dist-packages/torch/nn/modules/module.py\u001b[0m in \u001b[0;36m_call_impl\u001b[0;34m(self, *input, **kwargs)\u001b[0m\n\u001b[1;32m   1100\u001b[0m         if not (self._backward_hooks or self._forward_hooks or self._forward_pre_hooks or _global_backward_hooks\n\u001b[1;32m   1101\u001b[0m                 or _global_forward_hooks or _global_forward_pre_hooks):\n\u001b[0;32m-> 1102\u001b[0;31m             \u001b[0;32mreturn\u001b[0m \u001b[0mforward_call\u001b[0m\u001b[0;34m(\u001b[0m\u001b[0;34m*\u001b[0m\u001b[0minput\u001b[0m\u001b[0;34m,\u001b[0m \u001b[0;34m**\u001b[0m\u001b[0mkwargs\u001b[0m\u001b[0;34m)\u001b[0m\u001b[0;34m\u001b[0m\u001b[0;34m\u001b[0m\u001b[0m\n\u001b[0m\u001b[1;32m   1103\u001b[0m         \u001b[0;31m# Do not call functions when jit is used\u001b[0m\u001b[0;34m\u001b[0m\u001b[0;34m\u001b[0m\u001b[0;34m\u001b[0m\u001b[0m\n\u001b[1;32m   1104\u001b[0m         \u001b[0mfull_backward_hooks\u001b[0m\u001b[0;34m,\u001b[0m \u001b[0mnon_full_backward_hooks\u001b[0m \u001b[0;34m=\u001b[0m \u001b[0;34m[\u001b[0m\u001b[0;34m]\u001b[0m\u001b[0;34m,\u001b[0m \u001b[0;34m[\u001b[0m\u001b[0;34m]\u001b[0m\u001b[0;34m\u001b[0m\u001b[0;34m\u001b[0m\u001b[0m\n",
            "\u001b[0;31mTypeError\u001b[0m: forward() takes 2 positional arguments but 3 were given"
          ]
        }
      ]
    }
  ]
}