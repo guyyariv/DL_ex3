{
  "nbformat": 4,
  "nbformat_minor": 0,
  "metadata": {
    "colab": {
      "name": "Untitled5.ipynb",
      "provenance": [],
      "include_colab_link": true
    },
    "kernelspec": {
      "name": "python3",
      "display_name": "Python 3"
    },
    "language_info": {
      "name": "python"
    },
    "accelerator": "GPU"
  },
  "cells": [
    {
      "cell_type": "markdown",
      "metadata": {
        "id": "view-in-github",
        "colab_type": "text"
      },
      "source": [
        "<a href=\"https://colab.research.google.com/github/guyyariv/DL_ex3/blob/master/main.ipynb\" target=\"_parent\"><img src=\"https://colab.research.google.com/assets/colab-badge.svg\" alt=\"Open In Colab\"/></a>"
      ]
    },
    {
      "cell_type": "code",
      "execution_count": 1,
      "metadata": {
        "id": "Ws54rEXFwINa"
      },
      "outputs": [],
      "source": [
        "import copy\n",
        "import os\n",
        "import torch\n",
        "import torch.nn as nn\n",
        "import numpy as np\n",
        "import torchvision\n",
        "from torch.autograd import Variable\n",
        "from torch.utils.data import DataLoader\n",
        "from torchvision.utils import save_image\n",
        "from tqdm import tqdm\n",
        "import imageio\n",
        "import torchvision.transforms as transforms\n",
        "import matplotlib.pyplot as plt\n",
        "from torchvision.utils import make_grid\n",
        "import torchvision.datasets as dset\n",
        "import torchvision.transforms as transforms\n",
        "import torch.nn.functional as F\n",
        "import torch.optim as optim\n",
        "## load mnist dataset\n",
        "use_cuda = torch.cuda.is_available()\n",
        "device = torch.device(\"cuda:0\" if torch.cuda.is_available() else \"cpu\")"
      ]
    },
    {
      "cell_type": "markdown",
      "source": [
        "# Data Processing"
      ],
      "metadata": {
        "id": "fdOzvKUAlgDf"
      }
    },
    {
      "cell_type": "code",
      "source": [
        "batch_size = 64\n",
        "\n",
        "root = './data'\n",
        "if not os.path.exists(root):\n",
        "    os.mkdir(root)\n",
        "\n",
        "transform = transforms.Compose([\n",
        "    transforms.Resize((32, 32)),\n",
        "    transforms.ToTensor(),\n",
        "])\n",
        "# training set and train data loader\n",
        "trainset = torchvision.datasets.MNIST(\n",
        "    root='../input', train=True, download=True, transform=transform\n",
        ")\n",
        "\n",
        "trainset_mlp, trainset_autoencoder, two_images = torch.utils.data.random_split(trainset, [200, len(trainset) - 202, 2])\n",
        "train_loader_mlp = DataLoader(\n",
        "    trainset_mlp, batch_size=batch_size, shuffle=True\n",
        ")\n",
        "\n",
        "train_loader_autoencoder = DataLoader(\n",
        "    trainset_autoencoder, batch_size=batch_size, shuffle=True\n",
        ")\n",
        "\n",
        "train_loader_two_images = DataLoader(\n",
        "    two_images, batch_size=batch_size, shuffle=True\n",
        ")\n",
        "\n",
        "trainloader = DataLoader(\n",
        "    trainset, batch_size=batch_size, shuffle=True\n",
        ")\n",
        "# validation set and validation data loader\n",
        "testset = torchvision.datasets.MNIST(\n",
        "    root='../input', train=False, download=True, transform=transform\n",
        ")\n",
        "testloader = DataLoader(\n",
        "    testset, batch_size=batch_size, shuffle=False\n",
        ")"
      ],
      "metadata": {
        "id": "WNnvz6ydle57"
      },
      "execution_count": null,
      "outputs": []
    },
    {
      "cell_type": "code",
      "source": [
        "def calculate_accuracy(y_true, y_pred, is_training=False):\n",
        "    if y_pred.ndim == 2:\n",
        "        y_pred = y_pred.argmax(dim=1)\n",
        "\n",
        "    return torch.sum(y_true == y_pred) / len(y_true)"
      ],
      "metadata": {
        "id": "bzM6NnwtbRQI"
      },
      "execution_count": 3,
      "outputs": []
    },
    {
      "cell_type": "markdown",
      "source": [
        "# Autoencoder architecture"
      ],
      "metadata": {
        "id": "lj3ywVOyl3vf"
      }
    },
    {
      "cell_type": "code",
      "source": [
        "class Encoder(nn.Module):\n",
        "    def __init__(self, lat_dim):\n",
        "        super(Encoder, self).__init__()\n",
        "        ## encoder layers ##\n",
        "        # conv layer (depth from 3 --> 32), 3x3 kernels\n",
        "        self.conv1 = nn.Conv2d(1, 32, 3, padding=1)\n",
        "        # conv layer (depth from 32 --> 16), 3x3 kernels\n",
        "        self.conv2 = nn.Conv2d(32, 16, 3, padding=1)\n",
        "        # pooling layer to reduce x-y dims by two; kernel and stride of 2\n",
        "        self.pool = nn.MaxPool2d(2, 2)\n",
        "        self.fc1 = nn.Linear(1024, 256)\n",
        "        self.fc = nn.Linear(256, lat_dim)\n",
        "\n",
        "    def forward(self, x):\n",
        "        ## encode ##\n",
        "        # add hidden layers with relu activation function\n",
        "        # and maxpooling after\n",
        "        x = F.relu(self.conv1(x))\n",
        "        x = self.pool(x)\n",
        "        # add second hidden layer\n",
        "        x = F.relu(self.conv2(x))\n",
        "        x = self.pool(x).reshape((x.shape[0], 1024))  # compressed representation\n",
        "        x = F.relu(self.fc1(x))\n",
        "        x = self.fc(x)\n",
        "        return x\n",
        "\n",
        "\n",
        "class Decoder(nn.Module):\n",
        "    def __init__(self, lat_dim):\n",
        "        super(Decoder, self).__init__()\n",
        "        ## decoder layers ##\n",
        "        ## a kernel of 2 and a stride of 2 will increase the spatial dims by 2\n",
        "        self.fc = nn.Linear(lat_dim, 256)\n",
        "        self.fc1 = nn.Linear(256, 1024)\n",
        "        self.t_conv1 = nn.ConvTranspose2d(16, 32, 2, stride=2)\n",
        "        self.t_conv2 = nn.ConvTranspose2d(32, 1, 2, stride=2)\n",
        "\n",
        "    def forward(self, x):\n",
        "        ## decode ##\n",
        "        x = F.relu(self.fc(x))\n",
        "        x = F.relu(self.fc1(x)).reshape((x.shape[0], 16, 8, 8))\n",
        "        # add transpose conv layers, with relu activation function\n",
        "        x = F.relu(self.t_conv1(x))\n",
        "        # output layer (with sigmoid for scaling from 0 to 1)\n",
        "        x = torch.sigmoid(self.t_conv2(x))\n",
        "        return x\n",
        "\n",
        "\n",
        "class ConvAutoencoder(nn.Module):\n",
        "    def __init__(self, lat_dim):\n",
        "        super(ConvAutoencoder, self).__init__()\n",
        "        self.encoder = Encoder(lat_dim)\n",
        "        self.decoder = Decoder(lat_dim)\n",
        "\n",
        "    def forward(self, x):\n",
        "        x = self.encoder(x)\n",
        "        x = self.decoder(x)\n",
        "        return x"
      ],
      "metadata": {
        "id": "IRaWNc6rl0gg"
      },
      "execution_count": 4,
      "outputs": []
    },
    {
      "cell_type": "markdown",
      "source": [
        "# Train Autoencoder"
      ],
      "metadata": {
        "id": "rWSV9gGcl5GG"
      }
    },
    {
      "cell_type": "code",
      "source": [
        "def train_autoencoder(model, latent_dim, num_epochs=10, learning_rate=1e-3, trainset=trainset_autoencoder, train_loader=train_loader_autoencoder):\n",
        "    model.train()\n",
        "    loss_list = []\n",
        "    torch.manual_seed(42)\n",
        "    criterion = nn.BCELoss()  # binary cross entropy loss\n",
        "    optimizer = torch.optim.Adam(model.parameters(), lr=learning_rate)\n",
        "    outputs = []\n",
        "    for epoch in range(num_epochs):\n",
        "        loss_counter = 0.0\n",
        "        counter = 0\n",
        "        for i, data in tqdm(enumerate(train_loader), total=int(len(trainset)/train_loader.batch_size)):\n",
        "            img, _ = data\n",
        "            recon = model(img)\n",
        "            loss = criterion(recon, img)\n",
        "            loss.backward()\n",
        "            optimizer.step()\n",
        "            optimizer.zero_grad()\n",
        "            loss_counter += loss.item()\n",
        "            counter += 1\n",
        "        print('Epoch:{}, Loss:{:.4f}'.format(epoch+1, loss_counter / counter))\n",
        "        loss_list.append(loss_counter / counter)\n",
        "        outputs.append((i, img, recon),)\n",
        "    plt.plot(loss_list)\n",
        "    plt.legend('loss', 'epochs')\n",
        "    plt.show()\n",
        "    torch.save(model.encoder.state_dict(), f'encoder_model_{latent_dim}.pth')\n",
        "    torch.save(model.decoder.state_dict(), f'decoder_model_{latent_dim}.pth')\n",
        "\n",
        "    return outputs"
      ],
      "metadata": {
        "id": "r966v9E9l-Zg"
      },
      "execution_count": 5,
      "outputs": []
    },
    {
      "cell_type": "code",
      "source": [
        "def run_autoencoder(latent_dim):\n",
        "    model = ConvAutoencoder(latent_dim)\n",
        "    max_epochs = 40\n",
        "    outputs = train_autoencoder(model, latent_dim=latent_dim, num_epochs=max_epochs)\n",
        "\n",
        "    for k in range(0, max_epochs):\n",
        "        plt.figure(figsize=(9, 2))\n",
        "        imgs = outputs[k][1].detach().numpy()\n",
        "        recon = outputs[k][2].detach().numpy()\n",
        "        for i, item in enumerate(imgs):\n",
        "            if i >= 9: break\n",
        "            plt.subplot(2, 9, i+1)\n",
        "            plt.imshow(item[0], cmap='gray')\n",
        "\n",
        "        for i, item in enumerate(recon):\n",
        "            if i >= 9: break\n",
        "            plt.subplot(2, 9, 9+i+1)\n",
        "            plt.imshow(item[0], cmap='gray')\n",
        "\n",
        "    plt.show()"
      ],
      "metadata": {
        "id": "tnyMuZHJAjrQ"
      },
      "execution_count": 6,
      "outputs": []
    },
    {
      "cell_type": "code",
      "source": [
        "run_autoencoder(latent_dim=5)\n",
        "run_autoencoder(latent_dim=8)\n",
        "run_autoencoder(latent_dim=10)\n",
        "run_autoencoder(latent_dim=14)\n",
        "run_autoencoder(latent_dim=20)"
      ],
      "metadata": {
        "id": "lqqdwrkaAngL",
        "outputId": "82827d90-dc27-4075-a87a-99c69fe7f138",
        "colab": {
          "base_uri": "https://localhost:8080/"
        }
      },
      "execution_count": null,
      "outputs": [
        {
          "output_type": "stream",
          "name": "stderr",
          "text": [
            "935it [01:16, 12.16it/s]\n"
          ]
        },
        {
          "output_type": "stream",
          "name": "stdout",
          "text": [
            "Epoch:1, Loss:0.2092\n"
          ]
        },
        {
          "output_type": "stream",
          "name": "stderr",
          "text": [
            "935it [01:22, 11.33it/s]                         \n"
          ]
        },
        {
          "output_type": "stream",
          "name": "stdout",
          "text": [
            "Epoch:2, Loss:0.1694\n"
          ]
        },
        {
          "output_type": "stream",
          "name": "stderr",
          "text": [
            "935it [01:22, 11.29it/s]                         \n"
          ]
        },
        {
          "output_type": "stream",
          "name": "stdout",
          "text": [
            "Epoch:3, Loss:0.1628\n"
          ]
        },
        {
          "output_type": "stream",
          "name": "stderr",
          "text": [
            "935it [01:21, 11.48it/s]                         \n"
          ]
        },
        {
          "output_type": "stream",
          "name": "stdout",
          "text": [
            "Epoch:4, Loss:0.1593\n"
          ]
        },
        {
          "output_type": "stream",
          "name": "stderr",
          "text": [
            "935it [01:22, 11.28it/s]                         \n"
          ]
        },
        {
          "output_type": "stream",
          "name": "stdout",
          "text": [
            "Epoch:5, Loss:0.1571\n"
          ]
        },
        {
          "output_type": "stream",
          "name": "stderr",
          "text": [
            "935it [01:22, 11.32it/s]                         \n"
          ]
        },
        {
          "output_type": "stream",
          "name": "stdout",
          "text": [
            "Epoch:6, Loss:0.1554\n"
          ]
        },
        {
          "output_type": "stream",
          "name": "stderr",
          "text": [
            "935it [01:22, 11.32it/s]\n"
          ]
        },
        {
          "output_type": "stream",
          "name": "stdout",
          "text": [
            "Epoch:7, Loss:0.1541\n"
          ]
        },
        {
          "output_type": "stream",
          "name": "stderr",
          "text": [
            "935it [01:22, 11.40it/s]                         \n"
          ]
        },
        {
          "output_type": "stream",
          "name": "stdout",
          "text": [
            "Epoch:8, Loss:0.1531\n"
          ]
        },
        {
          "output_type": "stream",
          "name": "stderr",
          "text": [
            "935it [01:21, 11.53it/s]                         \n"
          ]
        },
        {
          "output_type": "stream",
          "name": "stdout",
          "text": [
            "Epoch:9, Loss:0.1521\n"
          ]
        },
        {
          "output_type": "stream",
          "name": "stderr",
          "text": [
            "935it [01:21, 11.52it/s]                         \n"
          ]
        },
        {
          "output_type": "stream",
          "name": "stdout",
          "text": [
            "Epoch:10, Loss:0.1514\n"
          ]
        },
        {
          "output_type": "stream",
          "name": "stderr",
          "text": [
            "935it [01:21, 11.41it/s]                         \n"
          ]
        },
        {
          "output_type": "stream",
          "name": "stdout",
          "text": [
            "Epoch:11, Loss:0.1507\n"
          ]
        },
        {
          "output_type": "stream",
          "name": "stderr",
          "text": [
            "935it [01:22, 11.36it/s]                         \n"
          ]
        },
        {
          "output_type": "stream",
          "name": "stdout",
          "text": [
            "Epoch:12, Loss:0.1502\n"
          ]
        },
        {
          "output_type": "stream",
          "name": "stderr",
          "text": [
            "935it [01:20, 11.56it/s]                         \n"
          ]
        },
        {
          "output_type": "stream",
          "name": "stdout",
          "text": [
            "Epoch:13, Loss:0.1497\n"
          ]
        },
        {
          "output_type": "stream",
          "name": "stderr",
          "text": [
            "935it [01:22, 11.35it/s]                         \n"
          ]
        },
        {
          "output_type": "stream",
          "name": "stdout",
          "text": [
            "Epoch:14, Loss:0.1493\n"
          ]
        },
        {
          "output_type": "stream",
          "name": "stderr",
          "text": [
            "935it [01:21, 11.54it/s]                         \n"
          ]
        },
        {
          "output_type": "stream",
          "name": "stdout",
          "text": [
            "Epoch:15, Loss:0.1490\n"
          ]
        },
        {
          "output_type": "stream",
          "name": "stderr",
          "text": [
            "935it [01:20, 11.58it/s]                         \n"
          ]
        },
        {
          "output_type": "stream",
          "name": "stdout",
          "text": [
            "Epoch:16, Loss:0.1486\n"
          ]
        },
        {
          "output_type": "stream",
          "name": "stderr",
          "text": [
            "935it [01:20, 11.61it/s]                         \n"
          ]
        },
        {
          "output_type": "stream",
          "name": "stdout",
          "text": [
            "Epoch:17, Loss:0.1483\n"
          ]
        },
        {
          "output_type": "stream",
          "name": "stderr",
          "text": [
            "935it [01:20, 11.64it/s]                         \n"
          ]
        },
        {
          "output_type": "stream",
          "name": "stdout",
          "text": [
            "Epoch:18, Loss:0.1480\n"
          ]
        },
        {
          "output_type": "stream",
          "name": "stderr",
          "text": [
            "935it [01:20, 11.65it/s]                         \n"
          ]
        },
        {
          "output_type": "stream",
          "name": "stdout",
          "text": [
            "Epoch:19, Loss:0.1477\n"
          ]
        },
        {
          "output_type": "stream",
          "name": "stderr",
          "text": [
            "935it [01:20, 11.58it/s]                         \n"
          ]
        },
        {
          "output_type": "stream",
          "name": "stdout",
          "text": [
            "Epoch:20, Loss:0.1475\n"
          ]
        },
        {
          "output_type": "stream",
          "name": "stderr",
          "text": [
            "935it [01:21, 11.50it/s]                         \n"
          ]
        },
        {
          "output_type": "stream",
          "name": "stdout",
          "text": [
            "Epoch:21, Loss:0.1472\n"
          ]
        },
        {
          "output_type": "stream",
          "name": "stderr",
          "text": [
            "935it [01:20, 11.61it/s]                         \n"
          ]
        },
        {
          "output_type": "stream",
          "name": "stdout",
          "text": [
            "Epoch:22, Loss:0.1470\n"
          ]
        },
        {
          "output_type": "stream",
          "name": "stderr",
          "text": [
            "935it [01:21, 11.50it/s]                         \n"
          ]
        },
        {
          "output_type": "stream",
          "name": "stdout",
          "text": [
            "Epoch:23, Loss:0.1468\n"
          ]
        },
        {
          "output_type": "stream",
          "name": "stderr",
          "text": [
            "935it [01:20, 11.58it/s]                         \n"
          ]
        },
        {
          "output_type": "stream",
          "name": "stdout",
          "text": [
            "Epoch:24, Loss:0.1466\n"
          ]
        },
        {
          "output_type": "stream",
          "name": "stderr",
          "text": [
            "935it [01:21, 11.53it/s]                         \n"
          ]
        },
        {
          "output_type": "stream",
          "name": "stdout",
          "text": [
            "Epoch:25, Loss:0.1464\n"
          ]
        },
        {
          "output_type": "stream",
          "name": "stderr",
          "text": [
            "935it [01:21, 11.44it/s]                         \n"
          ]
        },
        {
          "output_type": "stream",
          "name": "stdout",
          "text": [
            "Epoch:26, Loss:0.1462\n"
          ]
        },
        {
          "output_type": "stream",
          "name": "stderr",
          "text": [
            "935it [01:21, 11.42it/s]                         \n"
          ]
        },
        {
          "output_type": "stream",
          "name": "stdout",
          "text": [
            "Epoch:27, Loss:0.1461\n"
          ]
        },
        {
          "output_type": "stream",
          "name": "stderr",
          "text": [
            "935it [01:22, 11.39it/s]                         \n"
          ]
        },
        {
          "output_type": "stream",
          "name": "stdout",
          "text": [
            "Epoch:28, Loss:0.1459\n"
          ]
        },
        {
          "output_type": "stream",
          "name": "stderr",
          "text": [
            "935it [01:23, 11.26it/s]                         \n"
          ]
        },
        {
          "output_type": "stream",
          "name": "stdout",
          "text": [
            "Epoch:29, Loss:0.1458\n"
          ]
        },
        {
          "output_type": "stream",
          "name": "stderr",
          "text": [
            "935it [01:23, 11.25it/s]                         \n"
          ]
        },
        {
          "output_type": "stream",
          "name": "stdout",
          "text": [
            "Epoch:30, Loss:0.1456\n"
          ]
        },
        {
          "output_type": "stream",
          "name": "stderr",
          "text": [
            "935it [01:26, 10.83it/s]                         \n"
          ]
        },
        {
          "output_type": "stream",
          "name": "stdout",
          "text": [
            "Epoch:31, Loss:0.1455\n"
          ]
        },
        {
          "output_type": "stream",
          "name": "stderr",
          "text": [
            "935it [01:24, 11.05it/s]\n"
          ]
        },
        {
          "output_type": "stream",
          "name": "stdout",
          "text": [
            "Epoch:32, Loss:0.1454\n"
          ]
        },
        {
          "output_type": "stream",
          "name": "stderr",
          "text": [
            " 65%|██████▌   | 610/934 [00:54<00:28, 11.25it/s]"
          ]
        }
      ]
    },
    {
      "cell_type": "markdown",
      "source": [
        "# Decorrelation"
      ],
      "metadata": {
        "id": "OWH5sEfHC0ZI"
      }
    },
    {
      "cell_type": "code",
      "source": [
        "latents = [5, 8, 10, 14,20]\n",
        "result = dict()\n",
        "for latent_dim in latents:\n",
        "\n",
        "    encoder = Encoder(latent_dim)\n",
        "    encoder.load_state_dict(copy.deepcopy(torch.load(f\"encoder_model_{latent_dim}.pth\", device)))\n",
        "    \n",
        "    trainloader = DataLoader(trainset, batch_size=1000, shuffle=True)\n",
        "    for i, data in enumerate(trainloader):\n",
        "        images, _ = data\n",
        "        latent = encoder(images)\n",
        "        if i == 0:\n",
        "          break\n",
        "    corr = torch.corrcoef(latent.T).detach().numpy()\n",
        "    result[latent_dim] = np.linalg.norm(corr)\n",
        "    print(f'{latent_dim}: {result[latent_dim]}')\n",
        "plt.figure()\n",
        "plt.plot(list(result.keys()),list(result.values()))\n",
        "plt.scatter(list(result.keys()),list(result.values()))\n",
        "plt.xlabel('latent dim')\n",
        "plt.ylabel('norm of cross cor')\n",
        "plt.title('latent dim size correlation')"
      ],
      "metadata": {
        "id": "YvNPZ1NiC5EM",
        "outputId": "8c77991c-6b57-421e-8b67-a3766be3cdfd",
        "colab": {
          "base_uri": "https://localhost:8080/",
          "height": 399
        }
      },
      "execution_count": null,
      "outputs": [
        {
          "output_type": "stream",
          "name": "stdout",
          "text": [
            "5: 2.375281572341919\n",
            "8: 3.338815450668335\n",
            "10: 3.7216219902038574\n",
            "14: 5.005959987640381\n",
            "20: 6.456265449523926\n"
          ]
        },
        {
          "output_type": "execute_result",
          "data": {
            "text/plain": [
              "Text(0.5, 1.0, 'latent dim size correlation')"
            ]
          },
          "metadata": {},
          "execution_count": 21
        },
        {
          "output_type": "display_data",
          "data": {
            "image/png": "[encoded data removed]",
            "text/plain": [
              "<Figure size 432x288 with 1 Axes>"
            ]
          },
          "metadata": {
            "needs_background": "light"
          }
        }
      ]
    },
    {
      "cell_type": "markdown",
      "source": [
        "# MLP Architecture"
      ],
      "metadata": {
        "id": "l6wj-T-6mGVE"
      }
    },
    {
      "cell_type": "code",
      "source": [
        "class Mlp(nn.Module):\n",
        "    def __init__(self, input_dim=latent_dim):\n",
        "        super(Mlp, self).__init__()\n",
        "        self.linear1 = nn.Linear(input_dim, input_dim * 2)\n",
        "        self.linear2 = nn.Linear(input_dim * 2, input_dim)\n",
        "        self.linear3 = nn.Linear(input_dim, input_dim)\n",
        "        self.linear4 = nn.Linear(input_dim, 10)\n",
        "        self.relu = nn.ReLU()\n",
        "\n",
        "    def forward(self, x):\n",
        "        x = self.relu(self.linear1(x))\n",
        "        x = self.relu(self.linear2(x))\n",
        "        x = self.relu(self.linear3(x))\n",
        "        x = self.linear4(x)\n",
        "        return x        \n"
      ],
      "metadata": {
        "id": "iVNiG51OSwVI"
      },
      "execution_count": null,
      "outputs": []
    },
    {
      "cell_type": "markdown",
      "source": [
        "# MLP + Encoder Architecture"
      ],
      "metadata": {
        "id": "wcivd0gkw8SN"
      }
    },
    {
      "cell_type": "code",
      "source": [
        "class MLPEncoder(nn.Module):\n",
        "\n",
        "    def __init__(self):\n",
        "        super(MLPEncoder, self).__init__()\n",
        "        self.encoder = Encoder(lat_dim=20)\n",
        "        self.mlp = Mlp()\n",
        "\n",
        "    def forward(self, x):\n",
        "        x = self.encoder(x)\n",
        "        x = self.mlp(x)\n",
        "        return x"
      ],
      "metadata": {
        "id": "xb1ucB0Kw_6Q"
      },
      "execution_count": null,
      "outputs": []
    },
    {
      "cell_type": "markdown",
      "source": [
        "# Train MLP + Encoder"
      ],
      "metadata": {
        "id": "GN23vlTimxGp"
      }
    },
    {
      "cell_type": "code",
      "source": [
        "def train_classifier(model, train_loader, trainset, encoder, criterion, optimizer):\n",
        "    model.train()\n",
        "    loss_counter = 0.0\n",
        "    acc_counter = 0.0\n",
        "    counter = 0\n",
        "    for i, data in tqdm(enumerate(train_loader), total=int(len(trainset)/train_loader.batch_size)):\n",
        "        img, labels = data\n",
        "        if encoder:\n",
        "            img = encoder(img)\n",
        "        predict = model(img)\n",
        "        loss = criterion(predict, labels)\n",
        "        loss.backward()\n",
        "        optimizer.step()\n",
        "        optimizer.zero_grad()\n",
        "        loss_counter += loss.item()\n",
        "        acc_counter += calculate_accuracy(labels, predict).item()\n",
        "        counter += 1\n",
        "    return loss_counter, acc_counter, counter\n",
        "\n",
        "\n",
        "def eval_classifier(model, test_loader, testset, encoder, criterion):\n",
        "    model.eval()\n",
        "    loss_counter = 0.0\n",
        "    acc_counter = 0.0\n",
        "    counter = 0\n",
        "    for i, data in tqdm(enumerate(test_loader), total=int(len(testset) / test_loader.batch_size)):\n",
        "        img, labels = data\n",
        "        if encoder:\n",
        "            img = encoder(img)\n",
        "        predict = model(img)\n",
        "        loss = criterion(predict, labels)\n",
        "        loss_counter += loss.item()\n",
        "        acc_counter += calculate_accuracy(labels, predict).item()\n",
        "        counter += 1\n",
        "    return loss_counter, acc_counter, counter\n",
        "\n",
        "\n",
        "def classifier(model, num_epochs=10, learning_rate=1e-3, trainset=trainset_mlp, train_loader=train_loader_mlp, model_name='Mlp'):\n",
        "    loss_list = []\n",
        "    acc_list = []\n",
        "    loss_list_test = []\n",
        "    acc_list_test = []\n",
        "    torch.manual_seed(42)\n",
        "    criterion = nn.CrossEntropyLoss()  # cross entropy loss\n",
        "    optimizer = torch.optim.Adam(model.parameters(), lr=learning_rate)\n",
        "    encoder = None\n",
        "    if model_name == 'Mlp':\n",
        "        encoder = Encoder(lat_dim=20)\n",
        "        encoder.load_state_dict(copy.deepcopy(torch.load(\"encoder_model_20.pth\", device)))\n",
        "    for epoch in range(num_epochs):\n",
        "        loss_counter, acc_counter, counter = train_classifier(model, train_loader, trainset, encoder, criterion, optimizer)\n",
        "        loss_counter_test, acc_counter_test, counter_test = eval_classifier(model, testloader, testset, encoder, criterion)\n",
        "        print('Epoch:{}, Loss:{:.4f}'.format(epoch+1, loss_counter / counter))\n",
        "        print('Epoch:{}, acc:{:.4f}'.format(epoch+1, acc_counter / counter))\n",
        "        print('Epoch:{}, Loss test:{:.4f}'.format(epoch+1, loss_counter_test / counter_test))\n",
        "        print('Epoch:{}, acc test:{:.4f}'.format(epoch+1, acc_counter_test / counter_test))\n",
        "        loss_list.append(loss_counter / counter)\n",
        "        acc_list.append(100 * acc_counter / counter)\n",
        "        loss_list_test.append(loss_counter_test / counter_test)\n",
        "        acc_list_test.append(100 * acc_counter_test / counter_test)\n",
        "    plt.plot(loss_list)\n",
        "    plt.plot(loss_list_test)\n",
        "    plt.title('loss')\n",
        "    plt.legend(['train', 'test'])\n",
        "    plt.show()\n",
        "    plt.plot(acc_list)\n",
        "    plt.plot(acc_list_test)\n",
        "    plt.title('accuracy')\n",
        "    plt.legend(['train', 'test'])\n",
        "    plt.show()"
      ],
      "metadata": {
        "id": "6yyjNkQSm1om"
      },
      "execution_count": null,
      "outputs": []
    },
    {
      "cell_type": "code",
      "source": [
        "def run_classifiers():\n",
        "    model = Mlp()\n",
        "    max_epochs = 20\n",
        "    outputs = classifier(model, num_epochs=max_epochs, learning_rate=0.02, model_name='Mlp')\n",
        "\n",
        "    model = MLPEncoder()\n",
        "    max_epochs = 30\n",
        "    outputs = classifier(model, num_epochs=max_epochs, learning_rate=0.01, model_name='MLPEncoder')"
      ],
      "metadata": {
        "id": "0FJWMBP_B7OE"
      },
      "execution_count": null,
      "outputs": []
    },
    {
      "cell_type": "code",
      "source": [
        "run_classifiers()"
      ],
      "metadata": {
        "id": "yOMcGpytF_ly"
      },
      "execution_count": null,
      "outputs": []
    },
    {
      "cell_type": "markdown",
      "source": [
        "Load Encoder and Decoder models for the next tasks"
      ],
      "metadata": {
        "id": "pn9rTo7PPgSY"
      }
    },
    {
      "cell_type": "code",
      "source": [
        "decoder = Decoder(lat_dim=20)\n",
        "decoder.load_state_dict(copy.deepcopy(torch.load(\"decoder_model_20.pth\", device)))\n",
        "decoder.eval()\n",
        "\n",
        "encoder = Encoder(lat_dim=20)\n",
        "encoder.load_state_dict(copy.deepcopy(torch.load(\"encoder_model_20.pth\", device)))\n",
        "encoder.eval()"
      ],
      "metadata": {
        "id": "3SmW2QFPPtPg"
      },
      "execution_count": null,
      "outputs": []
    },
    {
      "cell_type": "markdown",
      "source": [
        "# GAN Architecture"
      ],
      "metadata": {
        "id": "aCNhPGtAyv5y"
      }
    },
    {
      "cell_type": "markdown",
      "source": [
        ""
      ],
      "metadata": {
        "id": "1r87ZtznPsZo"
      }
    },
    {
      "cell_type": "code",
      "source": [
        "class Generator(nn.Module):\n",
        "    def __init__(self, input_dim=20):\n",
        "        super(Generator, self).__init__()\n",
        "        self.linear1 = nn.Linear(input_dim, 1024)\n",
        "        self.linear2 = nn.Linear(1024, 512)\n",
        "        self.linear3 = nn.Linear(512, 256)\n",
        "        self.linear4 = nn.Linear(256, 20)\n",
        "        self.batch_norm_1 = nn.BatchNorm1d(512)\n",
        "        self.batch_norm_2 = nn.BatchNorm1d(256)\n",
        "        self.relu = nn.ReLU()\n",
        "\n",
        "    def forward(self, x):\n",
        "        x = self.relu(self.linear1(x))\n",
        "        x = self.relu(self.batch_norm_1(self.linear2(x)))\n",
        "        x = self.relu(self.batch_norm_2(self.linear3(x)))\n",
        "        x = self.linear4(x)\n",
        "        return x\n",
        "\n",
        "\n",
        "class Discriminator(nn.Module):\n",
        "    def __init__(self):\n",
        "        super(Discriminator, self).__init__()\n",
        "        self.linear1 = nn.Linear(20, 1024)\n",
        "        self.linear2 = nn.Linear(1024, 512)\n",
        "        self.linear3 = nn.Linear(512, 256)\n",
        "        self.linear4 = nn.Linear(256, 1)\n",
        "        self.relu = nn.ReLU()\n",
        "        self.sigmoid = nn.Sigmoid()\n",
        "\n",
        "    def forward(self, x):\n",
        "        x = self.relu(self.linear1(x))\n",
        "        x = self.relu(self.linear2(x))\n",
        "        x = self.relu(self.linear3(x))\n",
        "        x = self.sigmoid(self.linear4(x))\n",
        "        return x"
      ],
      "metadata": {
        "id": "5FvZIMqoyy-T"
      },
      "execution_count": null,
      "outputs": []
    },
    {
      "cell_type": "markdown",
      "source": [
        "# Train GAN"
      ],
      "metadata": {
        "id": "ORisDuMu975K"
      }
    },
    {
      "cell_type": "code",
      "source": [
        "def generate_latent(number_of_images=batch_size, latent_dimension=latent_dim):\n",
        "    \"\"\" Generate noise for number_of_images images, with a specific noise_dimension \"\"\"\n",
        "    return torch.randn(number_of_images, latent_dimension)\n",
        "\n",
        "\n",
        "def generate_specific_digit(number_of_images=batch_size, digit_to_generate=0):\n",
        "    zeros = torch.zeros(number_of_images)\n",
        "    zeros[:] = digit_to_generate\n",
        "    return zeros.to(torch.int64)\n",
        "\n",
        "\n",
        "def initialize_optimizers(generator, discriminator, lr_genrator, lr_discriminator):\n",
        "    \"\"\" Initialize optimizers for Generator and Discriminator. \"\"\"\n",
        "    generator_optimizer = torch.optim.Adam(generator.parameters(), lr=lr_genrator, betas=(0.5, 0.999))\n",
        "    discriminator_optimizer = torch.optim.Adam(discriminator.parameters(), lr=lr_discriminator, betas=(0.5, 0.999))\n",
        "    return generator_optimizer, discriminator_optimizer\n",
        "\n",
        "\n",
        "def show_generated_images(generator):\n",
        "    decoder = Decoder(lat_dim=20)\n",
        "    decoder.load_state_dict(copy.deepcopy(torch.load(\"decoder_model_20.pth\", device)))\n",
        "\n",
        "    latents = generate_latent()\n",
        "    generate_images = generator(latents)\n",
        "    outputs = decoder(generate_images[:16])\n",
        "\n",
        "    plt.figure(figsize=(4, 4))\n",
        "    fig = plt.gcf()\n",
        "    fig.set_size_inches(6, 6)\n",
        "    recon = outputs.detach().numpy()\n",
        "    for i, item in enumerate(recon):\n",
        "        if i >= 16: break\n",
        "        plt.subplot(4, 4, 0+i+1)\n",
        "        plt.imshow(item[0], cmap='gray')\n",
        "\n",
        "    plt.show()"
      ],
      "metadata": {
        "id": "WyNYkyUY6j2v"
      },
      "execution_count": null,
      "outputs": []
    },
    {
      "cell_type": "code",
      "source": [
        "def train_epoch_gan(generator, discriminator, encoder, loss_function, generator_optimizer, discriminator_optimizer):\n",
        "    real_label, fake_label = 1.0, 0.0\n",
        "    loss_dis = 0.0\n",
        "    loss_gen = 0.0\n",
        "    counter = 0\n",
        "    for i, data in tqdm(enumerate(trainloader), total=int(len(trainset)/trainloader.batch_size)):\n",
        "        # train discriminator\n",
        "        discriminator.zero_grad()\n",
        "        img, _ = data\n",
        "        real_images = encoder(img)\n",
        "        label = torch.full((img.shape[0],1), real_label)\n",
        "        output = discriminator(real_images)\n",
        "        error_real_images = loss_function(output, label)\n",
        "        error_real_images.backward()\n",
        "        D_x = output.mean().item()\n",
        "\n",
        "        latent = generate_latent(img.shape[0])\n",
        "        fake = generator(latent)\n",
        "        label.fill_(fake_label)\n",
        "        output = discriminator(fake.detach())\n",
        "        error_fake_images = loss_function(output, label)\n",
        "        error_fake_images.backward()\n",
        "        D_G_z1 = output.mean().item()\n",
        "        errD = error_real_images + error_fake_images\n",
        "        discriminator_optimizer.step()\n",
        "\n",
        "        # train generator\n",
        "        generator.zero_grad()\n",
        "        label.fill_(real_label)\n",
        "        output = discriminator(fake)\n",
        "        errG = loss_function(output, label)\n",
        "        errG.backward()\n",
        "        D_G_z2 = output.mean().item()\n",
        "        generator_optimizer.step()\n",
        "\n",
        "        loss_dis += errD\n",
        "        loss_gen += errG\n",
        "        counter += 1\n",
        "    return loss_dis / counter, loss_gen / counter\n",
        "\n",
        "\n",
        "def train_gan(generator, discriminator, num_epochs=30, lr_discriminator=1e-3, lr_generator=1e-3, trainset=trainset, train_loader=trainloader):\n",
        "    loss_discriminator = []\n",
        "    loss_generator = []\n",
        "    torch.manual_seed(42)\n",
        "    encoder = Encoder(lat_dim=20)\n",
        "    encoder.load_state_dict(copy.deepcopy(torch.load(\"encoder_model_20.pth\", device)))\n",
        "    criterion = nn.BCELoss()\n",
        "    generator_optimizer, discriminator_optimizer = initialize_optimizers(generator, discriminator, lr_generator, lr_discriminator)\n",
        "    for epoch in range(num_epochs):\n",
        "        loss_dis, loss_gen = train_epoch_gan(generator, discriminator, encoder, criterion, generator_optimizer, discriminator_optimizer)\n",
        "        print('Epoch:{}, Loss discriminator:{:.4f}'.format(epoch+1, loss_dis))\n",
        "        print('Epoch:{}, Loss generator:{:.4f}'.format(epoch+1, loss_gen))\n",
        "        loss_discriminator.append(loss_dis)\n",
        "        loss_generator.append(loss_gen)\n",
        "        show_generated_images(generator)\n",
        "        plt.plot(loss_discriminator)\n",
        "        plt.plot(loss_generator)\n",
        "        plt.title('GAN loss')\n",
        "        plt.legend(['discriminator', 'generator'])\n",
        "        plt.show()\n",
        "    torch.save(generator.state_dict(), 'generator.pth')"
      ],
      "metadata": {
        "id": "6kOIGxqo9-BJ"
      },
      "execution_count": null,
      "outputs": []
    },
    {
      "cell_type": "code",
      "source": [
        "def run_gan():\n",
        "    batch_size=128\n",
        "    generator = Generator()\n",
        "    discriminator = Discriminator()\n",
        "    num_epochs = 100\n",
        "    train_gan(generator, discriminator, num_epochs, lr_discriminator=0.0002, lr_generator=0.0002)\n",
        "\n",
        "    # interpolation experiment - GAN\n",
        "    print('interpolation experiment - GAN')\n",
        "    latents = generate_latent()\n",
        "    for a in range(11):\n",
        "        a = a / 10\n",
        "        generator.eval()\n",
        "        interpolation = a*latents[:1] + (1-a)*latents[1:2]\n",
        "        genetared = generator(interpolation)\n",
        "        outputs = decoder(genetared.reshape((1, 20)))\n",
        "        plt.figure(figsize=(4, 4))\n",
        "        fig = plt.gcf()\n",
        "        fig.set_size_inches(6, 6)\n",
        "        recon = outputs.detach().numpy()\n",
        "        for i, item in enumerate(recon):\n",
        "            if i >= 16: break\n",
        "            plt.subplot(4, 4, 0+i+1)\n",
        "            plt.imshow(item[0], cmap='gray')\n",
        "        plt.show()\n",
        "\n",
        "    # interpolation experiment - AE\n",
        "    print('interpolation experiment - AE')\n",
        "    for i, data in enumerate(train_loader_two_images):\n",
        "        img, labels = data\n",
        "        l1 = img[0]\n",
        "        l2 = img[1]\n",
        "        for a in range(11):\n",
        "            a = a / 10\n",
        "            interpolation = a*encoder(l1.reshape(1, 1, 32, 32)) + (1-a)*encoder(l2.reshape(1, 1, 32, 32))\n",
        "            interpolation = decoder(interpolation)\n",
        "            plt.imshow(interpolation.detach().numpy().reshape((32, 32)), cmap='gray')\n",
        "            plt.show()\n",
        "\n"
      ],
      "metadata": {
        "id": "pEmULqIgHsP4"
      },
      "execution_count": null,
      "outputs": []
    },
    {
      "cell_type": "code",
      "source": [
        "run_gan()"
      ],
      "metadata": {
        "id": "9UvGvsssIFBm"
      },
      "execution_count": null,
      "outputs": []
    },
    {
      "cell_type": "markdown",
      "source": [
        "# Conditional GAN"
      ],
      "metadata": {
        "id": "ZfkDfBTeWklh"
      }
    },
    {
      "cell_type": "code",
      "source": [
        "class ConditionalGenerator(nn.Module):\n",
        "    def __init__(self, input_dim=20):\n",
        "        super(ConditionalGenerator, self).__init__()\n",
        "        self.linear1 = nn.Linear(input_dim+10, 1024)\n",
        "        self.linear2 = nn.Linear(1024, 512)\n",
        "        self.linear3 = nn.Linear(512, 256)\n",
        "        self.linear4 = nn.Linear(256, 20)\n",
        "        self.embedding = nn.Embedding(10, 10)\n",
        "        self.relu = nn.ReLU()\n",
        "\n",
        "    def forward(self, x, labels):\n",
        "        c = self.embedding(labels)\n",
        "        x = torch.cat([x, c], 1)\n",
        "        x = self.relu(self.linear1(x))\n",
        "        x = self.relu(self.linear2(x))\n",
        "        x = self.relu(self.linear3(x))\n",
        "        x = self.linear4(x)\n",
        "        return x\n",
        "\n",
        "\n",
        "class ConditionalDiscriminator(nn.Module):\n",
        "    def __init__(self):\n",
        "        super(ConditionalDiscriminator, self).__init__()\n",
        "        self.linear1 = nn.Linear(20+10, 1024)\n",
        "        self.linear2 = nn.Linear(1024, 512)\n",
        "        self.linear3 = nn.Linear(512, 256)\n",
        "        self.linear4 = nn.Linear(256, 1)\n",
        "        self.embedding = nn.Embedding(10, 10)\n",
        "        self.relu = nn.ReLU()\n",
        "        self.sigmoid = nn.Sigmoid()\n",
        "\n",
        "    def forward(self, x, labels):\n",
        "        c = self.embedding(labels)\n",
        "        x = torch.cat([x, c], 1)\n",
        "        x = self.relu(self.linear1(x))\n",
        "        x = self.relu(self.linear2(x))\n",
        "        x = self.relu(self.linear3(x))\n",
        "        x = self.sigmoid(self.linear4(x))\n",
        "        return x"
      ],
      "metadata": {
        "id": "tgZJ8zK3QZ8w"
      },
      "execution_count": null,
      "outputs": []
    },
    {
      "cell_type": "markdown",
      "source": [
        "# Train Conditional GAN"
      ],
      "metadata": {
        "id": "xq-iejROyO9o"
      }
    },
    {
      "cell_type": "code",
      "source": [
        "def generate_fake_labels(number_of_images=batch_size):\n",
        "    return torch.randint(0, 10, (number_of_images,))\n",
        "\n",
        "\n",
        "def show_cgan_images(generator, digits=[2]):\n",
        "     for digit in digits:\n",
        "        print('digit: ', digit)\n",
        "        labels = generate_specific_digit(digit_to_generate=digit)\n",
        "        latents = generate_latent()\n",
        "        generate_images = generator(latents, labels)\n",
        "        # print(\"Generate images: \", generate_images)\n",
        "        outputs = decoder(generate_images[:16])\n",
        "\n",
        "        plt.figure(figsize=(4, 4))\n",
        "        fig = plt.gcf()\n",
        "        fig.set_size_inches(6, 6)\n",
        "        recon = outputs.detach().numpy()\n",
        "        for i, item in enumerate(recon):\n",
        "            if i >= 16: break\n",
        "            plt.subplot(4, 4, 0+i+1)\n",
        "            plt.imshow(item[0], cmap='gray')\n",
        "\n",
        "        plt.show()\n",
        "\n",
        "\n",
        "def train_epoch_cgan(generator, discriminator, encoder, loss_function, generator_optimizer, discriminator_optimizer):\n",
        "    real_label, fake_label = 1.0, 0.0\n",
        "    loss_dis = 0.0\n",
        "    loss_gen = 0.0\n",
        "    counter = 0\n",
        "    for i, data in tqdm(enumerate(trainloader), total=int(len(trainset)/trainloader.batch_size)):\n",
        "        # train discriminator\n",
        "        discriminator.zero_grad()\n",
        "        img, digit_labels = data\n",
        "        real_images = encoder(img)\n",
        "        label = torch.full((img.shape[0],1), real_label)\n",
        "        output = discriminator(real_images, digit_labels)\n",
        "        error_real_images = loss_function(output, label)\n",
        "        error_real_images.backward()\n",
        "        D_x = output.mean().item()\n",
        "\n",
        "        latent = generate_latent(img.shape[0])\n",
        "        fake_digit_label = generate_fake_labels(img.shape[0])\n",
        "        fake = generator(latent, fake_digit_label)\n",
        "        output = discriminator(fake.detach(), fake_digit_label)\n",
        "        label.fill_(fake_label)\n",
        "        error_fake_images = loss_function(output, label)\n",
        "        error_fake_images.backward()\n",
        "        D_G_z1 = output.mean().item()\n",
        "        errD = error_real_images + error_fake_images\n",
        "        discriminator_optimizer.step()\n",
        "\n",
        "        # train generator\n",
        "        generator.zero_grad()\n",
        "        generated_data = generator(latent, fake_digit_label)\n",
        "        output = discriminator(generated_data, fake_digit_label)\n",
        "        label.fill_(real_label)\n",
        "        errG = loss_function(output, label)\n",
        "        errG.backward()\n",
        "        D_G_z2 = output.mean().item()\n",
        "        generator_optimizer.step()\n",
        "\n",
        "        loss_dis += errD\n",
        "        loss_gen += errG\n",
        "        counter += 1\n",
        "    return loss_dis / counter, loss_gen / counter\n",
        "\n",
        "\n",
        "def train_cgan(generator, discriminator, num_epochs=30, lr_discriminator=1e-3, lr_generator=1e-3, trainset=trainset, train_loader=trainloader):\n",
        "    loss_discriminator = []\n",
        "    loss_generator = []\n",
        "    torch.manual_seed(42)\n",
        "    criterion = nn.BCELoss()\n",
        "    generator_optimizer, discriminator_optimizer = initialize_optimizers(generator, discriminator, lr_generator, lr_discriminator)\n",
        "    for epoch in range(num_epochs):\n",
        "        loss_dis, loss_gen = train_epoch_cgan(generator, discriminator, encoder, criterion, generator_optimizer, discriminator_optimizer)\n",
        "        print('Epoch:{}, Loss discriminator:{:.4f}'.format(epoch+1, loss_dis))\n",
        "        print('Epoch:{}, Loss generator:{:.4f}'.format(epoch+1, loss_gen))\n",
        "        loss_discriminator.append(loss_dis)\n",
        "        loss_generator.append(loss_gen)\n",
        "        show_cgan_images(generator)\n",
        "        plt.plot(loss_discriminator)\n",
        "        plt.plot(loss_generator)\n",
        "        plt.title('Conditional GAN loss')\n",
        "        plt.legend(['discriminator', 'generator'])\n",
        "        plt.show()\n",
        "        torch.save(generator.state_dict(), 'cond_generator.pth')\n"
      ],
      "metadata": {
        "id": "Va-nZ9n7yKQ8"
      },
      "execution_count": null,
      "outputs": []
    },
    {
      "cell_type": "code",
      "source": [
        "def run_cgan():\n",
        "    batch_size = 128\n",
        "    generator = ConditionalGenerator()\n",
        "    discriminator = ConditionalDiscriminator()\n",
        "    num_epochs = 1\n",
        "    train_cgan(generator, discriminator, num_epochs, lr_discriminator=0.0002, lr_generator=0.0002)\n",
        "    show_cgan_images(generator, list(range(10)))"
      ],
      "metadata": {
        "id": "dIxLSFMZQjwr"
      },
      "execution_count": null,
      "outputs": []
    },
    {
      "cell_type": "code",
      "source": [
        "run_cgan()"
      ],
      "metadata": {
        "id": "3X2320JJQoms"
      },
      "execution_count": null,
      "outputs": []
    }
  ]
}