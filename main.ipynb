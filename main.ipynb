{
  "nbformat": 4,
  "nbformat_minor": 0,
  "metadata": {
    "colab": {
      "name": "Untitled5.ipynb",
      "provenance": [],
      "include_colab_link": true
    },
    "kernelspec": {
      "name": "python3",
      "display_name": "Python 3"
    },
    "language_info": {
      "name": "python"
    },
    "accelerator": "GPU",
    "widgets": {
      "application/vnd.jupyter.widget-state+json": {
        "32d0589cba2943e1a6d2605f09f047a6": {
          "model_module": "@jupyter-widgets/controls",
          "model_name": "HBoxModel",
          "model_module_version": "1.5.0",
          "state": {
            "_view_name": "HBoxView",
            "_dom_classes": [],
            "_model_name": "HBoxModel",
            "_view_module": "@jupyter-widgets/controls",
            "_model_module_version": "1.5.0",
            "_view_count": null,
            "_view_module_version": "1.5.0",
            "box_style": "",
            "layout": "IPY_MODEL_b1ccd2fae8184e669606987cee217942",
            "_model_module": "@jupyter-widgets/controls",
            "children": [
              "IPY_MODEL_dbb8bdfa083347409dd4b9bad33cddfe",
              "IPY_MODEL_106c5da433d6453da8e1b9dc33a78b26",
              "IPY_MODEL_3c6eb56caf0a42639daf39343f9b0e65"
            ]
          }
        },
        "b1ccd2fae8184e669606987cee217942": {
          "model_module": "@jupyter-widgets/base",
          "model_name": "LayoutModel",
          "model_module_version": "1.2.0",
          "state": {
            "_view_name": "LayoutView",
            "grid_template_rows": null,
            "right": null,
            "justify_content": null,
            "_view_module": "@jupyter-widgets/base",
            "overflow": null,
            "_model_module_version": "1.2.0",
            "_view_count": null,
            "flex_flow": null,
            "width": null,
            "min_width": null,
            "border": null,
            "align_items": null,
            "bottom": null,
            "_model_module": "@jupyter-widgets/base",
            "top": null,
            "grid_column": null,
            "overflow_y": null,
            "overflow_x": null,
            "grid_auto_flow": null,
            "grid_area": null,
            "grid_template_columns": null,
            "flex": null,
            "_model_name": "LayoutModel",
            "justify_items": null,
            "grid_row": null,
            "max_height": null,
            "align_content": null,
            "visibility": null,
            "align_self": null,
            "height": null,
            "min_height": null,
            "padding": null,
            "grid_auto_rows": null,
            "grid_gap": null,
            "max_width": null,
            "order": null,
            "_view_module_version": "1.2.0",
            "grid_template_areas": null,
            "object_position": null,
            "object_fit": null,
            "grid_auto_columns": null,
            "margin": null,
            "display": null,
            "left": null
          }
        },
        "dbb8bdfa083347409dd4b9bad33cddfe": {
          "model_module": "@jupyter-widgets/controls",
          "model_name": "HTMLModel",
          "model_module_version": "1.5.0",
          "state": {
            "_view_name": "HTMLView",
            "style": "IPY_MODEL_830b0c5b9206490d9f975b6a9e6ca366",
            "_dom_classes": [],
            "description": "",
            "_model_name": "HTMLModel",
            "placeholder": "​",
            "_view_module": "@jupyter-widgets/controls",
            "_model_module_version": "1.5.0",
            "value": "",
            "_view_count": null,
            "_view_module_version": "1.5.0",
            "description_tooltip": null,
            "_model_module": "@jupyter-widgets/controls",
            "layout": "IPY_MODEL_2d92cd717019460e9dfbe0565d89c9ea"
          }
        },
        "106c5da433d6453da8e1b9dc33a78b26": {
          "model_module": "@jupyter-widgets/controls",
          "model_name": "FloatProgressModel",
          "model_module_version": "1.5.0",
          "state": {
            "_view_name": "ProgressView",
            "style": "IPY_MODEL_511b932596a94c80a0e6b1400465f454",
            "_dom_classes": [],
            "description": "",
            "_model_name": "FloatProgressModel",
            "bar_style": "success",
            "max": 9912422,
            "_view_module": "@jupyter-widgets/controls",
            "_model_module_version": "1.5.0",
            "value": 9912422,
            "_view_count": null,
            "_view_module_version": "1.5.0",
            "orientation": "horizontal",
            "min": 0,
            "description_tooltip": null,
            "_model_module": "@jupyter-widgets/controls",
            "layout": "IPY_MODEL_8357186ffc784c5ba45df82bcb1ea8b1"
          }
        },
        "3c6eb56caf0a42639daf39343f9b0e65": {
          "model_module": "@jupyter-widgets/controls",
          "model_name": "HTMLModel",
          "model_module_version": "1.5.0",
          "state": {
            "_view_name": "HTMLView",
            "style": "IPY_MODEL_ff0849859e5c4294abe5c60d030ea9eb",
            "_dom_classes": [],
            "description": "",
            "_model_name": "HTMLModel",
            "placeholder": "​",
            "_view_module": "@jupyter-widgets/controls",
            "_model_module_version": "1.5.0",
            "value": " 9913344/? [00:00&lt;00:00, 14435054.69it/s]",
            "_view_count": null,
            "_view_module_version": "1.5.0",
            "description_tooltip": null,
            "_model_module": "@jupyter-widgets/controls",
            "layout": "IPY_MODEL_f35274820d2849c3ae743645bffff744"
          }
        },
        "830b0c5b9206490d9f975b6a9e6ca366": {
          "model_module": "@jupyter-widgets/controls",
          "model_name": "DescriptionStyleModel",
          "model_module_version": "1.5.0",
          "state": {
            "_view_name": "StyleView",
            "_model_name": "DescriptionStyleModel",
            "description_width": "",
            "_view_module": "@jupyter-widgets/base",
            "_model_module_version": "1.5.0",
            "_view_count": null,
            "_view_module_version": "1.2.0",
            "_model_module": "@jupyter-widgets/controls"
          }
        },
        "2d92cd717019460e9dfbe0565d89c9ea": {
          "model_module": "@jupyter-widgets/base",
          "model_name": "LayoutModel",
          "model_module_version": "1.2.0",
          "state": {
            "_view_name": "LayoutView",
            "grid_template_rows": null,
            "right": null,
            "justify_content": null,
            "_view_module": "@jupyter-widgets/base",
            "overflow": null,
            "_model_module_version": "1.2.0",
            "_view_count": null,
            "flex_flow": null,
            "width": null,
            "min_width": null,
            "border": null,
            "align_items": null,
            "bottom": null,
            "_model_module": "@jupyter-widgets/base",
            "top": null,
            "grid_column": null,
            "overflow_y": null,
            "overflow_x": null,
            "grid_auto_flow": null,
            "grid_area": null,
            "grid_template_columns": null,
            "flex": null,
            "_model_name": "LayoutModel",
            "justify_items": null,
            "grid_row": null,
            "max_height": null,
            "align_content": null,
            "visibility": null,
            "align_self": null,
            "height": null,
            "min_height": null,
            "padding": null,
            "grid_auto_rows": null,
            "grid_gap": null,
            "max_width": null,
            "order": null,
            "_view_module_version": "1.2.0",
            "grid_template_areas": null,
            "object_position": null,
            "object_fit": null,
            "grid_auto_columns": null,
            "margin": null,
            "display": null,
            "left": null
          }
        },
        "511b932596a94c80a0e6b1400465f454": {
          "model_module": "@jupyter-widgets/controls",
          "model_name": "ProgressStyleModel",
          "model_module_version": "1.5.0",
          "state": {
            "_view_name": "StyleView",
            "_model_name": "ProgressStyleModel",
            "description_width": "",
            "_view_module": "@jupyter-widgets/base",
            "_model_module_version": "1.5.0",
            "_view_count": null,
            "_view_module_version": "1.2.0",
            "bar_color": null,
            "_model_module": "@jupyter-widgets/controls"
          }
        },
        "8357186ffc784c5ba45df82bcb1ea8b1": {
          "model_module": "@jupyter-widgets/base",
          "model_name": "LayoutModel",
          "model_module_version": "1.2.0",
          "state": {
            "_view_name": "LayoutView",
            "grid_template_rows": null,
            "right": null,
            "justify_content": null,
            "_view_module": "@jupyter-widgets/base",
            "overflow": null,
            "_model_module_version": "1.2.0",
            "_view_count": null,
            "flex_flow": null,
            "width": null,
            "min_width": null,
            "border": null,
            "align_items": null,
            "bottom": null,
            "_model_module": "@jupyter-widgets/base",
            "top": null,
            "grid_column": null,
            "overflow_y": null,
            "overflow_x": null,
            "grid_auto_flow": null,
            "grid_area": null,
            "grid_template_columns": null,
            "flex": null,
            "_model_name": "LayoutModel",
            "justify_items": null,
            "grid_row": null,
            "max_height": null,
            "align_content": null,
            "visibility": null,
            "align_self": null,
            "height": null,
            "min_height": null,
            "padding": null,
            "grid_auto_rows": null,
            "grid_gap": null,
            "max_width": null,
            "order": null,
            "_view_module_version": "1.2.0",
            "grid_template_areas": null,
            "object_position": null,
            "object_fit": null,
            "grid_auto_columns": null,
            "margin": null,
            "display": null,
            "left": null
          }
        },
        "ff0849859e5c4294abe5c60d030ea9eb": {
          "model_module": "@jupyter-widgets/controls",
          "model_name": "DescriptionStyleModel",
          "model_module_version": "1.5.0",
          "state": {
            "_view_name": "StyleView",
            "_model_name": "DescriptionStyleModel",
            "description_width": "",
            "_view_module": "@jupyter-widgets/base",
            "_model_module_version": "1.5.0",
            "_view_count": null,
            "_view_module_version": "1.2.0",
            "_model_module": "@jupyter-widgets/controls"
          }
        },
        "f35274820d2849c3ae743645bffff744": {
          "model_module": "@jupyter-widgets/base",
          "model_name": "LayoutModel",
          "model_module_version": "1.2.0",
          "state": {
            "_view_name": "LayoutView",
            "grid_template_rows": null,
            "right": null,
            "justify_content": null,
            "_view_module": "@jupyter-widgets/base",
            "overflow": null,
            "_model_module_version": "1.2.0",
            "_view_count": null,
            "flex_flow": null,
            "width": null,
            "min_width": null,
            "border": null,
            "align_items": null,
            "bottom": null,
            "_model_module": "@jupyter-widgets/base",
            "top": null,
            "grid_column": null,
            "overflow_y": null,
            "overflow_x": null,
            "grid_auto_flow": null,
            "grid_area": null,
            "grid_template_columns": null,
            "flex": null,
            "_model_name": "LayoutModel",
            "justify_items": null,
            "grid_row": null,
            "max_height": null,
            "align_content": null,
            "visibility": null,
            "align_self": null,
            "height": null,
            "min_height": null,
            "padding": null,
            "grid_auto_rows": null,
            "grid_gap": null,
            "max_width": null,
            "order": null,
            "_view_module_version": "1.2.0",
            "grid_template_areas": null,
            "object_position": null,
            "object_fit": null,
            "grid_auto_columns": null,
            "margin": null,
            "display": null,
            "left": null
          }
        },
        "11c884ac577949909a1c66a4850f539c": {
          "model_module": "@jupyter-widgets/controls",
          "model_name": "HBoxModel",
          "model_module_version": "1.5.0",
          "state": {
            "_view_name": "HBoxView",
            "_dom_classes": [],
            "_model_name": "HBoxModel",
            "_view_module": "@jupyter-widgets/controls",
            "_model_module_version": "1.5.0",
            "_view_count": null,
            "_view_module_version": "1.5.0",
            "box_style": "",
            "layout": "IPY_MODEL_7f35961b966c483fb93eae940a965924",
            "_model_module": "@jupyter-widgets/controls",
            "children": [
              "IPY_MODEL_8aad7fa6ea2f49e0b952c41568f83157",
              "IPY_MODEL_8697768490014524beceb4b712c11c42",
              "IPY_MODEL_3ad99a4197c04f93afe3d08453827480"
            ]
          }
        },
        "7f35961b966c483fb93eae940a965924": {
          "model_module": "@jupyter-widgets/base",
          "model_name": "LayoutModel",
          "model_module_version": "1.2.0",
          "state": {
            "_view_name": "LayoutView",
            "grid_template_rows": null,
            "right": null,
            "justify_content": null,
            "_view_module": "@jupyter-widgets/base",
            "overflow": null,
            "_model_module_version": "1.2.0",
            "_view_count": null,
            "flex_flow": null,
            "width": null,
            "min_width": null,
            "border": null,
            "align_items": null,
            "bottom": null,
            "_model_module": "@jupyter-widgets/base",
            "top": null,
            "grid_column": null,
            "overflow_y": null,
            "overflow_x": null,
            "grid_auto_flow": null,
            "grid_area": null,
            "grid_template_columns": null,
            "flex": null,
            "_model_name": "LayoutModel",
            "justify_items": null,
            "grid_row": null,
            "max_height": null,
            "align_content": null,
            "visibility": null,
            "align_self": null,
            "height": null,
            "min_height": null,
            "padding": null,
            "grid_auto_rows": null,
            "grid_gap": null,
            "max_width": null,
            "order": null,
            "_view_module_version": "1.2.0",
            "grid_template_areas": null,
            "object_position": null,
            "object_fit": null,
            "grid_auto_columns": null,
            "margin": null,
            "display": null,
            "left": null
          }
        },
        "8aad7fa6ea2f49e0b952c41568f83157": {
          "model_module": "@jupyter-widgets/controls",
          "model_name": "HTMLModel",
          "model_module_version": "1.5.0",
          "state": {
            "_view_name": "HTMLView",
            "style": "IPY_MODEL_6ced23baacd8485299d4ca6e403ae08e",
            "_dom_classes": [],
            "description": "",
            "_model_name": "HTMLModel",
            "placeholder": "​",
            "_view_module": "@jupyter-widgets/controls",
            "_model_module_version": "1.5.0",
            "value": "",
            "_view_count": null,
            "_view_module_version": "1.5.0",
            "description_tooltip": null,
            "_model_module": "@jupyter-widgets/controls",
            "layout": "IPY_MODEL_e635361de47b48fabbb8b0094f67c430"
          }
        },
        "8697768490014524beceb4b712c11c42": {
          "model_module": "@jupyter-widgets/controls",
          "model_name": "FloatProgressModel",
          "model_module_version": "1.5.0",
          "state": {
            "_view_name": "ProgressView",
            "style": "IPY_MODEL_b24e228195314c0e845dbe9ad657fe03",
            "_dom_classes": [],
            "description": "",
            "_model_name": "FloatProgressModel",
            "bar_style": "success",
            "max": 28881,
            "_view_module": "@jupyter-widgets/controls",
            "_model_module_version": "1.5.0",
            "value": 28881,
            "_view_count": null,
            "_view_module_version": "1.5.0",
            "orientation": "horizontal",
            "min": 0,
            "description_tooltip": null,
            "_model_module": "@jupyter-widgets/controls",
            "layout": "IPY_MODEL_102f0005621e4b2bae3263bad1a0a18c"
          }
        },
        "3ad99a4197c04f93afe3d08453827480": {
          "model_module": "@jupyter-widgets/controls",
          "model_name": "HTMLModel",
          "model_module_version": "1.5.0",
          "state": {
            "_view_name": "HTMLView",
            "style": "IPY_MODEL_64d7ee8e486c4a22b28bb463b367c285",
            "_dom_classes": [],
            "description": "",
            "_model_name": "HTMLModel",
            "placeholder": "​",
            "_view_module": "@jupyter-widgets/controls",
            "_model_module_version": "1.5.0",
            "value": " 29696/? [00:00&lt;00:00, 6016.73it/s]",
            "_view_count": null,
            "_view_module_version": "1.5.0",
            "description_tooltip": null,
            "_model_module": "@jupyter-widgets/controls",
            "layout": "IPY_MODEL_9166b39a51e24211acaae12bf6a36743"
          }
        },
        "6ced23baacd8485299d4ca6e403ae08e": {
          "model_module": "@jupyter-widgets/controls",
          "model_name": "DescriptionStyleModel",
          "model_module_version": "1.5.0",
          "state": {
            "_view_name": "StyleView",
            "_model_name": "DescriptionStyleModel",
            "description_width": "",
            "_view_module": "@jupyter-widgets/base",
            "_model_module_version": "1.5.0",
            "_view_count": null,
            "_view_module_version": "1.2.0",
            "_model_module": "@jupyter-widgets/controls"
          }
        },
        "e635361de47b48fabbb8b0094f67c430": {
          "model_module": "@jupyter-widgets/base",
          "model_name": "LayoutModel",
          "model_module_version": "1.2.0",
          "state": {
            "_view_name": "LayoutView",
            "grid_template_rows": null,
            "right": null,
            "justify_content": null,
            "_view_module": "@jupyter-widgets/base",
            "overflow": null,
            "_model_module_version": "1.2.0",
            "_view_count": null,
            "flex_flow": null,
            "width": null,
            "min_width": null,
            "border": null,
            "align_items": null,
            "bottom": null,
            "_model_module": "@jupyter-widgets/base",
            "top": null,
            "grid_column": null,
            "overflow_y": null,
            "overflow_x": null,
            "grid_auto_flow": null,
            "grid_area": null,
            "grid_template_columns": null,
            "flex": null,
            "_model_name": "LayoutModel",
            "justify_items": null,
            "grid_row": null,
            "max_height": null,
            "align_content": null,
            "visibility": null,
            "align_self": null,
            "height": null,
            "min_height": null,
            "padding": null,
            "grid_auto_rows": null,
            "grid_gap": null,
            "max_width": null,
            "order": null,
            "_view_module_version": "1.2.0",
            "grid_template_areas": null,
            "object_position": null,
            "object_fit": null,
            "grid_auto_columns": null,
            "margin": null,
            "display": null,
            "left": null
          }
        },
        "b24e228195314c0e845dbe9ad657fe03": {
          "model_module": "@jupyter-widgets/controls",
          "model_name": "ProgressStyleModel",
          "model_module_version": "1.5.0",
          "state": {
            "_view_name": "StyleView",
            "_model_name": "ProgressStyleModel",
            "description_width": "",
            "_view_module": "@jupyter-widgets/base",
            "_model_module_version": "1.5.0",
            "_view_count": null,
            "_view_module_version": "1.2.0",
            "bar_color": null,
            "_model_module": "@jupyter-widgets/controls"
          }
        },
        "102f0005621e4b2bae3263bad1a0a18c": {
          "model_module": "@jupyter-widgets/base",
          "model_name": "LayoutModel",
          "model_module_version": "1.2.0",
          "state": {
            "_view_name": "LayoutView",
            "grid_template_rows": null,
            "right": null,
            "justify_content": null,
            "_view_module": "@jupyter-widgets/base",
            "overflow": null,
            "_model_module_version": "1.2.0",
            "_view_count": null,
            "flex_flow": null,
            "width": null,
            "min_width": null,
            "border": null,
            "align_items": null,
            "bottom": null,
            "_model_module": "@jupyter-widgets/base",
            "top": null,
            "grid_column": null,
            "overflow_y": null,
            "overflow_x": null,
            "grid_auto_flow": null,
            "grid_area": null,
            "grid_template_columns": null,
            "flex": null,
            "_model_name": "LayoutModel",
            "justify_items": null,
            "grid_row": null,
            "max_height": null,
            "align_content": null,
            "visibility": null,
            "align_self": null,
            "height": null,
            "min_height": null,
            "padding": null,
            "grid_auto_rows": null,
            "grid_gap": null,
            "max_width": null,
            "order": null,
            "_view_module_version": "1.2.0",
            "grid_template_areas": null,
            "object_position": null,
            "object_fit": null,
            "grid_auto_columns": null,
            "margin": null,
            "display": null,
            "left": null
          }
        },
        "64d7ee8e486c4a22b28bb463b367c285": {
          "model_module": "@jupyter-widgets/controls",
          "model_name": "DescriptionStyleModel",
          "model_module_version": "1.5.0",
          "state": {
            "_view_name": "StyleView",
            "_model_name": "DescriptionStyleModel",
            "description_width": "",
            "_view_module": "@jupyter-widgets/base",
            "_model_module_version": "1.5.0",
            "_view_count": null,
            "_view_module_version": "1.2.0",
            "_model_module": "@jupyter-widgets/controls"
          }
        },
        "9166b39a51e24211acaae12bf6a36743": {
          "model_module": "@jupyter-widgets/base",
          "model_name": "LayoutModel",
          "model_module_version": "1.2.0",
          "state": {
            "_view_name": "LayoutView",
            "grid_template_rows": null,
            "right": null,
            "justify_content": null,
            "_view_module": "@jupyter-widgets/base",
            "overflow": null,
            "_model_module_version": "1.2.0",
            "_view_count": null,
            "flex_flow": null,
            "width": null,
            "min_width": null,
            "border": null,
            "align_items": null,
            "bottom": null,
            "_model_module": "@jupyter-widgets/base",
            "top": null,
            "grid_column": null,
            "overflow_y": null,
            "overflow_x": null,
            "grid_auto_flow": null,
            "grid_area": null,
            "grid_template_columns": null,
            "flex": null,
            "_model_name": "LayoutModel",
            "justify_items": null,
            "grid_row": null,
            "max_height": null,
            "align_content": null,
            "visibility": null,
            "align_self": null,
            "height": null,
            "min_height": null,
            "padding": null,
            "grid_auto_rows": null,
            "grid_gap": null,
            "max_width": null,
            "order": null,
            "_view_module_version": "1.2.0",
            "grid_template_areas": null,
            "object_position": null,
            "object_fit": null,
            "grid_auto_columns": null,
            "margin": null,
            "display": null,
            "left": null
          }
        },
        "9a4463cd338440179d4ac1acbe247d66": {
          "model_module": "@jupyter-widgets/controls",
          "model_name": "HBoxModel",
          "model_module_version": "1.5.0",
          "state": {
            "_view_name": "HBoxView",
            "_dom_classes": [],
            "_model_name": "HBoxModel",
            "_view_module": "@jupyter-widgets/controls",
            "_model_module_version": "1.5.0",
            "_view_count": null,
            "_view_module_version": "1.5.0",
            "box_style": "",
            "layout": "IPY_MODEL_ddaeb86401be4faea6b4085001b52ba1",
            "_model_module": "@jupyter-widgets/controls",
            "children": [
              "IPY_MODEL_58331005b17843ebb3463620022c25e6",
              "IPY_MODEL_b1974cc9c20d440899e102ea887d0b1a",
              "IPY_MODEL_9c35773d50b3420d8c4f65d84f263dfe"
            ]
          }
        },
        "ddaeb86401be4faea6b4085001b52ba1": {
          "model_module": "@jupyter-widgets/base",
          "model_name": "LayoutModel",
          "model_module_version": "1.2.0",
          "state": {
            "_view_name": "LayoutView",
            "grid_template_rows": null,
            "right": null,
            "justify_content": null,
            "_view_module": "@jupyter-widgets/base",
            "overflow": null,
            "_model_module_version": "1.2.0",
            "_view_count": null,
            "flex_flow": null,
            "width": null,
            "min_width": null,
            "border": null,
            "align_items": null,
            "bottom": null,
            "_model_module": "@jupyter-widgets/base",
            "top": null,
            "grid_column": null,
            "overflow_y": null,
            "overflow_x": null,
            "grid_auto_flow": null,
            "grid_area": null,
            "grid_template_columns": null,
            "flex": null,
            "_model_name": "LayoutModel",
            "justify_items": null,
            "grid_row": null,
            "max_height": null,
            "align_content": null,
            "visibility": null,
            "align_self": null,
            "height": null,
            "min_height": null,
            "padding": null,
            "grid_auto_rows": null,
            "grid_gap": null,
            "max_width": null,
            "order": null,
            "_view_module_version": "1.2.0",
            "grid_template_areas": null,
            "object_position": null,
            "object_fit": null,
            "grid_auto_columns": null,
            "margin": null,
            "display": null,
            "left": null
          }
        },
        "58331005b17843ebb3463620022c25e6": {
          "model_module": "@jupyter-widgets/controls",
          "model_name": "HTMLModel",
          "model_module_version": "1.5.0",
          "state": {
            "_view_name": "HTMLView",
            "style": "IPY_MODEL_02a3e1e2290f494b9fd14d7f9f3afd80",
            "_dom_classes": [],
            "description": "",
            "_model_name": "HTMLModel",
            "placeholder": "​",
            "_view_module": "@jupyter-widgets/controls",
            "_model_module_version": "1.5.0",
            "value": "",
            "_view_count": null,
            "_view_module_version": "1.5.0",
            "description_tooltip": null,
            "_model_module": "@jupyter-widgets/controls",
            "layout": "IPY_MODEL_402ec01633d44b808f4b528b4f0191e3"
          }
        },
        "b1974cc9c20d440899e102ea887d0b1a": {
          "model_module": "@jupyter-widgets/controls",
          "model_name": "FloatProgressModel",
          "model_module_version": "1.5.0",
          "state": {
            "_view_name": "ProgressView",
            "style": "IPY_MODEL_447d6eafa9ad44ca9ae0df594297c371",
            "_dom_classes": [],
            "description": "",
            "_model_name": "FloatProgressModel",
            "bar_style": "success",
            "max": 1648877,
            "_view_module": "@jupyter-widgets/controls",
            "_model_module_version": "1.5.0",
            "value": 1648877,
            "_view_count": null,
            "_view_module_version": "1.5.0",
            "orientation": "horizontal",
            "min": 0,
            "description_tooltip": null,
            "_model_module": "@jupyter-widgets/controls",
            "layout": "IPY_MODEL_f5ac59acdc30483585385ad4e98db04e"
          }
        },
        "9c35773d50b3420d8c4f65d84f263dfe": {
          "model_module": "@jupyter-widgets/controls",
          "model_name": "HTMLModel",
          "model_module_version": "1.5.0",
          "state": {
            "_view_name": "HTMLView",
            "style": "IPY_MODEL_3751bd2d1f7e447daa2f123dcc9c10dd",
            "_dom_classes": [],
            "description": "",
            "_model_name": "HTMLModel",
            "placeholder": "​",
            "_view_module": "@jupyter-widgets/controls",
            "_model_module_version": "1.5.0",
            "value": " 1649664/? [00:00&lt;00:00, 2661506.56it/s]",
            "_view_count": null,
            "_view_module_version": "1.5.0",
            "description_tooltip": null,
            "_model_module": "@jupyter-widgets/controls",
            "layout": "IPY_MODEL_329408e8b4ab45008c2ac7224ae85867"
          }
        },
        "02a3e1e2290f494b9fd14d7f9f3afd80": {
          "model_module": "@jupyter-widgets/controls",
          "model_name": "DescriptionStyleModel",
          "model_module_version": "1.5.0",
          "state": {
            "_view_name": "StyleView",
            "_model_name": "DescriptionStyleModel",
            "description_width": "",
            "_view_module": "@jupyter-widgets/base",
            "_model_module_version": "1.5.0",
            "_view_count": null,
            "_view_module_version": "1.2.0",
            "_model_module": "@jupyter-widgets/controls"
          }
        },
        "402ec01633d44b808f4b528b4f0191e3": {
          "model_module": "@jupyter-widgets/base",
          "model_name": "LayoutModel",
          "model_module_version": "1.2.0",
          "state": {
            "_view_name": "LayoutView",
            "grid_template_rows": null,
            "right": null,
            "justify_content": null,
            "_view_module": "@jupyter-widgets/base",
            "overflow": null,
            "_model_module_version": "1.2.0",
            "_view_count": null,
            "flex_flow": null,
            "width": null,
            "min_width": null,
            "border": null,
            "align_items": null,
            "bottom": null,
            "_model_module": "@jupyter-widgets/base",
            "top": null,
            "grid_column": null,
            "overflow_y": null,
            "overflow_x": null,
            "grid_auto_flow": null,
            "grid_area": null,
            "grid_template_columns": null,
            "flex": null,
            "_model_name": "LayoutModel",
            "justify_items": null,
            "grid_row": null,
            "max_height": null,
            "align_content": null,
            "visibility": null,
            "align_self": null,
            "height": null,
            "min_height": null,
            "padding": null,
            "grid_auto_rows": null,
            "grid_gap": null,
            "max_width": null,
            "order": null,
            "_view_module_version": "1.2.0",
            "grid_template_areas": null,
            "object_position": null,
            "object_fit": null,
            "grid_auto_columns": null,
            "margin": null,
            "display": null,
            "left": null
          }
        },
        "447d6eafa9ad44ca9ae0df594297c371": {
          "model_module": "@jupyter-widgets/controls",
          "model_name": "ProgressStyleModel",
          "model_module_version": "1.5.0",
          "state": {
            "_view_name": "StyleView",
            "_model_name": "ProgressStyleModel",
            "description_width": "",
            "_view_module": "@jupyter-widgets/base",
            "_model_module_version": "1.5.0",
            "_view_count": null,
            "_view_module_version": "1.2.0",
            "bar_color": null,
            "_model_module": "@jupyter-widgets/controls"
          }
        },
        "f5ac59acdc30483585385ad4e98db04e": {
          "model_module": "@jupyter-widgets/base",
          "model_name": "LayoutModel",
          "model_module_version": "1.2.0",
          "state": {
            "_view_name": "LayoutView",
            "grid_template_rows": null,
            "right": null,
            "justify_content": null,
            "_view_module": "@jupyter-widgets/base",
            "overflow": null,
            "_model_module_version": "1.2.0",
            "_view_count": null,
            "flex_flow": null,
            "width": null,
            "min_width": null,
            "border": null,
            "align_items": null,
            "bottom": null,
            "_model_module": "@jupyter-widgets/base",
            "top": null,
            "grid_column": null,
            "overflow_y": null,
            "overflow_x": null,
            "grid_auto_flow": null,
            "grid_area": null,
            "grid_template_columns": null,
            "flex": null,
            "_model_name": "LayoutModel",
            "justify_items": null,
            "grid_row": null,
            "max_height": null,
            "align_content": null,
            "visibility": null,
            "align_self": null,
            "height": null,
            "min_height": null,
            "padding": null,
            "grid_auto_rows": null,
            "grid_gap": null,
            "max_width": null,
            "order": null,
            "_view_module_version": "1.2.0",
            "grid_template_areas": null,
            "object_position": null,
            "object_fit": null,
            "grid_auto_columns": null,
            "margin": null,
            "display": null,
            "left": null
          }
        },
        "3751bd2d1f7e447daa2f123dcc9c10dd": {
          "model_module": "@jupyter-widgets/controls",
          "model_name": "DescriptionStyleModel",
          "model_module_version": "1.5.0",
          "state": {
            "_view_name": "StyleView",
            "_model_name": "DescriptionStyleModel",
            "description_width": "",
            "_view_module": "@jupyter-widgets/base",
            "_model_module_version": "1.5.0",
            "_view_count": null,
            "_view_module_version": "1.2.0",
            "_model_module": "@jupyter-widgets/controls"
          }
        },
        "329408e8b4ab45008c2ac7224ae85867": {
          "model_module": "@jupyter-widgets/base",
          "model_name": "LayoutModel",
          "model_module_version": "1.2.0",
          "state": {
            "_view_name": "LayoutView",
            "grid_template_rows": null,
            "right": null,
            "justify_content": null,
            "_view_module": "@jupyter-widgets/base",
            "overflow": null,
            "_model_module_version": "1.2.0",
            "_view_count": null,
            "flex_flow": null,
            "width": null,
            "min_width": null,
            "border": null,
            "align_items": null,
            "bottom": null,
            "_model_module": "@jupyter-widgets/base",
            "top": null,
            "grid_column": null,
            "overflow_y": null,
            "overflow_x": null,
            "grid_auto_flow": null,
            "grid_area": null,
            "grid_template_columns": null,
            "flex": null,
            "_model_name": "LayoutModel",
            "justify_items": null,
            "grid_row": null,
            "max_height": null,
            "align_content": null,
            "visibility": null,
            "align_self": null,
            "height": null,
            "min_height": null,
            "padding": null,
            "grid_auto_rows": null,
            "grid_gap": null,
            "max_width": null,
            "order": null,
            "_view_module_version": "1.2.0",
            "grid_template_areas": null,
            "object_position": null,
            "object_fit": null,
            "grid_auto_columns": null,
            "margin": null,
            "display": null,
            "left": null
          }
        },
        "8f995cd808b144fabe45693207c03a96": {
          "model_module": "@jupyter-widgets/controls",
          "model_name": "HBoxModel",
          "model_module_version": "1.5.0",
          "state": {
            "_view_name": "HBoxView",
            "_dom_classes": [],
            "_model_name": "HBoxModel",
            "_view_module": "@jupyter-widgets/controls",
            "_model_module_version": "1.5.0",
            "_view_count": null,
            "_view_module_version": "1.5.0",
            "box_style": "",
            "layout": "IPY_MODEL_3cd67c0fe9ad4f4c94be83bda597cd8c",
            "_model_module": "@jupyter-widgets/controls",
            "children": [
              "IPY_MODEL_eea53cc29ac64515a3dc05d41a0b0bff",
              "IPY_MODEL_6a8a48c5ae1142548cf9e273b15c7719",
              "IPY_MODEL_b39f0f9588d44726b326bba6c3c8f355"
            ]
          }
        },
        "3cd67c0fe9ad4f4c94be83bda597cd8c": {
          "model_module": "@jupyter-widgets/base",
          "model_name": "LayoutModel",
          "model_module_version": "1.2.0",
          "state": {
            "_view_name": "LayoutView",
            "grid_template_rows": null,
            "right": null,
            "justify_content": null,
            "_view_module": "@jupyter-widgets/base",
            "overflow": null,
            "_model_module_version": "1.2.0",
            "_view_count": null,
            "flex_flow": null,
            "width": null,
            "min_width": null,
            "border": null,
            "align_items": null,
            "bottom": null,
            "_model_module": "@jupyter-widgets/base",
            "top": null,
            "grid_column": null,
            "overflow_y": null,
            "overflow_x": null,
            "grid_auto_flow": null,
            "grid_area": null,
            "grid_template_columns": null,
            "flex": null,
            "_model_name": "LayoutModel",
            "justify_items": null,
            "grid_row": null,
            "max_height": null,
            "align_content": null,
            "visibility": null,
            "align_self": null,
            "height": null,
            "min_height": null,
            "padding": null,
            "grid_auto_rows": null,
            "grid_gap": null,
            "max_width": null,
            "order": null,
            "_view_module_version": "1.2.0",
            "grid_template_areas": null,
            "object_position": null,
            "object_fit": null,
            "grid_auto_columns": null,
            "margin": null,
            "display": null,
            "left": null
          }
        },
        "eea53cc29ac64515a3dc05d41a0b0bff": {
          "model_module": "@jupyter-widgets/controls",
          "model_name": "HTMLModel",
          "model_module_version": "1.5.0",
          "state": {
            "_view_name": "HTMLView",
            "style": "IPY_MODEL_b88fc418cb0942478944a89def0cd63d",
            "_dom_classes": [],
            "description": "",
            "_model_name": "HTMLModel",
            "placeholder": "​",
            "_view_module": "@jupyter-widgets/controls",
            "_model_module_version": "1.5.0",
            "value": "",
            "_view_count": null,
            "_view_module_version": "1.5.0",
            "description_tooltip": null,
            "_model_module": "@jupyter-widgets/controls",
            "layout": "IPY_MODEL_f5e62c4097f247c6be2c795d90c89846"
          }
        },
        "6a8a48c5ae1142548cf9e273b15c7719": {
          "model_module": "@jupyter-widgets/controls",
          "model_name": "FloatProgressModel",
          "model_module_version": "1.5.0",
          "state": {
            "_view_name": "ProgressView",
            "style": "IPY_MODEL_c04af6453012475388c34567985e5508",
            "_dom_classes": [],
            "description": "",
            "_model_name": "FloatProgressModel",
            "bar_style": "success",
            "max": 4542,
            "_view_module": "@jupyter-widgets/controls",
            "_model_module_version": "1.5.0",
            "value": 4542,
            "_view_count": null,
            "_view_module_version": "1.5.0",
            "orientation": "horizontal",
            "min": 0,
            "description_tooltip": null,
            "_model_module": "@jupyter-widgets/controls",
            "layout": "IPY_MODEL_493c2d7869534408a6c8516cce09ab2e"
          }
        },
        "b39f0f9588d44726b326bba6c3c8f355": {
          "model_module": "@jupyter-widgets/controls",
          "model_name": "HTMLModel",
          "model_module_version": "1.5.0",
          "state": {
            "_view_name": "HTMLView",
            "style": "IPY_MODEL_3ecfce43436c478b88011922448bad49",
            "_dom_classes": [],
            "description": "",
            "_model_name": "HTMLModel",
            "placeholder": "​",
            "_view_module": "@jupyter-widgets/controls",
            "_model_module_version": "1.5.0",
            "value": " 5120/? [00:00&lt;00:00, 8619.88it/s]",
            "_view_count": null,
            "_view_module_version": "1.5.0",
            "description_tooltip": null,
            "_model_module": "@jupyter-widgets/controls",
            "layout": "IPY_MODEL_68462287dbb74cca9eb08a49a2048d4a"
          }
        },
        "b88fc418cb0942478944a89def0cd63d": {
          "model_module": "@jupyter-widgets/controls",
          "model_name": "DescriptionStyleModel",
          "model_module_version": "1.5.0",
          "state": {
            "_view_name": "StyleView",
            "_model_name": "DescriptionStyleModel",
            "description_width": "",
            "_view_module": "@jupyter-widgets/base",
            "_model_module_version": "1.5.0",
            "_view_count": null,
            "_view_module_version": "1.2.0",
            "_model_module": "@jupyter-widgets/controls"
          }
        },
        "f5e62c4097f247c6be2c795d90c89846": {
          "model_module": "@jupyter-widgets/base",
          "model_name": "LayoutModel",
          "model_module_version": "1.2.0",
          "state": {
            "_view_name": "LayoutView",
            "grid_template_rows": null,
            "right": null,
            "justify_content": null,
            "_view_module": "@jupyter-widgets/base",
            "overflow": null,
            "_model_module_version": "1.2.0",
            "_view_count": null,
            "flex_flow": null,
            "width": null,
            "min_width": null,
            "border": null,
            "align_items": null,
            "bottom": null,
            "_model_module": "@jupyter-widgets/base",
            "top": null,
            "grid_column": null,
            "overflow_y": null,
            "overflow_x": null,
            "grid_auto_flow": null,
            "grid_area": null,
            "grid_template_columns": null,
            "flex": null,
            "_model_name": "LayoutModel",
            "justify_items": null,
            "grid_row": null,
            "max_height": null,
            "align_content": null,
            "visibility": null,
            "align_self": null,
            "height": null,
            "min_height": null,
            "padding": null,
            "grid_auto_rows": null,
            "grid_gap": null,
            "max_width": null,
            "order": null,
            "_view_module_version": "1.2.0",
            "grid_template_areas": null,
            "object_position": null,
            "object_fit": null,
            "grid_auto_columns": null,
            "margin": null,
            "display": null,
            "left": null
          }
        },
        "c04af6453012475388c34567985e5508": {
          "model_module": "@jupyter-widgets/controls",
          "model_name": "ProgressStyleModel",
          "model_module_version": "1.5.0",
          "state": {
            "_view_name": "StyleView",
            "_model_name": "ProgressStyleModel",
            "description_width": "",
            "_view_module": "@jupyter-widgets/base",
            "_model_module_version": "1.5.0",
            "_view_count": null,
            "_view_module_version": "1.2.0",
            "bar_color": null,
            "_model_module": "@jupyter-widgets/controls"
          }
        },
        "493c2d7869534408a6c8516cce09ab2e": {
          "model_module": "@jupyter-widgets/base",
          "model_name": "LayoutModel",
          "model_module_version": "1.2.0",
          "state": {
            "_view_name": "LayoutView",
            "grid_template_rows": null,
            "right": null,
            "justify_content": null,
            "_view_module": "@jupyter-widgets/base",
            "overflow": null,
            "_model_module_version": "1.2.0",
            "_view_count": null,
            "flex_flow": null,
            "width": null,
            "min_width": null,
            "border": null,
            "align_items": null,
            "bottom": null,
            "_model_module": "@jupyter-widgets/base",
            "top": null,
            "grid_column": null,
            "overflow_y": null,
            "overflow_x": null,
            "grid_auto_flow": null,
            "grid_area": null,
            "grid_template_columns": null,
            "flex": null,
            "_model_name": "LayoutModel",
            "justify_items": null,
            "grid_row": null,
            "max_height": null,
            "align_content": null,
            "visibility": null,
            "align_self": null,
            "height": null,
            "min_height": null,
            "padding": null,
            "grid_auto_rows": null,
            "grid_gap": null,
            "max_width": null,
            "order": null,
            "_view_module_version": "1.2.0",
            "grid_template_areas": null,
            "object_position": null,
            "object_fit": null,
            "grid_auto_columns": null,
            "margin": null,
            "display": null,
            "left": null
          }
        },
        "3ecfce43436c478b88011922448bad49": {
          "model_module": "@jupyter-widgets/controls",
          "model_name": "DescriptionStyleModel",
          "model_module_version": "1.5.0",
          "state": {
            "_view_name": "StyleView",
            "_model_name": "DescriptionStyleModel",
            "description_width": "",
            "_view_module": "@jupyter-widgets/base",
            "_model_module_version": "1.5.0",
            "_view_count": null,
            "_view_module_version": "1.2.0",
            "_model_module": "@jupyter-widgets/controls"
          }
        },
        "68462287dbb74cca9eb08a49a2048d4a": {
          "model_module": "@jupyter-widgets/base",
          "model_name": "LayoutModel",
          "model_module_version": "1.2.0",
          "state": {
            "_view_name": "LayoutView",
            "grid_template_rows": null,
            "right": null,
            "justify_content": null,
            "_view_module": "@jupyter-widgets/base",
            "overflow": null,
            "_model_module_version": "1.2.0",
            "_view_count": null,
            "flex_flow": null,
            "width": null,
            "min_width": null,
            "border": null,
            "align_items": null,
            "bottom": null,
            "_model_module": "@jupyter-widgets/base",
            "top": null,
            "grid_column": null,
            "overflow_y": null,
            "overflow_x": null,
            "grid_auto_flow": null,
            "grid_area": null,
            "grid_template_columns": null,
            "flex": null,
            "_model_name": "LayoutModel",
            "justify_items": null,
            "grid_row": null,
            "max_height": null,
            "align_content": null,
            "visibility": null,
            "align_self": null,
            "height": null,
            "min_height": null,
            "padding": null,
            "grid_auto_rows": null,
            "grid_gap": null,
            "max_width": null,
            "order": null,
            "_view_module_version": "1.2.0",
            "grid_template_areas": null,
            "object_position": null,
            "object_fit": null,
            "grid_auto_columns": null,
            "margin": null,
            "display": null,
            "left": null
          }
        }
      }
    }
  },
  "cells": [
    {
      "cell_type": "markdown",
      "metadata": {
        "id": "view-in-github",
        "colab_type": "text"
      },
      "source": [
        "<a href=\"https://colab.research.google.com/github/guyyariv/DL_ex3/blob/master/main.ipynb\" target=\"_parent\"><img src=\"https://colab.research.google.com/assets/colab-badge.svg\" alt=\"Open In Colab\"/></a>"
      ]
    },
    {
      "cell_type": "code",
      "execution_count": null,
      "metadata": {
        "id": "Ws54rEXFwINa"
      },
      "outputs": [],
      "source": [
        "import copy\n",
        "import os\n",
        "import torch\n",
        "import torch.nn as nn\n",
        "import numpy as np\n",
        "import torchvision\n",
        "from torch.autograd import Variable\n",
        "from torch.utils.data import DataLoader\n",
        "from torchvision.utils import save_image\n",
        "from tqdm import tqdm\n",
        "import imageio\n",
        "import torchvision.transforms as transforms\n",
        "import matplotlib.pyplot as plt\n",
        "from torchvision.utils import make_grid\n",
        "import torchvision.datasets as dset\n",
        "import torchvision.transforms as transforms\n",
        "import torch.nn.functional as F\n",
        "import torch.optim as optim\n",
        "## load mnist dataset\n",
        "use_cuda = torch.cuda.is_available()\n",
        "device = torch.device(\"cuda:0\" if torch.cuda.is_available() else \"cpu\")\n"
      ]
    },
    {
      "cell_type": "markdown",
      "source": [
        "# Creating data sets"
      ],
      "metadata": {
        "id": "fdOzvKUAlgDf"
      }
    },
    {
      "cell_type": "code",
      "source": [
        "batch_size = 64\n",
        "latent_dim = 20\n",
        "train_size_for_mlp = 0.0033\n",
        "\n",
        "root = './data'\n",
        "if not os.path.exists(root):\n",
        "    os.mkdir(root)\n",
        "\n",
        "transform = transforms.Compose([\n",
        "    transforms.Resize((32, 32)),\n",
        "    transforms.ToTensor(),\n",
        "])\n",
        "# training set and train data loader\n",
        "trainset = torchvision.datasets.MNIST(\n",
        "    root='../input', train=True, download=True, transform=transform\n",
        ")\n",
        "\n",
        "trainset_mlp, trainset_autoencoder = torch.utils.data.random_split(trainset, [int(60000 * train_size_for_mlp), int(60000 * (1 - train_size_for_mlp))])\n",
        "\n",
        "train_loader_mlp = DataLoader(\n",
        "    trainset_mlp, batch_size=batch_size, shuffle=True\n",
        ")\n",
        "\n",
        "train_loader_autoencoder = DataLoader(\n",
        "    trainset_autoencoder, batch_size=batch_size, shuffle=True\n",
        ")\n",
        "\n",
        "trainloader = DataLoader(\n",
        "    trainset, batch_size=batch_size, shuffle=True\n",
        ")\n",
        "# validation set and validation data loader\n",
        "testset = torchvision.datasets.MNIST(\n",
        "    root='../input', train=False, download=True, transform=transform\n",
        ")\n",
        "testloader = DataLoader(\n",
        "    testset, batch_size=batch_size, shuffle=False\n",
        ")\n",
        "\n",
        "\n",
        "def calculate_accuracy(y_true, y_pred, is_training=False):\n",
        "    if y_pred.ndim == 2:\n",
        "        y_pred = y_pred.argmax(dim=1)\n",
        "\n",
        "    return torch.sum(y_true == y_pred) / len(y_true)"
      ],
      "metadata": {
        "id": "WNnvz6ydle57",
        "outputId": "49e40756-9161-44e2-cbc8-fcd28da34a79",
        "colab": {
          "base_uri": "https://localhost:8080/",
          "height": 423,
          "referenced_widgets": [
            "32d0589cba2943e1a6d2605f09f047a6",
            "b1ccd2fae8184e669606987cee217942",
            "dbb8bdfa083347409dd4b9bad33cddfe",
            "106c5da433d6453da8e1b9dc33a78b26",
            "3c6eb56caf0a42639daf39343f9b0e65",
            "830b0c5b9206490d9f975b6a9e6ca366",
            "2d92cd717019460e9dfbe0565d89c9ea",
            "511b932596a94c80a0e6b1400465f454",
            "8357186ffc784c5ba45df82bcb1ea8b1",
            "ff0849859e5c4294abe5c60d030ea9eb",
            "f35274820d2849c3ae743645bffff744",
            "11c884ac577949909a1c66a4850f539c",
            "7f35961b966c483fb93eae940a965924",
            "8aad7fa6ea2f49e0b952c41568f83157",
            "8697768490014524beceb4b712c11c42",
            "3ad99a4197c04f93afe3d08453827480",
            "6ced23baacd8485299d4ca6e403ae08e",
            "e635361de47b48fabbb8b0094f67c430",
            "b24e228195314c0e845dbe9ad657fe03",
            "102f0005621e4b2bae3263bad1a0a18c",
            "64d7ee8e486c4a22b28bb463b367c285",
            "9166b39a51e24211acaae12bf6a36743",
            "9a4463cd338440179d4ac1acbe247d66",
            "ddaeb86401be4faea6b4085001b52ba1",
            "58331005b17843ebb3463620022c25e6",
            "b1974cc9c20d440899e102ea887d0b1a",
            "9c35773d50b3420d8c4f65d84f263dfe",
            "02a3e1e2290f494b9fd14d7f9f3afd80",
            "402ec01633d44b808f4b528b4f0191e3",
            "447d6eafa9ad44ca9ae0df594297c371",
            "f5ac59acdc30483585385ad4e98db04e",
            "3751bd2d1f7e447daa2f123dcc9c10dd",
            "329408e8b4ab45008c2ac7224ae85867",
            "8f995cd808b144fabe45693207c03a96",
            "3cd67c0fe9ad4f4c94be83bda597cd8c",
            "eea53cc29ac64515a3dc05d41a0b0bff",
            "6a8a48c5ae1142548cf9e273b15c7719",
            "b39f0f9588d44726b326bba6c3c8f355",
            "b88fc418cb0942478944a89def0cd63d",
            "f5e62c4097f247c6be2c795d90c89846",
            "c04af6453012475388c34567985e5508",
            "493c2d7869534408a6c8516cce09ab2e",
            "3ecfce43436c478b88011922448bad49",
            "68462287dbb74cca9eb08a49a2048d4a"
          ]
        }
      },
      "execution_count": null,
      "outputs": [
        {
          "output_type": "stream",
          "name": "stdout",
          "text": [
            "Downloading http://yann.lecun.com/exdb/mnist/train-images-idx3-ubyte.gz\n",
            "Downloading http://yann.lecun.com/exdb/mnist/train-images-idx3-ubyte.gz to ../input/MNIST/raw/train-images-idx3-ubyte.gz\n"
          ]
        },
        {
          "output_type": "display_data",
          "data": {
            "application/vnd.jupyter.widget-view+json": {
              "model_id": "32d0589cba2943e1a6d2605f09f047a6",
              "version_minor": 0,
              "version_major": 2
            },
            "text/plain": [
              "  0%|          | 0/9912422 [00:00<?, ?it/s]"
            ]
          },
          "metadata": {}
        },
        {
          "output_type": "stream",
          "name": "stdout",
          "text": [
            "Extracting ../input/MNIST/raw/train-images-idx3-ubyte.gz to ../input/MNIST/raw\n",
            "\n",
            "Downloading http://yann.lecun.com/exdb/mnist/train-labels-idx1-ubyte.gz\n",
            "Downloading http://yann.lecun.com/exdb/mnist/train-labels-idx1-ubyte.gz to ../input/MNIST/raw/train-labels-idx1-ubyte.gz\n"
          ]
        },
        {
          "output_type": "display_data",
          "data": {
            "application/vnd.jupyter.widget-view+json": {
              "model_id": "11c884ac577949909a1c66a4850f539c",
              "version_minor": 0,
              "version_major": 2
            },
            "text/plain": [
              "  0%|          | 0/28881 [00:00<?, ?it/s]"
            ]
          },
          "metadata": {}
        },
        {
          "output_type": "stream",
          "name": "stdout",
          "text": [
            "Extracting ../input/MNIST/raw/train-labels-idx1-ubyte.gz to ../input/MNIST/raw\n",
            "\n",
            "Downloading http://yann.lecun.com/exdb/mnist/t10k-images-idx3-ubyte.gz\n",
            "Downloading http://yann.lecun.com/exdb/mnist/t10k-images-idx3-ubyte.gz to ../input/MNIST/raw/t10k-images-idx3-ubyte.gz\n"
          ]
        },
        {
          "output_type": "display_data",
          "data": {
            "application/vnd.jupyter.widget-view+json": {
              "model_id": "9a4463cd338440179d4ac1acbe247d66",
              "version_minor": 0,
              "version_major": 2
            },
            "text/plain": [
              "  0%|          | 0/1648877 [00:00<?, ?it/s]"
            ]
          },
          "metadata": {}
        },
        {
          "output_type": "stream",
          "name": "stdout",
          "text": [
            "Extracting ../input/MNIST/raw/t10k-images-idx3-ubyte.gz to ../input/MNIST/raw\n",
            "\n",
            "Downloading http://yann.lecun.com/exdb/mnist/t10k-labels-idx1-ubyte.gz\n",
            "Downloading http://yann.lecun.com/exdb/mnist/t10k-labels-idx1-ubyte.gz to ../input/MNIST/raw/t10k-labels-idx1-ubyte.gz\n"
          ]
        },
        {
          "output_type": "display_data",
          "data": {
            "application/vnd.jupyter.widget-view+json": {
              "model_id": "8f995cd808b144fabe45693207c03a96",
              "version_minor": 0,
              "version_major": 2
            },
            "text/plain": [
              "  0%|          | 0/4542 [00:00<?, ?it/s]"
            ]
          },
          "metadata": {}
        },
        {
          "output_type": "stream",
          "name": "stdout",
          "text": [
            "Extracting ../input/MNIST/raw/t10k-labels-idx1-ubyte.gz to ../input/MNIST/raw\n",
            "\n"
          ]
        }
      ]
    },
    {
      "cell_type": "markdown",
      "source": [
        "# Autoencoder architecture"
      ],
      "metadata": {
        "id": "lj3ywVOyl3vf"
      }
    },
    {
      "cell_type": "code",
      "source": [
        "class Encoder(nn.Module):\n",
        "    def __init__(self):\n",
        "        super(Encoder, self).__init__()\n",
        "        ## encoder layers ##\n",
        "        # conv layer (depth from 3 --> 16), 3x3 kernels\n",
        "        self.conv1 = nn.Conv2d(1, 16, 3, padding=1)\n",
        "        # conv layer (depth from 16 --> 4), 3x3 kernels\n",
        "        self.conv2 = nn.Conv2d(16, 4, 3, padding=1)\n",
        "        # pooling layer to reduce x-y dims by two; kernel and stride of 2\n",
        "        self.pool = nn.MaxPool2d(2, 2)\n",
        "        self.fc = nn.Linear(256, latent_dim)\n",
        "\n",
        "    def forward(self, x):\n",
        "        ## encode ##\n",
        "        # add hidden layers with relu activation function\n",
        "        # and maxpooling after\n",
        "        x = F.relu(self.conv1(x))\n",
        "        x = self.pool(x)\n",
        "        # add second hidden layer\n",
        "        x = F.relu(self.conv2(x))\n",
        "        x = self.pool(x).reshape((x.shape[0], 256))  # compressed representation\n",
        "        x = self.fc(x)\n",
        "        return x\n",
        "\n",
        "\n",
        "class Decoder(nn.Module):\n",
        "    def __init__(self):\n",
        "        super(Decoder, self).__init__()\n",
        "        ## decoder layers ##\n",
        "        ## a kernel of 2 and a stride of 2 will increase the spatial dims by 2\n",
        "        self.fc = nn.Linear(latent_dim, 256)\n",
        "        self.t_conv1 = nn.ConvTranspose2d(4, 16, 2, stride=2)\n",
        "        self.t_conv2 = nn.ConvTranspose2d(16, 1, 2, stride=2)\n",
        "\n",
        "    def forward(self, x):\n",
        "        ## decode ##\n",
        "        x = self.fc(x).reshape((x.shape[0], 4, 8, 8))\n",
        "        # add transpose conv layers, with relu activation function\n",
        "        x = F.relu(self.t_conv1(x))\n",
        "        # output layer (with sigmoid for scaling from 0 to 1)\n",
        "        x = torch.sigmoid(self.t_conv2(x))\n",
        "        return x\n",
        "\n",
        "\n",
        "class ConvAutoencoder(nn.Module):\n",
        "    def __init__(self):\n",
        "        super(ConvAutoencoder, self).__init__()\n",
        "        self.encoder = Encoder()\n",
        "        self.decoder = Decoder()\n",
        "\n",
        "    def forward(self, x):\n",
        "        x = self.encoder(x)\n",
        "        x = self.decoder(x)\n",
        "        return x"
      ],
      "metadata": {
        "id": "IRaWNc6rl0gg"
      },
      "execution_count": null,
      "outputs": []
    },
    {
      "cell_type": "markdown",
      "source": [
        "# Train Autoencoder"
      ],
      "metadata": {
        "id": "rWSV9gGcl5GG"
      }
    },
    {
      "cell_type": "code",
      "source": [
        "def train_autoencoder(model, num_epochs=10, learning_rate=1e-3, trainset=trainset_autoencoder, train_loader=train_loader_autoencoder):\n",
        "    model.train()\n",
        "    loss_list = []\n",
        "    torch.manual_seed(42)\n",
        "    criterion = nn.BCELoss()  # binary cross entropy loss\n",
        "    optimizer = torch.optim.Adam(model.parameters(), lr=learning_rate)\n",
        "    outputs = []\n",
        "    for epoch in range(num_epochs):\n",
        "        loss_counter = 0.0\n",
        "        counter = 0\n",
        "        for i, data in tqdm(enumerate(train_loader), total=int(len(trainset)/train_loader.batch_size)):\n",
        "            img, _ = data\n",
        "            recon = model(img)\n",
        "            loss = criterion(recon, img)\n",
        "            loss.backward()\n",
        "            optimizer.step()\n",
        "            optimizer.zero_grad()\n",
        "            loss_counter += loss.item()\n",
        "            counter += 1\n",
        "        print('Epoch:{}, Loss:{:.4f}'.format(epoch+1, loss_counter / counter))\n",
        "        loss_list.append(loss_counter / counter)\n",
        "        outputs.append((i, img, recon),)\n",
        "    plt.plot(loss_list)\n",
        "    plt.legend('loss', 'epochs')\n",
        "    plt.show()\n",
        "    torch.save(model.encoder.state_dict(), 'encoder_model.pth')\n",
        "    torch.save(model.decoder.state_dict(), 'decoder_model.pth')\n",
        "\n",
        "    return outputs\n",
        "\n",
        "model = ConvAutoencoder()\n",
        "max_epochs = 40\n",
        "outputs = train_autoencoder(model, num_epochs=max_epochs)\n",
        "\n",
        "for k in range(0, max_epochs):\n",
        "    plt.figure(figsize=(9, 2))\n",
        "    imgs = outputs[k][1].detach().numpy()\n",
        "    recon = outputs[k][2].detach().numpy()\n",
        "    for i, item in enumerate(imgs):\n",
        "        if i >= 9: break\n",
        "        plt.subplot(2, 9, i+1)\n",
        "        plt.imshow(item[0], cmap='gray')\n",
        "\n",
        "    for i, item in enumerate(recon):\n",
        "        if i >= 9: break\n",
        "        plt.subplot(2, 9, 9+i+1)\n",
        "        plt.imshow(item[0], cmap='gray')\n",
        "\n",
        "plt.show()\n"
      ],
      "metadata": {
        "id": "r966v9E9l-Zg"
      },
      "execution_count": null,
      "outputs": []
    },
    {
      "cell_type": "markdown",
      "source": [
        "# Decorrelation"
      ],
      "metadata": {
        "id": "OWH5sEfHC0ZI"
      }
    },
    {
      "cell_type": "code",
      "source": [
        "latents = [5, 8, 10, 14]\n",
        "result = dict()\n",
        "for latent in latents:\n",
        "    encoder = Encoder()\n",
        "    encoder.load_state_dict(copy.deepcopy(torch.load(f\"encoder_model_{latent}.pth\", device)))\n",
        "    trainloader = DataLoader(trainset, batch_size=1000, shuffle=True)\n",
        "    for i, data in enumerate(train_loader):\n",
        "        images, _ = data\n",
        "        latent = encoder(images)\n",
        "        if i == 0:\n",
        "          break\n",
        "    corr = torch.corrcoef(latent.T).detach().numpy().mean()\n",
        "    result[latent] = corr"
      ],
      "metadata": {
        "id": "YvNPZ1NiC5EM"
      },
      "execution_count": null,
      "outputs": []
    },
    {
      "cell_type": "markdown",
      "source": [
        "# MLP Architecture"
      ],
      "metadata": {
        "id": "l6wj-T-6mGVE"
      }
    },
    {
      "cell_type": "code",
      "source": [
        "class Mlp(nn.Module):\n",
        "    def __init__(self, input_dim=latent_dim):\n",
        "        super(Mlp, self).__init__()\n",
        "        self.linear1 = nn.Linear(input_dim, input_dim * 2)\n",
        "        self.linear2 = nn.Linear(input_dim * 2, input_dim)\n",
        "        self.linear3 = nn.Linear(input_dim, input_dim)\n",
        "        self.linear4 = nn.Linear(input_dim, 10)\n",
        "        self.relu = nn.ReLU()\n",
        "\n",
        "    def forward(self, x):\n",
        "        x = self.relu(self.linear1(x))\n",
        "        x = self.relu(self.linear2(x))\n",
        "        x = self.relu(self.linear3(x))\n",
        "        x = self.linear4(x)\n",
        "        return x        \n"
      ],
      "metadata": {
        "id": "iVNiG51OSwVI"
      },
      "execution_count": null,
      "outputs": []
    },
    {
      "cell_type": "markdown",
      "source": [
        "# MLP + Encoder Architecture"
      ],
      "metadata": {
        "id": "wcivd0gkw8SN"
      }
    },
    {
      "cell_type": "code",
      "source": [
        "class MLPEncoder(nn.Module):\n",
        "\n",
        "    def __init__(self):\n",
        "        super(MLPEncoder, self).__init__()\n",
        "        self.encoder = Encoder()\n",
        "        self.mlp = Mlp()\n",
        "\n",
        "    def forward(self, x):\n",
        "        x = self.encoder(x)\n",
        "        x = self.mlp(x)\n",
        "        return x"
      ],
      "metadata": {
        "id": "xb1ucB0Kw_6Q"
      },
      "execution_count": null,
      "outputs": []
    },
    {
      "cell_type": "markdown",
      "source": [
        "# Train MLP + Encoder"
      ],
      "metadata": {
        "id": "GN23vlTimxGp"
      }
    },
    {
      "cell_type": "code",
      "source": [
        "def train_classifier(model, train_loader, trainset, encoder, criterion, optimizer):\n",
        "    model.train()\n",
        "    loss_counter = 0.0\n",
        "    acc_counter = 0.0\n",
        "    counter = 0\n",
        "    for i, data in tqdm(enumerate(train_loader), total=int(len(trainset)/train_loader.batch_size)):\n",
        "        img, labels = data\n",
        "        if encoder:\n",
        "            img = encoder(img)\n",
        "        predict = model(img)\n",
        "        loss = criterion(predict, labels)\n",
        "        loss.backward()\n",
        "        optimizer.step()\n",
        "        optimizer.zero_grad()\n",
        "        loss_counter += loss.item()\n",
        "        acc_counter += calculate_accuracy(labels, predict).item()\n",
        "        counter += 1\n",
        "    return loss_counter, acc_counter, counter\n",
        "\n",
        "\n",
        "def eval_classifier(model, test_loader, testset, encoder, criterion):\n",
        "    model.eval()\n",
        "    loss_counter = 0.0\n",
        "    acc_counter = 0.0\n",
        "    counter = 0\n",
        "    for i, data in tqdm(enumerate(test_loader), total=int(len(testset) / test_loader.batch_size)):\n",
        "        img, labels = data\n",
        "        if encoder:\n",
        "            img = encoder(img)\n",
        "        predict = model(img)\n",
        "        loss = criterion(predict, labels)\n",
        "        loss_counter += loss.item()\n",
        "        acc_counter += calculate_accuracy(labels, predict).item()\n",
        "        counter += 1\n",
        "    return loss_counter, acc_counter, counter\n",
        "\n",
        "\n",
        "def classifier(model, num_epochs=10, learning_rate=1e-3, trainset=trainset_mlp, train_loader=train_loader_mlp, model_name='Mlp'):\n",
        "    loss_list = []\n",
        "    acc_list = []\n",
        "    loss_list_test = []\n",
        "    acc_list_test = []\n",
        "    torch.manual_seed(42)\n",
        "    criterion = nn.CrossEntropyLoss()  # cross entropy loss\n",
        "    optimizer = torch.optim.Adam(model.parameters(), lr=learning_rate)\n",
        "    encoder = None\n",
        "    if model_name == 'Mlp':\n",
        "        encoder = Encoder()\n",
        "        encoder.load_state_dict(copy.deepcopy(torch.load(\"encoder_model.pth\", device)))\n",
        "    for epoch in range(num_epochs):\n",
        "        loss_counter, acc_counter, counter = train_classifier(model, train_loader, trainset, encoder, criterion, optimizer)\n",
        "        loss_counter_test, acc_counter_test, counter_test = eval_classifier(model, testloader, testset, encoder, criterion)\n",
        "        print('Epoch:{}, Loss:{:.4f}'.format(epoch+1, loss_counter / counter))\n",
        "        print('Epoch:{}, acc:{:.4f}'.format(epoch+1, acc_counter / counter))\n",
        "        print('Epoch:{}, Loss test:{:.4f}'.format(epoch+1, loss_counter_test / counter_test))\n",
        "        print('Epoch:{}, acc test:{:.4f}'.format(epoch+1, acc_counter_test / counter_test))\n",
        "        loss_list.append(loss_counter / counter)\n",
        "        acc_list.append(100 * acc_counter / counter)\n",
        "        loss_list_test.append(loss_counter_test / counter_test)\n",
        "        acc_list_test.append(100 * acc_counter_test / counter_test)\n",
        "    plt.plot(loss_list)\n",
        "    plt.plot(loss_list_test)\n",
        "    plt.title('loss')\n",
        "    plt.legend(['train', 'test'])\n",
        "    plt.show()\n",
        "    plt.plot(acc_list)\n",
        "    plt.plot(acc_list_test)\n",
        "    plt.title('accuracy')\n",
        "    plt.legend(['train', 'test'])\n",
        "    plt.show()\n",
        "\n",
        "\n",
        "model = Mlp()\n",
        "max_epochs = 20\n",
        "outputs = classifier(model, num_epochs=max_epochs, learning_rate=0.02, model_name='Mlp')\n",
        "\n",
        "model = MLPEncoder()\n",
        "max_epochs = 20\n",
        "outputs = classifier(model, num_epochs=max_epochs, learning_rate=0.01, model_name='MLPEncoder')\n"
      ],
      "metadata": {
        "id": "6yyjNkQSm1om",
        "outputId": "6a1ac775-f64a-48a2-a694-2a412a9945ee",
        "colab": {
          "base_uri": "https://localhost:8080/",
          "height": 1000
        }
      },
      "execution_count": null,
      "outputs": [
        {
          "output_type": "stream",
          "name": "stderr",
          "text": [
            "4it [00:00, 27.47it/s]                       \n",
            "157it [00:04, 39.19it/s]\n"
          ]
        },
        {
          "output_type": "stream",
          "name": "stdout",
          "text": [
            "Epoch:1, Loss:2.2079\n",
            "Epoch:1, acc:0.1745\n",
            "Epoch:1, Loss test:1.7912\n",
            "Epoch:1, acc test:0.3838\n"
          ]
        },
        {
          "output_type": "stream",
          "name": "stderr",
          "text": [
            "4it [00:00, 29.42it/s]                       \n",
            "157it [00:04, 38.79it/s]                         \n"
          ]
        },
        {
          "output_type": "stream",
          "name": "stdout",
          "text": [
            "Epoch:2, Loss:1.5376\n",
            "Epoch:2, acc:0.5026\n",
            "Epoch:2, Loss test:1.2943\n",
            "Epoch:2, acc test:0.5316\n"
          ]
        },
        {
          "output_type": "stream",
          "name": "stderr",
          "text": [
            "4it [00:00, 31.88it/s]                       \n",
            "157it [00:03, 39.39it/s]                         \n"
          ]
        },
        {
          "output_type": "stream",
          "name": "stdout",
          "text": [
            "Epoch:3, Loss:1.1585\n",
            "Epoch:3, acc:0.5755\n",
            "Epoch:3, Loss test:1.3047\n",
            "Epoch:3, acc test:0.5152\n"
          ]
        },
        {
          "output_type": "stream",
          "name": "stderr",
          "text": [
            "4it [00:00, 32.02it/s]                       \n",
            "157it [00:04, 39.02it/s]                         \n"
          ]
        },
        {
          "output_type": "stream",
          "name": "stdout",
          "text": [
            "Epoch:4, Loss:0.9166\n",
            "Epoch:4, acc:0.6497\n",
            "Epoch:4, Loss test:1.1563\n",
            "Epoch:4, acc test:0.6157\n"
          ]
        },
        {
          "output_type": "stream",
          "name": "stderr",
          "text": [
            "4it [00:00, 29.84it/s]                       \n",
            "157it [00:04, 38.68it/s]                         \n"
          ]
        },
        {
          "output_type": "stream",
          "name": "stdout",
          "text": [
            "Epoch:5, Loss:0.9157\n",
            "Epoch:5, acc:0.6289\n",
            "Epoch:5, Loss test:0.9306\n",
            "Epoch:5, acc test:0.7222\n"
          ]
        },
        {
          "output_type": "stream",
          "name": "stderr",
          "text": [
            "4it [00:00, 29.49it/s]                       \n",
            "157it [00:04, 38.84it/s]                         \n"
          ]
        },
        {
          "output_type": "stream",
          "name": "stdout",
          "text": [
            "Epoch:6, Loss:0.5214\n",
            "Epoch:6, acc:0.8021\n",
            "Epoch:6, Loss test:0.8292\n",
            "Epoch:6, acc test:0.7567\n"
          ]
        },
        {
          "output_type": "stream",
          "name": "stderr",
          "text": [
            "4it [00:00, 29.57it/s]                       \n",
            "157it [00:04, 39.03it/s]                         \n"
          ]
        },
        {
          "output_type": "stream",
          "name": "stdout",
          "text": [
            "Epoch:7, Loss:0.4697\n",
            "Epoch:7, acc:0.8646\n",
            "Epoch:7, Loss test:0.8325\n",
            "Epoch:7, acc test:0.7714\n"
          ]
        },
        {
          "output_type": "stream",
          "name": "stderr",
          "text": [
            "4it [00:00, 28.57it/s]                       \n",
            "157it [00:04, 38.45it/s]                         \n"
          ]
        },
        {
          "output_type": "stream",
          "name": "stdout",
          "text": [
            "Epoch:8, Loss:0.3614\n",
            "Epoch:8, acc:0.8867\n",
            "Epoch:8, Loss test:0.9576\n",
            "Epoch:8, acc test:0.7317\n"
          ]
        },
        {
          "output_type": "stream",
          "name": "stderr",
          "text": [
            "4it [00:00, 30.27it/s]                       \n",
            "157it [00:04, 37.69it/s]                         \n"
          ]
        },
        {
          "output_type": "stream",
          "name": "stdout",
          "text": [
            "Epoch:9, Loss:0.2924\n",
            "Epoch:9, acc:0.8867\n",
            "Epoch:9, Loss test:1.0377\n",
            "Epoch:9, acc test:0.7499\n"
          ]
        },
        {
          "output_type": "stream",
          "name": "stderr",
          "text": [
            "4it [00:00, 30.07it/s]                       \n",
            "157it [00:04, 38.78it/s]                         \n"
          ]
        },
        {
          "output_type": "stream",
          "name": "stdout",
          "text": [
            "Epoch:10, Loss:0.2923\n",
            "Epoch:10, acc:0.8945\n",
            "Epoch:10, Loss test:0.9600\n",
            "Epoch:10, acc test:0.7793\n"
          ]
        },
        {
          "output_type": "stream",
          "name": "stderr",
          "text": [
            "4it [00:00, 31.19it/s]                       \n",
            "157it [00:03, 39.37it/s]                         \n"
          ]
        },
        {
          "output_type": "stream",
          "name": "stdout",
          "text": [
            "Epoch:11, Loss:0.1788\n",
            "Epoch:11, acc:0.9531\n",
            "Epoch:11, Loss test:0.8169\n",
            "Epoch:11, acc test:0.8051\n"
          ]
        },
        {
          "output_type": "stream",
          "name": "stderr",
          "text": [
            "4it [00:00, 30.74it/s]                       \n",
            "157it [00:04, 39.11it/s]                         \n"
          ]
        },
        {
          "output_type": "stream",
          "name": "stdout",
          "text": [
            "Epoch:12, Loss:0.1075\n",
            "Epoch:12, acc:0.9609\n",
            "Epoch:12, Loss test:0.8335\n",
            "Epoch:12, acc test:0.8109\n"
          ]
        },
        {
          "output_type": "stream",
          "name": "stderr",
          "text": [
            "4it [00:00, 30.86it/s]                       \n",
            "157it [00:04, 39.09it/s]                         \n"
          ]
        },
        {
          "output_type": "stream",
          "name": "stdout",
          "text": [
            "Epoch:13, Loss:0.1758\n",
            "Epoch:13, acc:0.9466\n",
            "Epoch:13, Loss test:0.9220\n",
            "Epoch:13, acc test:0.8011\n"
          ]
        },
        {
          "output_type": "stream",
          "name": "stderr",
          "text": [
            "4it [00:00, 30.61it/s]                       \n",
            "157it [00:04, 38.24it/s]                         \n"
          ]
        },
        {
          "output_type": "stream",
          "name": "stdout",
          "text": [
            "Epoch:14, Loss:0.2553\n",
            "Epoch:14, acc:0.9414\n",
            "Epoch:14, Loss test:1.1996\n",
            "Epoch:14, acc test:0.7680\n"
          ]
        },
        {
          "output_type": "stream",
          "name": "stderr",
          "text": [
            "4it [00:00, 30.37it/s]                       \n",
            "157it [00:04, 38.68it/s]                         \n"
          ]
        },
        {
          "output_type": "stream",
          "name": "stdout",
          "text": [
            "Epoch:15, Loss:0.1414\n",
            "Epoch:15, acc:0.9492\n",
            "Epoch:15, Loss test:0.9621\n",
            "Epoch:15, acc test:0.8039\n"
          ]
        },
        {
          "output_type": "stream",
          "name": "stderr",
          "text": [
            "4it [00:00, 27.65it/s]                       \n",
            "157it [00:04, 38.10it/s]                         \n"
          ]
        },
        {
          "output_type": "stream",
          "name": "stdout",
          "text": [
            "Epoch:16, Loss:0.1096\n",
            "Epoch:16, acc:0.9648\n",
            "Epoch:16, Loss test:0.9808\n",
            "Epoch:16, acc test:0.8048\n"
          ]
        },
        {
          "output_type": "stream",
          "name": "stderr",
          "text": [
            "4it [00:00, 27.58it/s]                       \n",
            "157it [00:04, 38.71it/s]                         \n"
          ]
        },
        {
          "output_type": "stream",
          "name": "stdout",
          "text": [
            "Epoch:17, Loss:0.0426\n",
            "Epoch:17, acc:0.9883\n",
            "Epoch:17, Loss test:1.0157\n",
            "Epoch:17, acc test:0.8021\n"
          ]
        },
        {
          "output_type": "stream",
          "name": "stderr",
          "text": [
            "4it [00:00, 30.72it/s]                       \n",
            "157it [00:04, 38.70it/s]                         \n"
          ]
        },
        {
          "output_type": "stream",
          "name": "stdout",
          "text": [
            "Epoch:18, Loss:0.0520\n",
            "Epoch:18, acc:0.9844\n",
            "Epoch:18, Loss test:0.9820\n",
            "Epoch:18, acc test:0.8032\n"
          ]
        },
        {
          "output_type": "stream",
          "name": "stderr",
          "text": [
            "4it [00:00, 30.39it/s]                       \n",
            "157it [00:04, 38.89it/s]                         \n"
          ]
        },
        {
          "output_type": "stream",
          "name": "stdout",
          "text": [
            "Epoch:19, Loss:0.0238\n",
            "Epoch:19, acc:1.0000\n",
            "Epoch:19, Loss test:0.9429\n",
            "Epoch:19, acc test:0.8158\n"
          ]
        },
        {
          "output_type": "stream",
          "name": "stderr",
          "text": [
            "4it [00:00, 27.85it/s]                       \n",
            "157it [00:03, 39.46it/s]                         \n"
          ]
        },
        {
          "output_type": "stream",
          "name": "stdout",
          "text": [
            "Epoch:20, Loss:0.0146\n",
            "Epoch:20, acc:1.0000\n",
            "Epoch:20, Loss test:0.9314\n",
            "Epoch:20, acc test:0.8215\n"
          ]
        },
        {
          "output_type": "display_data",
          "data": {
            "image/png": "[encoded data removed]",
            "text/plain": [
              "<Figure size 432x288 with 1 Axes>"
            ]
          },
          "metadata": {
            "needs_background": "light"
          }
        },
        {
          "output_type": "display_data",
          "data": {
            "image/png": "[encoded data removed]",
            "text/plain": [
              "<Figure size 432x288 with 1 Axes>"
            ]
          },
          "metadata": {
            "needs_background": "light"
          }
        },
        {
          "output_type": "stream",
          "name": "stderr",
          "text": [
            "4it [00:00, 31.65it/s]                       \n",
            "157it [00:04, 38.99it/s]\n"
          ]
        },
        {
          "output_type": "stream",
          "name": "stdout",
          "text": [
            "Epoch:1, Loss:2.3203\n",
            "Epoch:1, acc:0.1081\n",
            "Epoch:1, Loss test:2.3057\n",
            "Epoch:1, acc test:0.1136\n"
          ]
        },
        {
          "output_type": "stream",
          "name": "stderr",
          "text": [
            "4it [00:00, 29.97it/s]                       \n",
            "157it [00:04, 38.62it/s]                         \n"
          ]
        },
        {
          "output_type": "stream",
          "name": "stdout",
          "text": [
            "Epoch:2, Loss:2.3240\n",
            "Epoch:2, acc:0.0820\n",
            "Epoch:2, Loss test:2.3069\n",
            "Epoch:2, acc test:0.0423\n"
          ]
        },
        {
          "output_type": "stream",
          "name": "stderr",
          "text": [
            "4it [00:00, 27.85it/s]                       \n",
            "157it [00:04, 39.07it/s]                         \n"
          ]
        },
        {
          "output_type": "stream",
          "name": "stdout",
          "text": [
            "Epoch:3, Loss:2.3005\n",
            "Epoch:3, acc:0.0469\n",
            "Epoch:3, Loss test:2.3033\n",
            "Epoch:3, acc test:0.1136\n"
          ]
        },
        {
          "output_type": "stream",
          "name": "stderr",
          "text": [
            "4it [00:00, 27.88it/s]                       \n",
            "157it [00:03, 39.34it/s]                         \n"
          ]
        },
        {
          "output_type": "stream",
          "name": "stdout",
          "text": [
            "Epoch:4, Loss:2.3148\n",
            "Epoch:4, acc:0.0859\n",
            "Epoch:4, Loss test:2.3033\n",
            "Epoch:4, acc test:0.1136\n"
          ]
        },
        {
          "output_type": "stream",
          "name": "stderr",
          "text": [
            "4it [00:00, 28.19it/s]                       \n",
            "157it [00:04, 39.21it/s]                         \n"
          ]
        },
        {
          "output_type": "stream",
          "name": "stdout",
          "text": [
            "Epoch:5, Loss:2.3069\n",
            "Epoch:5, acc:0.0859\n",
            "Epoch:5, Loss test:2.3033\n",
            "Epoch:5, acc test:0.1136\n"
          ]
        },
        {
          "output_type": "stream",
          "name": "stderr",
          "text": [
            "4it [00:00, 31.22it/s]                       \n",
            "157it [00:03, 39.26it/s]                         \n"
          ]
        },
        {
          "output_type": "stream",
          "name": "stdout",
          "text": [
            "Epoch:6, Loss:2.2938\n",
            "Epoch:6, acc:0.1237\n",
            "Epoch:6, Loss test:2.3029\n",
            "Epoch:6, acc test:0.1136\n"
          ]
        },
        {
          "output_type": "stream",
          "name": "stderr",
          "text": [
            "4it [00:00, 29.86it/s]                       \n",
            "157it [00:03, 39.36it/s]                         \n"
          ]
        },
        {
          "output_type": "stream",
          "name": "stdout",
          "text": [
            "Epoch:7, Loss:2.2828\n",
            "Epoch:7, acc:0.0859\n",
            "Epoch:7, Loss test:2.3016\n",
            "Epoch:7, acc test:0.1151\n"
          ]
        },
        {
          "output_type": "stream",
          "name": "stderr",
          "text": [
            "4it [00:00, 30.27it/s]                       \n",
            "157it [00:03, 39.35it/s]                         \n"
          ]
        },
        {
          "output_type": "stream",
          "name": "stdout",
          "text": [
            "Epoch:8, Loss:2.2998\n",
            "Epoch:8, acc:0.1237\n",
            "Epoch:8, Loss test:2.2946\n",
            "Epoch:8, acc test:0.1011\n"
          ]
        },
        {
          "output_type": "stream",
          "name": "stderr",
          "text": [
            "4it [00:00, 29.92it/s]                       \n",
            "157it [00:03, 39.69it/s]                         \n"
          ]
        },
        {
          "output_type": "stream",
          "name": "stdout",
          "text": [
            "Epoch:9, Loss:2.2789\n",
            "Epoch:9, acc:0.0938\n",
            "Epoch:9, Loss test:2.2575\n",
            "Epoch:9, acc test:0.1011\n"
          ]
        },
        {
          "output_type": "stream",
          "name": "stderr",
          "text": [
            "4it [00:00, 30.57it/s]                       \n",
            "157it [00:04, 39.20it/s]                         \n"
          ]
        },
        {
          "output_type": "stream",
          "name": "stdout",
          "text": [
            "Epoch:10, Loss:2.2294\n",
            "Epoch:10, acc:0.1289\n",
            "Epoch:10, Loss test:2.1716\n",
            "Epoch:10, acc test:0.1968\n"
          ]
        },
        {
          "output_type": "stream",
          "name": "stderr",
          "text": [
            "4it [00:00, 31.39it/s]                       \n",
            "157it [00:04, 38.82it/s]                         \n"
          ]
        },
        {
          "output_type": "stream",
          "name": "stdout",
          "text": [
            "Epoch:11, Loss:2.0343\n",
            "Epoch:11, acc:0.2135\n",
            "Epoch:11, Loss test:2.0380\n",
            "Epoch:11, acc test:0.2014\n"
          ]
        },
        {
          "output_type": "stream",
          "name": "stderr",
          "text": [
            "4it [00:00, 30.65it/s]                       \n",
            "157it [00:03, 39.44it/s]                         \n"
          ]
        },
        {
          "output_type": "stream",
          "name": "stdout",
          "text": [
            "Epoch:12, Loss:1.7716\n",
            "Epoch:12, acc:0.3281\n",
            "Epoch:12, Loss test:1.9602\n",
            "Epoch:12, acc test:0.3697\n"
          ]
        },
        {
          "output_type": "stream",
          "name": "stderr",
          "text": [
            "4it [00:00, 29.40it/s]                       \n",
            "157it [00:04, 39.13it/s]                         \n"
          ]
        },
        {
          "output_type": "stream",
          "name": "stdout",
          "text": [
            "Epoch:13, Loss:1.7572\n",
            "Epoch:13, acc:0.3581\n",
            "Epoch:13, Loss test:1.7619\n",
            "Epoch:13, acc test:0.3134\n"
          ]
        },
        {
          "output_type": "stream",
          "name": "stderr",
          "text": [
            "4it [00:00, 33.34it/s]                       \n",
            "157it [00:04, 39.14it/s]                         \n"
          ]
        },
        {
          "output_type": "stream",
          "name": "stdout",
          "text": [
            "Epoch:14, Loss:1.5848\n",
            "Epoch:14, acc:0.2799\n",
            "Epoch:14, Loss test:1.6255\n",
            "Epoch:14, acc test:0.3323\n"
          ]
        },
        {
          "output_type": "stream",
          "name": "stderr",
          "text": [
            "4it [00:00, 29.92it/s]                       \n",
            "157it [00:03, 39.28it/s]                         \n"
          ]
        },
        {
          "output_type": "stream",
          "name": "stdout",
          "text": [
            "Epoch:15, Loss:1.3246\n",
            "Epoch:15, acc:0.4596\n",
            "Epoch:15, Loss test:1.4908\n",
            "Epoch:15, acc test:0.4737\n"
          ]
        },
        {
          "output_type": "stream",
          "name": "stderr",
          "text": [
            "4it [00:00, 30.53it/s]                       \n",
            "157it [00:04, 38.48it/s]                         \n"
          ]
        },
        {
          "output_type": "stream",
          "name": "stdout",
          "text": [
            "Epoch:16, Loss:1.3316\n",
            "Epoch:16, acc:0.4779\n",
            "Epoch:16, Loss test:1.5902\n",
            "Epoch:16, acc test:0.4731\n"
          ]
        },
        {
          "output_type": "stream",
          "name": "stderr",
          "text": [
            "4it [00:00, 31.43it/s]                       \n",
            "157it [00:04, 38.50it/s]                         \n"
          ]
        },
        {
          "output_type": "stream",
          "name": "stdout",
          "text": [
            "Epoch:17, Loss:1.1619\n",
            "Epoch:17, acc:0.6146\n",
            "Epoch:17, Loss test:1.3080\n",
            "Epoch:17, acc test:0.5621\n"
          ]
        },
        {
          "output_type": "stream",
          "name": "stderr",
          "text": [
            "4it [00:00, 31.58it/s]                       \n",
            "157it [00:04, 38.59it/s]                         \n"
          ]
        },
        {
          "output_type": "stream",
          "name": "stdout",
          "text": [
            "Epoch:18, Loss:1.1076\n",
            "Epoch:18, acc:0.5495\n",
            "Epoch:18, Loss test:1.4054\n",
            "Epoch:18, acc test:0.5031\n"
          ]
        },
        {
          "output_type": "stream",
          "name": "stderr",
          "text": [
            "4it [00:00, 29.23it/s]                       \n",
            "157it [00:03, 39.72it/s]                         \n"
          ]
        },
        {
          "output_type": "stream",
          "name": "stdout",
          "text": [
            "Epoch:19, Loss:1.1689\n",
            "Epoch:19, acc:0.6003\n",
            "Epoch:19, Loss test:1.3590\n",
            "Epoch:19, acc test:0.5662\n"
          ]
        },
        {
          "output_type": "stream",
          "name": "stderr",
          "text": [
            "4it [00:00, 27.44it/s]                       \n",
            "157it [00:04, 38.65it/s]                         \n"
          ]
        },
        {
          "output_type": "stream",
          "name": "stdout",
          "text": [
            "Epoch:20, Loss:1.0115\n",
            "Epoch:20, acc:0.5938\n",
            "Epoch:20, Loss test:1.3625\n",
            "Epoch:20, acc test:0.5561\n"
          ]
        },
        {
          "output_type": "display_data",
          "data": {
            "image/png": "[encoded data removed]",
            "text/plain": [
              "<Figure size 432x288 with 1 Axes>"
            ]
          },
          "metadata": {
            "needs_background": "light"
          }
        },
        {
          "output_type": "display_data",
          "data": {
            "image/png": "[encoded data removed]",
            "text/plain": [
              "<Figure size 432x288 with 1 Axes>"
            ]
          },
          "metadata": {
            "needs_background": "light"
          }
        }
      ]
    },
    {
      "cell_type": "markdown",
      "source": [
        "# GAN Architecture"
      ],
      "metadata": {
        "id": "aCNhPGtAyv5y"
      }
    },
    {
      "cell_type": "code",
      "source": [
        "class Generator(nn.Module):\n",
        "    def __init__(self, input_dim=latent_dim):\n",
        "        super(Generator, self).__init__()\n",
        "        self.linear1 = nn.Linear(input_dim, input_dim * 2)\n",
        "        self.linear2 = nn.Linear(input_dim * 2, input_dim * 2)\n",
        "        # self.linear3 = nn.Linear(input_dim * 2, input_dim * 2)\n",
        "        # self.linear4 = nn.Linear(input_dim * 2, input_dim * 2)\n",
        "        # self.linear5 = nn.Linear(input_dim * 2, input_dim)\n",
        "        self.linear6 = nn.Linear(input_dim * 2, latent_dim)\n",
        "        self.relu = nn.ReLU()\n",
        "\n",
        "    def forward(self, x):\n",
        "        x = self.relu(self.linear1(x))\n",
        "        # x = self.relu(self.linear2(x))\n",
        "        # x = self.relu(self.linear3(x))\n",
        "        # x = self.relu(self.linear4(x))\n",
        "        # x = self.relu(self.linear5(x))\n",
        "        x = self.linear6(x)\n",
        "        return x\n",
        "\n",
        "\n",
        "class Discriminator(nn.Module):\n",
        "    def __init__(self):\n",
        "        super(Discriminator, self).__init__()\n",
        "        self.linear1 = nn.Linear(latent_dim, latent_dim * 2)\n",
        "        self.linear2 = nn.Linear(latent_dim * 2, latent_dim * 2)\n",
        "        # self.linear3 = nn.Linear(latent_dim * 2, latent_dim * 2)\n",
        "        # self.linear4 = nn.Linear(latent_dim * 2, latent_dim * 2)\n",
        "        # self.linear5 = nn.Linear(latent_dim * 2, latent_dim)\n",
        "        self.linear6 = nn.Linear(latent_dim * 2, 1)\n",
        "        self.relu = nn.ReLU()\n",
        "        self.sigmoid = nn.Sigmoid()\n",
        "\n",
        "    def forward(self, x):\n",
        "        x = self.relu(self.linear1(x))\n",
        "        x = self.relu(self.linear2(x))\n",
        "        # x = self.relu(self.linear3(x))\n",
        "        # x = self.relu(self.linear4(x))\n",
        "        # x = self.relu(self.linear5(x))\n",
        "        x = self.sigmoid(self.linear6(x))\n",
        "        return x"
      ],
      "metadata": {
        "id": "5FvZIMqoyy-T"
      },
      "execution_count": null,
      "outputs": []
    },
    {
      "cell_type": "markdown",
      "source": [
        "# Train GAN"
      ],
      "metadata": {
        "id": "ORisDuMu975K"
      }
    },
    {
      "cell_type": "code",
      "source": [
        "batch_size=100\n",
        "\n",
        "def generate_latent(number_of_images=batch_size, latent_dimension=latent_dim):\n",
        "    \"\"\" Generate noise for number_of_images images, with a specific noise_dimension \"\"\"\n",
        "    return torch.randn(number_of_images, latent_dimension)\n",
        "\n",
        "\n",
        "def initialize_optimizers(generator, discriminator, lr_genrator, lr_discriminator):\n",
        "    \"\"\" Initialize optimizers for Generator and Discriminator. \"\"\"\n",
        "    generator_optimizer = torch.optim.Adam(generator.parameters(), lr=lr_genrator, betas=(0.5, 0.999))\n",
        "    discriminator_optimizer = torch.optim.Adam(discriminator.parameters(), lr=lr_discriminator, betas=(0.5, 0.999))\n",
        "    return generator_optimizer, discriminator_optimizer\n",
        "\n",
        "\n",
        "def train_epoch(generator, discriminator, encoder, loss_function, generator_optimizer, discriminator_optimizer):\n",
        "    real_label, fake_label = 1.0, 0.0\n",
        "    loss_dis = 0.0\n",
        "    loss_gen = 0.0\n",
        "    counter = 0\n",
        "    for i, data in tqdm(enumerate(trainloader), total=int(len(trainset)/trainloader.batch_size)):\n",
        "        # train discriminator\n",
        "        discriminator.zero_grad()\n",
        "        img, _ = data\n",
        "        real_images = encoder(img)\n",
        "        label = torch.full((img.shape[0],1), real_label)\n",
        "        output = discriminator(real_images)\n",
        "        error_real_images = loss_function(output, label)\n",
        "        error_real_images.backward()\n",
        "        D_x = output.mean().item()\n",
        "\n",
        "        latent = generate_latent(img.shape[0])\n",
        "        fake = generator(latent)\n",
        "        label.fill_(fake_label)\n",
        "        output = discriminator(fake.detach())\n",
        "        error_fake_images = loss_function(output, label)\n",
        "        error_fake_images.backward()\n",
        "        D_G_z1 = output.mean().item()\n",
        "        errD = error_real_images + error_fake_images\n",
        "        discriminator_optimizer.step()\n",
        "\n",
        "        # train generator\n",
        "        generator.zero_grad()\n",
        "        label.fill_(real_label)\n",
        "        output = discriminator(fake)\n",
        "        errG = loss_function(output, label)\n",
        "        errG.backward()\n",
        "        D_G_z2 = output.mean().item()\n",
        "        generator_optimizer.step()\n",
        "\n",
        "        loss_dis += errD\n",
        "        loss_gen += errG\n",
        "        counter += 1\n",
        "    return loss_dis / counter, loss_gen / counter\n",
        "\n",
        "\n",
        "def train(generator, discriminator, num_epochs=30, lr_discriminator=1e-3, lr_generator=1e-3, trainset=trainset, train_loader=trainloader):\n",
        "    loss_discriminator = []\n",
        "    loss_generator = []\n",
        "    torch.manual_seed(42)\n",
        "    encoder = Encoder()\n",
        "    encoder.load_state_dict(copy.deepcopy(torch.load(\"encoder_model.pth\", device)))\n",
        "    criterion = nn.BCELoss()\n",
        "    generator_optimizer, discriminator_optimizer = initialize_optimizers(generator, discriminator, lr_generator, lr_discriminator)\n",
        "    for epoch in range(num_epochs):\n",
        "        loss_dis, loss_gen = train_epoch(generator, discriminator, encoder, criterion, generator_optimizer, discriminator_optimizer)\n",
        "        print('Epoch:{}, Loss discriminator:{:.4f}'.format(epoch+1, loss_dis))\n",
        "        print('Epoch:{}, Loss generator:{:.4f}'.format(epoch+1, loss_gen))\n",
        "        loss_discriminator.append(loss_dis)\n",
        "        loss_generator.append(loss_gen)\n",
        "        generate_images(generator)\n",
        "    print(loss_discriminator, loss_generator)\n",
        "    plt.plot(loss_discriminator)\n",
        "    plt.plot(loss_generator)\n",
        "    plt.title('GAN loss')\n",
        "    plt.legend(['discriminator', 'generator'])\n",
        "    plt.show()\n",
        "    torch.save(generator.state_dict(), 'generator.pth')\n",
        "    \n",
        "\n",
        "\n",
        "generator = Generator()\n",
        "discriminator = Discriminator()\n",
        "\n",
        "def generate_images(generator):\n",
        "    decoder = Decoder()\n",
        "    decoder.load_state_dict(copy.deepcopy(torch.load(\"decoder_model.pth\", device)))\n",
        "\n",
        "    latents = generate_latent()\n",
        "    generate_images = generator(latents)\n",
        "    outputs = decoder(generate_images)\n",
        "\n",
        "    plt.figure(figsize=(4, 4))\n",
        "    fig = plt.gcf()\n",
        "    fig.set_size_inches(6, 6)\n",
        "    recon = outputs.detach().numpy()\n",
        "    for i, item in enumerate(recon):\n",
        "        if i >= 16: break\n",
        "        plt.subplot(4, 4, 0+i+1)\n",
        "        plt.imshow(item[0], cmap='gray')\n",
        "\n",
        "    plt.show()\n",
        "\n",
        "\n",
        "num_epochs = 2\n",
        "train(generator, discriminator, num_epochs, lr_discriminator=0.0001, lr_generator=0.0001)"
      ],
      "metadata": {
        "id": "6kOIGxqo9-BJ",
        "outputId": "f7719155-0f0f-4969-e746-87545721f3ff",
        "colab": {
          "base_uri": "https://localhost:8080/",
          "height": 1000
        }
      },
      "execution_count": null,
      "outputs": [
        {
          "output_type": "stream",
          "name": "stderr",
          "text": [
            "938it [00:35, 26.47it/s]                         \n"
          ]
        },
        {
          "output_type": "stream",
          "name": "stdout",
          "text": [
            "Epoch:1, Loss discriminator:0.7145\n",
            "Epoch:1, Loss generator:0.8137\n"
          ]
        },
        {
          "output_type": "display_data",
          "data": {
            "image/png": "[encoded data removed]",
            "text/plain": [
              "<Figure size 432x432 with 16 Axes>"
            ]
          },
          "metadata": {
            "needs_background": "light"
          }
        },
        {
          "output_type": "stream",
          "name": "stderr",
          "text": [
            "938it [00:35, 26.73it/s]                         \n"
          ]
        },
        {
          "output_type": "stream",
          "name": "stdout",
          "text": [
            "Epoch:2, Loss discriminator:0.2103\n",
            "Epoch:2, Loss generator:1.9807\n"
          ]
        },
        {
          "output_type": "display_data",
          "data": {
            "image/png": "[encoded data removed]",
            "text/plain": [
              "<Figure size 432x432 with 16 Axes>"
            ]
          },
          "metadata": {
            "needs_background": "light"
          }
        },
        {
          "output_type": "stream",
          "name": "stdout",
          "text": [
            "[tensor(0.7145, grad_fn=<DivBackward0>), tensor(0.2103, grad_fn=<DivBackward0>)] [tensor(0.8137, grad_fn=<DivBackward0>), tensor(1.9807, grad_fn=<DivBackward0>)]\n"
          ]
        },
        {
          "output_type": "display_data",
          "data": {
            "image/png": "[encoded data removed]",
            "text/plain": [
              "<Figure size 432x288 with 1 Axes>"
            ]
          },
          "metadata": {
            "needs_background": "light"
          }
        }
      ]
    },
    {
      "cell_type": "markdown",
      "source": [
        "# Generate images"
      ],
      "metadata": {
        "id": "ZfkDfBTeWklh"
      }
    },
    {
      "cell_type": "code",
      "source": [
        ""
      ],
      "metadata": {
        "id": "tgZJ8zK3QZ8w"
      },
      "execution_count": null,
      "outputs": []
    }
  ]
}